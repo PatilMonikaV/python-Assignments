{
 "cells": [
  {
   "cell_type": "markdown",
   "id": "eaf60918-0eaa-4674-a1ae-1854d70e4de2",
   "metadata": {},
   "source": [
    "Q1. What is multithreading in python? why is it used? Name the module used to handle threads in python"
   ]
  },
  {
   "cell_type": "markdown",
   "id": "21f65b90-19bd-44b1-991b-13e8736c6a3d",
   "metadata": {},
   "source": [
    "Multithreading in Python is the ability to run multiple threads simultaneously. A thread is a lightweight process that can run independently of other threads. Threads can be used to improve the performance of a program by allowing multiple tasks to be executed at the same time.\n",
    "The threading module is used to handle threads in Python. The threading module provides a number of classes and functions for creating and managing threads.\n",
    "\n",
    "Here are some of the advantages of using multithreading in Python:\n",
    "\n",
    "Improved performance: Multithreading can improve the performance of a program by allowing multiple tasks to be executed at the same time.\n",
    "\n",
    "Increased responsiveness: Multithreading can increase the responsiveness of a program by allowing it to continue to handle other tasks while one task is blocked.\n",
    "\n",
    "Better resource utilization: Multithreading can improve the resource utilization of a program by allowing it to share resources between multiple threads.\n",
    "\n",
    "Threading Modules \n",
    "Threading Modules. The threading module is a high-level implementation of multithreading used to deploy an application in Python. To use multithreading, we need to import the threading module in Python Program."
   ]
  },
  {
   "cell_type": "markdown",
   "id": "38ee3f92-b3b0-47dc-9eee-99d4624daf55",
   "metadata": {},
   "source": [
    "Q2. why threading module used? write the use of the following functions:  \n",
    "1 activeCount()  \n",
    "2 currentThread()   \n",
    "3 enumerate()"
   ]
  },
  {
   "cell_type": "markdown",
   "id": "cce84444-2dde-4fa5-a00d-4313d5ce26d3",
   "metadata": {},
   "source": [
    "Here are some of the advantages of using the threading module in Python:\n",
    "\n",
    "It allows multiple tasks to run concurrently. This can improve the performance of your program by allowing it to take advantage of multiple cores or processors.\n",
    "\n",
    "It can make your program more responsive to user input. This is because the program can continue to run other tasks while it is waiting for user input.\n",
    "\n",
    "It can simplify the design of your program. By using threads, you can avoid having to write complex code to coordinate the execution of multiple tasks.\n",
    "\n",
    "Here are some of the uses of the following functions in the threading module:\n",
    "\n",
    "activeCount(): This function returns the number of active threads in the current process.\n",
    "\n",
    "currentThread(): This function returns the current thread object.\n",
    "\n",
    "enumerate(): This function returns a list of all active threads in the current process."
   ]
  },
  {
   "cell_type": "code",
   "execution_count": 1,
   "id": "50ad9e8f-9c1e-44c5-aed5-9e6f87c286a1",
   "metadata": {},
   "outputs": [],
   "source": [
    "import threading\n",
    "\n",
    "def my_function():\n",
    "    pass\n",
    "\n",
    "# Create a new thread\n",
    "t = threading.Thread(target=my_function)\n",
    "\n",
    "# Start the thread\n",
    "t.start()\n",
    "\n",
    "# Get the number of active threads\n",
    "num_active_threads = threading.active_count()\n",
    "\n",
    "# Get the current thread object\n",
    "current_thread = threading.current_thread()\n",
    "\n",
    "# Get a list of all active threads\n",
    "all_threads = threading.enumerate()"
   ]
  },
  {
   "cell_type": "markdown",
   "id": "9aeb245b-bb27-4a6d-801f-7b219c6dbf65",
   "metadata": {},
   "source": [
    "3.Explain the following functions  \n",
    "run()  \n",
    "start()    \n",
    "join()  \n",
    "isAlive()  "
   ]
  },
  {
   "cell_type": "markdown",
   "id": "5ea21006-98d1-43c8-8370-82e0168a08bc",
   "metadata": {},
   "source": [
    "run()  \n",
    "The run() method is a special method that is called when a thread is started. This is where you will put the code that you want the thread to execute.\n",
    "\n",
    "start()  \n",
    "The start() method starts the thread. This is what actually causes the run() method to be called.\n",
    "\n",
    "join()  \n",
    "The join() method blocks the calling thread until the thread whose join() method is called terminates. This means that the current thread will wait until the other thread is finished executing before it continues.\n",
    "\n",
    "isAlive()  \n",
    "The isAlive() method returns True if the thread is still executing, False otherwise."
   ]
  },
  {
   "cell_type": "code",
   "execution_count": 6,
   "id": "7378952c-d70f-4a8e-90ad-677fd5d04ebe",
   "metadata": {},
   "outputs": [
    {
     "name": "stdout",
     "output_type": "stream",
     "text": [
      "The Child Thread sleep count is 1\n",
      "Main thread is starting to wait for 5 seconds\n",
      "The Child Thread sleep count is 2\n",
      "Main thread says : I cant't wait for more than 5 \\ seconds for the child thread;\n",
      " Will ask child thread to stop\n",
      "Asked to stop\n",
      "A Child Thread is exiting\n",
      "Main thread says : Now I do something else to compensate\\ the child thread task and exit\n",
      "Main thread is exiting\n"
     ]
    }
   ],
   "source": [
    "from threading import Thread \n",
    "from threading import Event \n",
    "import time   \n",
    "  \n",
    "class Connection(Thread):\n",
    "    StopEvent = 0\n",
    "    def __init__(self,args): \n",
    "        Thread.__init__(self) \n",
    "        self.StopEvent = args \n",
    "  \n",
    "    def run(self): \n",
    "        for i in range(1,10): \n",
    "            if(self.StopEvent.wait(0)): \n",
    "                print (\"Asked to stop\") \n",
    "                break; \n",
    "   \n",
    "            print(\"The Child Thread sleep count is %d\"%(i)) \n",
    "            time.sleep(3) \n",
    "          \n",
    "        print (\"A Child Thread is exiting\") \n",
    "        \n",
    "Stop = Event() \n",
    "Connection = Connection(Stop)            \n",
    "Connection.start() \n",
    "print(\"Main thread is starting to wait for 5 seconds\") \n",
    "   \n",
    "Connection.join(5)  \n",
    "print(\"Main thread says : I cant't wait for more than 5 \\ seconds for the child thread;\\n Will ask child thread to stop\") \n",
    "   \n",
    "# ask(signal) the child thread to stop \n",
    "Stop.set() \n",
    "   \n",
    "# wait for the child thread to stop \n",
    "Connection.join() \n",
    "   \n",
    "print(\"Main thread says : Now I do something else to compensate\\ the child thread task and exit\") \n",
    "print(\"Main thread is exiting\")        "
   ]
  },
  {
   "cell_type": "markdown",
   "id": "fd8eeeac-75a7-42d4-bf7b-d9984e635c8e",
   "metadata": {},
   "source": [
    "Q4. Write a python program to create two threads. Thread one must print the list of squares and thread\n",
    "two must print the list of cubes."
   ]
  },
  {
   "cell_type": "code",
   "execution_count": 1,
   "id": "9ccbcc5b-6b29-48ce-b145-3a7f6acd2d0f",
   "metadata": {},
   "outputs": [
    {
     "name": "stdout",
     "output_type": "stream",
     "text": [
      "Square of 1: 1\n",
      "Square of 2: 4\n",
      "Square of 3: 9\n",
      "Square of 4: 16\n",
      "Square of 5: 25\n",
      "Cube of 1: 1\n",
      "Cube of 2: 8\n",
      "Cube of 3: 27\n",
      "Cube of 4: 64\n",
      "Cube of 5: 125\n",
      "Both threads have finished.\n"
     ]
    }
   ],
   "source": [
    "import threading\n",
    "\n",
    "def print_squares():\n",
    "    for i in range(1, 6):\n",
    "        print(f\"Square of {i}: {i*i}\")\n",
    "\n",
    "def print_cubes():\n",
    "    for i in range(1, 6):\n",
    "        print(f\"Cube of {i}: {i*i*i}\")\n",
    "\n",
    "# Create two threads\n",
    "thread1 = threading.Thread(target=print_squares)\n",
    "thread2 = threading.Thread(target=print_cubes)\n",
    "\n",
    "# Start the threads\n",
    "thread1.start()\n",
    "thread2.start()\n",
    "\n",
    "# Wait for both threads to finish\n",
    "thread1.join()\n",
    "thread2.join()\n",
    "\n",
    "print(\"Both threads have finished.\")\n"
   ]
  },
  {
   "cell_type": "markdown",
   "id": "5a1e5dc4-104d-4bc0-bd1d-0e98cfc58d8e",
   "metadata": {},
   "source": [
    "Q5. State advantages and disadvantages of multithreading"
   ]
  },
  {
   "cell_type": "markdown",
   "id": "19b6362d-985b-4902-9523-89ed74fe915e",
   "metadata": {},
   "source": [
    "Multithreading has several advantages, including: \n",
    "    \n",
    "Performance: Multithreading improves processor performance by executing operations simultaneously.  \n",
    "Responsiveness: Multithreading increases user responsiveness.   \n",
    "Context switching: Multithreading minimizes context switching time.   \n",
    "\n",
    "Other advantages include:  \n",
    "Utilization of multiprocessor architecture: Multithreading can take advantage of multiprocessor architectures.   \n",
    "Communication: Communication between threads is easier because they share a common address space.    \n",
    "Code: Code is usually straightforward.      \n",
    "\n",
    "However, multithreading also has some disadvantages, including:    \n",
    "Complexity: Multithreaded processes can be complicated.   \n",
    "Synchronization and concurrency: Multithreading can introduce issues related to synchronization and concurrency.   "
   ]
  },
  {
   "cell_type": "markdown",
   "id": "20bc4a0a-3edd-4095-972c-73cc54ead14f",
   "metadata": {},
   "source": [
    "Q6. Explain deadlocks and race conditions."
   ]
  },
  {
   "cell_type": "markdown",
   "id": "dd3a2ab6-0d9c-4e6f-91c4-48ff2c78484b",
   "metadata": {},
   "source": [
    "A race condition occurs when multiple threads access the same resource at the same time. This can lead to unexpected behavior because there is no synchronization between the threads.   \n",
    "A deadlock occurs when two or more threads are waiting for each other to release a resource. This can cause a deadlock in the program. \n",
    " \n",
    "Race conditions   \n",
    "Can occur when two threads use the same variable at the same time      \n",
    "Can occur when two threads interact in a negative way depending on the order that their instructions are executed    \n",
    "Can occur when both latches are on simultaneously   \n",
    "\n",
    "Deadlocks   \n",
    "Can occur when two threads seek one lock simultaneously    \n",
    "Can occur when two processes are waiting for each other directly or indirectly     "
   ]
  },
  {
   "cell_type": "code",
   "execution_count": null,
   "id": "3345e9c9-36c3-4c43-a96b-80c22f9dc284",
   "metadata": {},
   "outputs": [],
   "source": []
  }
 ],
 "metadata": {
  "kernelspec": {
   "display_name": "Python 3 (ipykernel)",
   "language": "python",
   "name": "python3"
  },
  "language_info": {
   "codemirror_mode": {
    "name": "ipython",
    "version": 3
   },
   "file_extension": ".py",
   "mimetype": "text/x-python",
   "name": "python",
   "nbconvert_exporter": "python",
   "pygments_lexer": "ipython3",
   "version": "3.10.8"
  }
 },
 "nbformat": 4,
 "nbformat_minor": 5
}
