{
 "cells": [
  {
   "cell_type": "markdown",
   "id": "6f5f1caf-16b3-4e5c-a2d9-47a88f1b9aca",
   "metadata": {},
   "source": [
    "Q1. What is an Exception in python? Write the difference between Exceptions and syntax errors."
   ]
  },
  {
   "cell_type": "markdown",
   "id": "01d42e1c-9eb4-4e21-a1bc-25e9b45e1166",
   "metadata": {},
   "source": [
    "An Exception is an error that happens during the execution of a program. Whenever there is an error, Python generates an exception that could be handled. It basically prevents the program from getting crashed.\n",
    "\n",
    "Here is the difference between Exceptions and syntax errors in python:\n",
    "\n",
    "Syntax errors are problems in a program due to which the program will stop the execution. On the other hand, exceptions are raised when some internal events occur which change the normal flow of the program.\n",
    "\n",
    "Exceptions are abnormal events that occur during the execution of the program and can be handled to allow the program to continue running.\n",
    "\n",
    "Syntax errors are mistakes in the structure of the program that prevents it from running. If the exception is not caught, the program will terminate.\n"
   ]
  },
  {
   "cell_type": "markdown",
   "id": "b7bdb61a-ee1f-4279-8cb3-72a8872e3c35",
   "metadata": {},
   "source": [
    "Q2. what happens when exception is not handled ? explain with example."
   ]
  },
  {
   "cell_type": "markdown",
   "id": "f0e2bec9-e765-4377-9860-a849e3cb63de",
   "metadata": {},
   "source": [
    "When an exception is not handled in Python, the program will crash and terminate. This is because exceptions are used to handle errors that occur during the execution of code. If an exception is not handled, it means that the program is not able to recover from the error and continue executing.\n",
    "Here is an example of a program that does not handle an exception:"
   ]
  },
  {
   "cell_type": "code",
   "execution_count": 7,
   "id": "ad890188-9724-460a-975e-7f2d0d4620da",
   "metadata": {},
   "outputs": [
    {
     "name": "stdout",
     "output_type": "stream",
     "text": [
      "dived by zero error\n"
     ]
    }
   ],
   "source": [
    "try:\n",
    "    a=10/0\n",
    "    print(a) \n",
    "except ZeroDivisionError:\n",
    "    #exception handled\n",
    "    print(\"dived by zero error\")\n",
    "    \n",
    "except : \n",
    "    #here exception isn't handled\n",
    "    print(\"10 cannot divide by 0\")    \n",
    "    "
   ]
  },
  {
   "cell_type": "markdown",
   "id": "bcd1a866-b179-4f67-b072-74ed771917ce",
   "metadata": {},
   "source": [
    "Q3. which Python statements are used to catch and handle exception? explain with example."
   ]
  },
  {
   "cell_type": "markdown",
   "id": "5a7c632c-00dc-4f0f-9acc-ec4c4a48ed9e",
   "metadata": {},
   "source": [
    "The try and except statements are used to catch and handle exceptions in Python. The try block contains the code that you want to execute, and the except block contains the code that you want to execute if an exception occurs in the try block.\n",
    "Here is an example of how to use the try and except statements:"
   ]
  },
  {
   "cell_type": "code",
   "execution_count": 8,
   "id": "675101de-3424-4771-bbe6-7203211a92b7",
   "metadata": {},
   "outputs": [
    {
     "name": "stdout",
     "output_type": "stream",
     "text": [
      "You can't convert a string to an integer!\n"
     ]
    }
   ],
   "source": [
    "try:\n",
    "    int(\"hello\")\n",
    "except ValueError:\n",
    "    print(\"You can't convert a string to an integer!\")"
   ]
  },
  {
   "cell_type": "markdown",
   "id": "86ba8f33-b5b8-4120-a5be-6c219d502100",
   "metadata": {},
   "source": [
    "Q4. Explain with an example \n",
    "1.try and else \n",
    "2.finally \n",
    "3.raise"
   ]
  },
  {
   "cell_type": "code",
   "execution_count": 9,
   "id": "a3f020c0-1709-4ac5-976f-83ce99978945",
   "metadata": {},
   "outputs": [
    {
     "name": "stdout",
     "output_type": "stream",
     "text": [
      "You can't divide by zero!\n",
      "This code always runs.\n"
     ]
    }
   ],
   "source": [
    "try:\n",
    "    1 / 0\n",
    "except ZeroDivisionError:\n",
    "    print(\"You can't divide by zero!\")\n",
    "else:\n",
    "    print(\"Everything is fine!\")\n",
    "finally:\n",
    "    print(\"This code always runs.\")"
   ]
  },
  {
   "cell_type": "markdown",
   "id": "c8a3507a-26b6-442d-94e9-65922983c828",
   "metadata": {},
   "source": [
    "In this example, the try block contains the code that might raise an exception. The except block contains the code that will run if the exception is raised. The else block contains the code that will run if the exception is not raised. The finally block contains the code that will always run, regardless of whether an exception is raised or not."
   ]
  },
  {
   "cell_type": "code",
   "execution_count": 12,
   "id": "a8b62988-0541-4f67-819e-9cb006eff2e0",
   "metadata": {},
   "outputs": [
    {
     "ename": "Exception",
     "evalue": "Sorry, no numbers below zero",
     "output_type": "error",
     "traceback": [
      "\u001b[0;31m---------------------------------------------------------------------------\u001b[0m",
      "\u001b[0;31mException\u001b[0m                                 Traceback (most recent call last)",
      "Cell \u001b[0;32mIn[12], line 3\u001b[0m\n\u001b[1;32m      1\u001b[0m x \u001b[38;5;241m=\u001b[39m \u001b[38;5;241m-\u001b[39m\u001b[38;5;241m1\u001b[39m\n\u001b[1;32m      2\u001b[0m \u001b[38;5;28;01mif\u001b[39;00m x \u001b[38;5;241m<\u001b[39m \u001b[38;5;241m0\u001b[39m:\n\u001b[0;32m----> 3\u001b[0m     \u001b[38;5;28;01mraise\u001b[39;00m \u001b[38;5;167;01mException\u001b[39;00m(\u001b[38;5;124m\"\u001b[39m\u001b[38;5;124mSorry, no numbers below zero\u001b[39m\u001b[38;5;124m\"\u001b[39m)\n",
      "\u001b[0;31mException\u001b[0m: Sorry, no numbers below zero"
     ]
    }
   ],
   "source": [
    "x = -1\n",
    "if x < 0:\n",
    "    raise Exception(\"Sorry, no numbers below zero\")"
   ]
  },
  {
   "cell_type": "markdown",
   "id": "7d40186b-411d-443c-bfa6-b72ce61c6dee",
   "metadata": {},
   "source": [
    "The raise keyword is used to raise an exception.\n",
    "\n",
    "You can define what kind of error to raise, and the text to print to the user."
   ]
  },
  {
   "cell_type": "markdown",
   "id": "9037997f-f0fa-4038-880c-cf1725090a7b",
   "metadata": {},
   "source": [
    "Q5.what are custom exception in Python why do we need custom exception explain with example"
   ]
  },
  {
   "cell_type": "markdown",
   "id": "7447ab67-f6ec-450e-a740-dacb73258fca",
   "metadata": {},
   "source": [
    "Custom exceptions in Python are user-defined exceptions that are created by the programmer to handle specific error scenarios in a program. Python allows you to create your custom exception by subclassing the built-in Exception class or any of its subclasses.\n",
    "Here is an example of a custom exception class that inherits from the ValueError class to handle errors related to invalid values:"
   ]
  },
  {
   "cell_type": "markdown",
   "id": "396fe7e1-783f-4cb4-aac9-c82c268eb1ce",
   "metadata": {},
   "source": [
    "Q6. Create a custum exception class. Use this class to handle exception."
   ]
  },
  {
   "cell_type": "code",
   "execution_count": 18,
   "id": "70551237-9500-4cc3-a462-80c1ebde7044",
   "metadata": {},
   "outputs": [
    {
     "name": "stdout",
     "output_type": "stream",
     "text": [
      "This is my custom exception\n"
     ]
    }
   ],
   "source": [
    "class CustomException(Exception):\n",
    "    pass\n",
    "try:\n",
    "    raise CustomException('This is my custom exception')\n",
    "except CustomException as ex:\n",
    "    print(ex)"
   ]
  },
  {
   "cell_type": "code",
   "execution_count": null,
   "id": "d22f33dd-dcab-431f-842f-510741c56935",
   "metadata": {},
   "outputs": [],
   "source": []
  }
 ],
 "metadata": {
  "kernelspec": {
   "display_name": "Python 3 (ipykernel)",
   "language": "python",
   "name": "python3"
  },
  "language_info": {
   "codemirror_mode": {
    "name": "ipython",
    "version": 3
   },
   "file_extension": ".py",
   "mimetype": "text/x-python",
   "name": "python",
   "nbconvert_exporter": "python",
   "pygments_lexer": "ipython3",
   "version": "3.10.8"
  }
 },
 "nbformat": 4,
 "nbformat_minor": 5
}
