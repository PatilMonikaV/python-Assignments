{
 "cells": [
  {
   "cell_type": "markdown",
   "id": "208cb614-159e-4d01-a210-bbd06ad57a3b",
   "metadata": {},
   "source": [
    "# Q1. What is multiprocessing in python? Why is it useful?"
   ]
  },
  {
   "cell_type": "markdown",
   "id": "a9df197f-1025-42c2-a5ea-202b2a7dce0f",
   "metadata": {},
   "source": [
    "Multiprocessing in Python is a technique that allows the execution of multiple processes, each with its own memory space and Python interpreter, to achieve parallelism and leverage multiple CPU cores for better performance. It is useful for speeding up code and handling large datasets and tasks.   \n",
    "For example, consider a task that needs to be processed on a large dataset. This task can be divided into smaller parts that can be processed simultaneously by multiple processes. This can significantly speed up the processing time.    \n",
    "Multiprocessing is also useful for tasks that are CPU-bound, meaning they spend a lot of time waiting for the CPU to process instructions. By running multiple processes simultaneously, multiprocessing can help to improve the overall performance of the program.   \n",
    "Here are some of the benefits of using multiprocessing in Python:   \n",
    "Improved performance:   \n",
    "Multiprocessing can significantly improve the performance of CPU-bound tasks by allowing them to be executed in parallel on multiple cores.    \n",
    "Scalability:    \n",
    "Multiprocessing makes it easy to scale your program to handle larger workloads by simply adding more processes.    \n",
    "Reduced memory usage:    \n",
    "Multiprocessing can help to reduce memory usage by allowing multiple processes to share data in memory.   \n",
    "Improved responsiveness:    \n",
    "Multiprocessing can improve the responsiveness of your program by allowing it to continue to process other tasks while a long-running task is executing in the background.    \n"
   ]
  },
  {
   "cell_type": "markdown",
   "id": "f95120d2-2c0f-475f-aea1-9d16adfc3259",
   "metadata": {},
   "source": [
    "# Q2. What are the differences between multiprocessing and multithreading?"
   ]
  },
  {
   "cell_type": "markdown",
   "id": "71661ecd-b78f-4e6f-b350-bb61731ea27f",
   "metadata": {},
   "source": [
    "Multiprocessing and multithreading are two different techniques that can be used to improve the performance of a program. Both techniques involve running multiple tasks simultaneously, but they do so in different ways.   \n",
    "Multiprocessing uses multiple processors to execute tasks. This can be a very effective way to improve performance, especially if the tasks are CPU-intensive. However, multiprocessing can also be more complex to implement and manage than multithreading.    \n",
    "Multithreading uses a single processor to execute multiple tasks. This is done by dividing the tasks into threads, which are then executed concurrently. Multithreading can be simpler to implement and manage than multiprocessing, but it may not be as effective at improving performance if the tasks are not CPU-intensive.   \n",
    "Multiprocessing uses two or more CPUs to increase computing power, whereas multithreading uses a single process with multiple code segments to increase computing power.     \n",
    "Multithreading focuses on generating computing threads from a single process, whereas multiprocessing increases computing power by adding CPUs.    \n",
    "Multiprocessing is used to create a more reliable system, whereas multithreading is used to create threads that run parallel to each other.     \n",
    "multithreading is quick to create and requires few resources, whereas multiprocessing requires a significant amount of time and specific resources to create.    \n",
    "Multiprocessing executes many processes simultaneously, whereas multithreading executes many threads simultaneously.    \n",
    "Multithreading uses a common address space for all the threads, whereas multiprocessing creates a separate address space for each process.    "
   ]
  },
  {
   "cell_type": "markdown",
   "id": "9e01e3dd-237b-412c-96bb-0b1a5b1a9b60",
   "metadata": {},
   "source": [
    "# Q3. Write a python code to create a process using the multiprocessing module."
   ]
  },
  {
   "cell_type": "code",
   "execution_count": 1,
   "id": "dbe8d98e-8eca-438d-989a-e67bb7abfe40",
   "metadata": {},
   "outputs": [
    {
     "name": "stdout",
     "output_type": "stream",
     "text": [
      "[0, 1, 4, 9, 16, 25, 36, 49, 64, 81]\n"
     ]
    }
   ],
   "source": [
    "import multiprocessing\n",
    "\n",
    "def square(n):\n",
    "    return n * n\n",
    "\n",
    "if __name__ == '__main__':\n",
    "    with multiprocessing.Pool() as pool:\n",
    "        results = pool.map(square, range(10))\n",
    "    print(results)"
   ]
  },
  {
   "cell_type": "markdown",
   "id": "d52e45e5-5c3b-472d-9fdb-d81432eccb52",
   "metadata": {},
   "source": [
    "# Q4. What is a multiprocessing pool in python? Why is it used?"
   ]
  },
  {
   "cell_type": "markdown",
   "id": "e1953b99-900a-43e5-a723-799773904f5c",
   "metadata": {},
   "source": [
    "A multiprocessing pool in Python is a class that allows you to run multiple processes simultaneously. It is useful for tasks that can be divided into smaller parts that can be executed independently. For example, you could use a multiprocessing pool to speed up the process of training a machine learning model. \n",
    "Multiprocessing pools are a powerful tool that can be used to speed up a variety of tasks in Python. If you have a task that can be divided into smaller parts that can be executed independently, you should consider using a multiprocessing pool to speed it up.     \n",
    "Here is an example of how to use a multiprocessing pool in Python:    "
   ]
  },
  {
   "cell_type": "code",
   "execution_count": 2,
   "id": "62d5bb8a-92b0-4d87-a720-491d8617ab47",
   "metadata": {},
   "outputs": [
    {
     "name": "stdout",
     "output_type": "stream",
     "text": [
      "[0, 2, 4, 6, 8, 10, 12, 14, 16, 18]\n"
     ]
    }
   ],
   "source": [
    "import multiprocessing\n",
    "\n",
    "def my_function(x):\n",
    "    return x * 2\n",
    "\n",
    "if __name__ == '__main__':\n",
    "    pool = multiprocessing.Pool(processes=4)\n",
    "    results = pool.map(my_function, range(10))\n",
    "    pool.close()\n",
    "    pool.join()\n",
    "\n",
    "    print(results)"
   ]
  },
  {
   "cell_type": "markdown",
   "id": "379e50f3-e2be-484a-9d1e-5d28f9e085a2",
   "metadata": {},
   "source": [
    "This code will create a multiprocessing pool with 4 processes. It will then use the pool to map the my_function() function to the numbers from 0 to 9. The results of the function calls will be stored in the results variable. Finally, the pool will be closed and joined.    \n",
    "As you can see, the results are the same as if you had executed the my_function() function on the numbers from 0 to 9 one at a time. However, by using a multiprocessing pool, you were able to speed up the process by executing the function calls in parallel."
   ]
  },
  {
   "cell_type": "markdown",
   "id": "2a62e7bc-5d0b-426d-8b84-0d55f9b3c7a1",
   "metadata": {},
   "source": [
    "# Q5. How can we create a pool of worker processes in python using the multiprocessing module?"
   ]
  },
  {
   "cell_type": "markdown",
   "id": "be6bf4f4-012d-435b-b1b1-410a1be1e655",
   "metadata": {},
   "source": [
    "To create a pool of worker processes in Python using the multiprocessing module, you can use the Pool() function. The Pool() function takes a number of arguments, including the number of worker processes to create. The default number of worker processes is the number of CPU cores on your system.   \n",
    "Here is an example of how to create a pool of worker processes:    "
   ]
  },
  {
   "cell_type": "code",
   "execution_count": 3,
   "id": "aa57eacb-c25b-4666-8a6a-e5fe29357e5a",
   "metadata": {},
   "outputs": [
    {
     "name": "stdout",
     "output_type": "stream",
     "text": [
      "Worker 1 is runningWorker 0 is runningWorker 3 is runningWorker 2 is running\n",
      "\n",
      "\n",
      "\n",
      "Worker 4 is runningWorker 5 is runningWorker 6 is runningWorker 7 is running\n",
      "\n",
      "\n",
      "\n",
      "Worker 8 is runningWorker 9 is running\n",
      "\n"
     ]
    }
   ],
   "source": [
    "import multiprocessing\n",
    "\n",
    "def worker(num):\n",
    "    print(f'Worker {num} is running')\n",
    "\n",
    "if __name__ == '__main__':\n",
    "    pool = multiprocessing.Pool(processes=4)\n",
    "    for i in range(10):\n",
    "        pool.apply_async(worker, args=(i,))\n",
    "\n",
    "    pool.close()\n",
    "    pool.join()"
   ]
  },
  {
   "cell_type": "markdown",
   "id": "580cc2bc-8b70-4824-a972-5ae8fc52e2ee",
   "metadata": {},
   "source": [
    "This code will create a pool of 4 worker processes. Each worker process will call the worker() function, which will print a message to the console.   The main process will wait for all of the worker processes to finish before exiting.    \n",
    "You can use a pool of worker processes to speed up parallel tasks. For example, if you have a list of data that you need to process, you can create a pool of worker processes and distribute the data to the worker processes. The worker processes can then process the data in parallel, which will speed up the overall processing time."
   ]
  },
  {
   "cell_type": "markdown",
   "id": "9e9c5a95-343c-4088-bda6-a2abf01c7952",
   "metadata": {},
   "source": [
    "# Q6. Write a python program to create 4 processes, each process should print a different number using the multiprocessing module in python."
   ]
  },
  {
   "cell_type": "code",
   "execution_count": 4,
   "id": "a5150cc4-e4bd-4ba7-93cb-1993769fb50f",
   "metadata": {},
   "outputs": [
    {
     "name": "stdout",
     "output_type": "stream",
     "text": [
      "Process 1 is running...\n",
      "Process 2 is running...\n",
      "Process 3 is running...\n",
      "Process 4 is running...\n"
     ]
    }
   ],
   "source": [
    "import multiprocessing\n",
    "\n",
    "def process1():\n",
    "    print(\"Process 1 is running...\")\n",
    "\n",
    "def process2():\n",
    "    print(\"Process 2 is running...\")\n",
    "\n",
    "def process3():\n",
    "    print(\"Process 3 is running...\")\n",
    "\n",
    "def process4():\n",
    "    print(\"Process 4 is running...\")\n",
    "\n",
    "if __name__ == '__main__':\n",
    "    p1 = multiprocessing.Process(target=process1)\n",
    "    p2 = multiprocessing.Process(target=process2)\n",
    "    p3 = multiprocessing.Process(target=process3)\n",
    "    p4 = multiprocessing.Process(target=process4)\n",
    "\n",
    "    p1.start()\n",
    "    p2.start()\n",
    "    p3.start()\n",
    "    p4.start()\n",
    "\n",
    "    p1.join()\n",
    "    p2.join()\n",
    "    p3.join()\n",
    "    p4.join()"
   ]
  },
  {
   "cell_type": "code",
   "execution_count": null,
   "id": "1fc8a060-7b3b-4e98-8a4a-40c479e25036",
   "metadata": {},
   "outputs": [],
   "source": []
  }
 ],
 "metadata": {
  "kernelspec": {
   "display_name": "Python 3 (ipykernel)",
   "language": "python",
   "name": "python3"
  },
  "language_info": {
   "codemirror_mode": {
    "name": "ipython",
    "version": 3
   },
   "file_extension": ".py",
   "mimetype": "text/x-python",
   "name": "python",
   "nbconvert_exporter": "python",
   "pygments_lexer": "ipython3",
   "version": "3.10.8"
  }
 },
 "nbformat": 4,
 "nbformat_minor": 5
}
