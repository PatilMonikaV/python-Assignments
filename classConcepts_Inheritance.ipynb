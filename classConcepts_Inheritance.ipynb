{
 "cells": [
  {
   "cell_type": "markdown",
   "id": "3077b454-4580-416f-ab46-274b14705cac",
   "metadata": {},
   "source": [
    "Q1. Explain Class and Object with respect to Object-Oriented Programming. Give a suitable example."
   ]
  },
  {
   "cell_type": "markdown",
   "id": "6782ac2d-13cc-4951-b5e3-9979bfe11aac",
   "metadata": {},
   "source": [
    "A class is a blueprint or prototype from which objects are created. It defines the properties and behaviors that all objects of that class will have. For example, a class called \"Dog\" might define the properties \"name,\" \"breed,\" and \"age,\" and the behaviors \"bark()\" and \"wagTail().\"\n",
    "An object is an instance of a class. It is a specific entity that has its own unique set of values for the properties of the class. For example, a dog named \"Fido\" would be an object of the \"Dog\" class. It would have the properties \"name\" = \"Fido,\" \"breed\" = \"Golden Retriever,\" and \"age\" = 3.\n",
    "Classes and objects are important concepts in object-oriented programming (OOP) because they allow programmers to create reusable code. A class can be defined once, and then objects can be created from that class as needed. This makes it easy to create new programs by simply creating new objects from existing classes.\n",
    "In following example \"CSE\" is a class and \"std\" is it's object."
   ]
  },
  {
   "cell_type": "code",
   "execution_count": 10,
   "id": "807466fa-5da0-4950-b457-38a3cf15983f",
   "metadata": {},
   "outputs": [],
   "source": [
    "class CSE:\n",
    "    def __init__(self,std_name_list):\n",
    "        self.std_list= std_name_list"
   ]
  },
  {
   "cell_type": "code",
   "execution_count": 11,
   "id": "be6a8c1b-3d91-4483-8817-11013753e8b6",
   "metadata": {},
   "outputs": [],
   "source": [
    "std=CSE([\"Sam\",\"Rinku\",\"John\",\"Devid\"])"
   ]
  },
  {
   "cell_type": "code",
   "execution_count": 12,
   "id": "da94278c-2b66-48cf-82c1-75ebb328c6d2",
   "metadata": {},
   "outputs": [
    {
     "data": {
      "text/plain": [
       "['Sam', 'Rinku', 'John', 'Devid']"
      ]
     },
     "execution_count": 12,
     "metadata": {},
     "output_type": "execute_result"
    }
   ],
   "source": [
    "std.std_list"
   ]
  },
  {
   "cell_type": "markdown",
   "id": "e40421f7-7e01-4be9-8c6a-a904368fc396",
   "metadata": {},
   "source": [
    "Q2. Name the four pillars of OOPs."
   ]
  },
  {
   "cell_type": "markdown",
   "id": "858bc8b7-2ac7-4e8f-9c14-ff1559ccd901",
   "metadata": {},
   "source": [
    "Object-Oriented Programming (OOP) is an approach to software development that uses objects, or data structures consisting of data fields and methods together with their interactions, to design applications and computer programs. The four pillars of OOPs allow developers to better manage software complexity by organizing code into objects and allowing them to interact in a structured way.\n",
    "\n",
    "1.Data abstraction is the process of hiding unnecessary details of an object’s internal structure. By abstracting an object’s data, its structure and behavior can be kept separate and more easily understood.\n",
    "\n",
    "2.Encapsulation is the process of wrapping data and related functions into a single unit (object). Encapsulation limits access to object data and methods, preventing their misuse and ensuring their proper functioning.\n",
    "\n",
    "3.Inheritance is the ability to create a new class (child class) from an existing one (parent class). The child class typically inherits the attributes (members and methods) of the parent class, although it can also redefine them.\n",
    "\n",
    "4.Polymorphism is the ability of an object to take on multiple forms. This allows objects of different classes to be used interchangeably, as long as they implement a certain interface (have methods of the same name)."
   ]
  },
  {
   "cell_type": "markdown",
   "id": "0694f20d-137d-4a04-94fd-002dc024de06",
   "metadata": {},
   "source": [
    "Q3. Explain why the __init__() function is used. Give a suitable example."
   ]
  },
  {
   "cell_type": "markdown",
   "id": "91484cfd-375c-45e8-aa58-716402edfd62",
   "metadata": {},
   "source": [
    "The __init__() function is a special function in Python that is called when an object is created. It is used to initialize the object's attributes and to perform any other necessary setup.\n",
    "Here is a simple example of a class with an __init__() function:\n"
   ]
  },
  {
   "cell_type": "code",
   "execution_count": 16,
   "id": "9d7ef336-c0a2-4755-af87-cf1ea160a8d7",
   "metadata": {},
   "outputs": [
    {
     "name": "stdout",
     "output_type": "stream",
     "text": [
      "Hello, my name is Alice and I am 25 years old.\n"
     ]
    }
   ],
   "source": [
    "class Person:\n",
    "    def __init__(self, name, age):\n",
    "        self.name = name\n",
    "        self.age = age\n",
    "\n",
    "    def greet(self):\n",
    "        print(f\"Hello, my name is {self.name} and I am {self.age} years old.\")\n",
    "\n",
    "person = Person(\"Alice\", 25)\n",
    "person.greet()"
   ]
  },
  {
   "cell_type": "markdown",
   "id": "fa6a0300-1f3d-4991-9142-01673f497c8c",
   "metadata": {},
   "source": [
    "Q4. Why self is used in OOPs?"
   ]
  },
  {
   "cell_type": "markdown",
   "id": "0a814094-de35-4927-8ba4-a1de95f6519e",
   "metadata": {},
   "source": [
    "The “self” keyword represents the instance of the class. By using the “self” keyword, we can access the attributes and methods of the class. It is useful in method definitions and in variable initialization. The “self” is explicitly used every time we define a method."
   ]
  },
  {
   "cell_type": "code",
   "execution_count": 40,
   "id": "82baa3a6-84e0-4e79-a684-5527310f5bdf",
   "metadata": {},
   "outputs": [],
   "source": [
    "class myclass:\n",
    "    def __init__(self, fun_name, venue, date):\n",
    "        self.fun_name= fun_name\n",
    "        self.venue= venue\n",
    "        self.date= date\n",
    "\n",
    "    def myfunction(self):\n",
    "        print(f\"this is the {self.fun_name} function , which is going to conduct in {self.venue} on date {self.date}.\")\n",
    "    "
   ]
  },
  {
   "cell_type": "code",
   "execution_count": 41,
   "id": "684527e2-3aeb-48df-be03-c8c5e5947de4",
   "metadata": {},
   "outputs": [
    {
     "name": "stdout",
     "output_type": "stream",
     "text": [
      "this is the wedding function , which is going to conduct in delhi on date 20/10/12.\n"
     ]
    }
   ],
   "source": [
    "obj1= myclass(\"wedding\", \"delhi\", '20/10/12')\n",
    "obj1.myfunction()"
   ]
  },
  {
   "cell_type": "markdown",
   "id": "b8cb35eb-18ac-4450-a39a-08d269c34a7d",
   "metadata": {},
   "source": [
    "Q5. What is inheritance? Give an example for each type of inheritance."
   ]
  },
  {
   "cell_type": "markdown",
   "id": "e82796bf-4393-434f-913d-1844eb29fbb5",
   "metadata": {},
   "source": [
    "Inheritance is defined as the mechanism of inheriting the properties of the base class to the child class. Here we a going to see the types of inheritance "
   ]
  },
  {
   "cell_type": "markdown",
   "id": "d0b1ce52-969e-4194-9ebd-099620c4b6ee",
   "metadata": {},
   "source": [
    "1. Single Inheritance: \n",
    "Single inheritance enables a derived class to inherit properties from a single parent class, thus enabling code reusability and the addition of new features to existing code."
   ]
  },
  {
   "cell_type": "code",
   "execution_count": 42,
   "id": "2c282b05-9bf0-4562-9014-8eefc357fae9",
   "metadata": {},
   "outputs": [],
   "source": [
    "class parent:\n",
    "    def fun1(self):\n",
    "        print(\"this is parent class\")\n",
    "        \n",
    "class child(parent):\n",
    "    def fun2(self):\n",
    "        print(\"this is child class\")\n",
    "        \n",
    "child1= child()"
   ]
  },
  {
   "cell_type": "code",
   "execution_count": 43,
   "id": "99bc73e1-6b45-432e-93f2-82ae06ed1ba3",
   "metadata": {},
   "outputs": [
    {
     "name": "stdout",
     "output_type": "stream",
     "text": [
      "this is parent class\n"
     ]
    }
   ],
   "source": [
    "child1.fun1()"
   ]
  },
  {
   "cell_type": "code",
   "execution_count": 44,
   "id": "b1957773-4b8c-4cab-a54d-e00c8a932d59",
   "metadata": {},
   "outputs": [
    {
     "name": "stdout",
     "output_type": "stream",
     "text": [
      "this is child class\n"
     ]
    }
   ],
   "source": [
    "child1.fun2()"
   ]
  },
  {
   "cell_type": "markdown",
   "id": "2a66854b-8e39-4760-b95f-d35c8b72a85a",
   "metadata": {},
   "source": [
    "2.Multiple Inheritance: \n",
    "When a class can be derived from more than one base class this type of inheritance is called multiple inheritances. In multiple inheritances, all the features of the base classes are inherited into the derived class."
   ]
  },
  {
   "cell_type": "code",
   "execution_count": null,
   "id": "d8f2e29b-5641-47a1-b0b5-7ecde399fff5",
   "metadata": {},
   "outputs": [],
   "source": [
    "class parent1 :\n",
    "    def fun1(self):\n",
    "        print(\"this is father's class\")\n",
    "        \n",
    "class parent2 :\n",
    "    def fun2(self):\n",
    "        print(\"this is Mom's class\")\n",
    "        \n",
    "class child1(parent1 , parent2):\n",
    "    def fun3(self):\n",
    "        print(\"this is child class which s derived by two parent classes.\")\n",
    "        \n",
    "ch1= child1()"
   ]
  },
  {
   "cell_type": "code",
   "execution_count": 51,
   "id": "b8fbe783-5713-4cae-bb98-68aa30a62ae3",
   "metadata": {},
   "outputs": [
    {
     "name": "stdout",
     "output_type": "stream",
     "text": [
      "this is father's class\n",
      "this is Mom's class\n",
      "this is child class which s derived by two parent classes.\n"
     ]
    }
   ],
   "source": [
    "ch1.fun1()\n",
    "ch1.fun2()\n",
    "ch1.fun3()"
   ]
  },
  {
   "cell_type": "markdown",
   "id": "79652d6b-8273-44cc-a4fd-38f993c6c6ae",
   "metadata": {},
   "source": [
    "3.Multilevel Inheritance :\n",
    "In multilevel inheritance, features of the base class and the derived class are further inherited into the new derived class. This is similar to a relationship representing a child and a grandfather."
   ]
  },
  {
   "cell_type": "code",
   "execution_count": 62,
   "id": "640963df-2033-4524-b1f9-5a2fa1b6b886",
   "metadata": {},
   "outputs": [],
   "source": [
    "class HOD:\n",
    "    def hod_fun(self):\n",
    "        return \"work given to staff\"\n",
    "    \n",
    "class Staff( HOD ):\n",
    "    def staff_fun(self):\n",
    "        return \"work assinged to students\"\n",
    "    \n",
    "class Student(Staff):\n",
    "    def std_fun(self):\n",
    "        return \"assignments got from staff.\"\n",
    "    "
   ]
  },
  {
   "cell_type": "code",
   "execution_count": 63,
   "id": "a0ccdd55-8607-47f2-b669-5224a8c8b3d5",
   "metadata": {},
   "outputs": [
    {
     "data": {
      "text/plain": [
       "'work given to staff'"
      ]
     },
     "execution_count": 63,
     "metadata": {},
     "output_type": "execute_result"
    }
   ],
   "source": [
    "dts1= Student()\n",
    "dts1.hod_fun()"
   ]
  },
  {
   "cell_type": "code",
   "execution_count": 64,
   "id": "03817554-eaeb-4b8d-b031-3f8f42f6c62d",
   "metadata": {},
   "outputs": [
    {
     "data": {
      "text/plain": [
       "'work assinged to students'"
      ]
     },
     "execution_count": 64,
     "metadata": {},
     "output_type": "execute_result"
    }
   ],
   "source": [
    "dts1.staff_fun()"
   ]
  },
  {
   "cell_type": "code",
   "execution_count": 65,
   "id": "9815d69a-c07f-444e-85fb-a1b50f7c954c",
   "metadata": {},
   "outputs": [
    {
     "data": {
      "text/plain": [
       "'assignments got from staff.'"
      ]
     },
     "execution_count": 65,
     "metadata": {},
     "output_type": "execute_result"
    }
   ],
   "source": [
    "dts1.std_fun()"
   ]
  },
  {
   "cell_type": "markdown",
   "id": "e99ce6ad-ab31-482d-9ac5-b0ba2c39414f",
   "metadata": {},
   "source": [
    "Hierarchical Inheritance: \n",
    "When more than one derived class are created from a single base this type of inheritance is called hierarchical inheritance. In this program, we have a parent (base) class and two child (derived) classes."
   ]
  },
  {
   "cell_type": "code",
   "execution_count": 66,
   "id": "e4e8be83-60fd-4c78-90cc-526e39af0350",
   "metadata": {},
   "outputs": [
    {
     "name": "stdout",
     "output_type": "stream",
     "text": [
      "This function is in parent class.\n",
      "This function is in child 1.\n",
      "This function is in parent class.\n",
      "This function is in child 2.\n"
     ]
    }
   ],
   "source": [
    "\n",
    "class Parent:\n",
    "    def func1(self):\n",
    "        print(\"This function is in parent class.\")\n",
    " \n",
    "class Child1(Parent):\n",
    "    def func2(self):\n",
    "        print(\"This function is in child 1.\")\n",
    " \n",
    "class Child2(Parent):\n",
    "    def func3(self):\n",
    "        print(\"This function is in child 2.\")\n",
    " \n",
    "object1 = Child1()\n",
    "object2 = Child2()\n",
    "object1.func1()\n",
    "object1.func2()\n",
    "object2.func1()\n",
    "object2.func3()"
   ]
  },
  {
   "cell_type": "markdown",
   "id": "b921a732-a6a2-4d81-9ab6-e7a927ea17da",
   "metadata": {},
   "source": [
    "Hybrid Inheritance: \n",
    "Inheritance consisting of multiple types of inheritance is called hybrid inheritance"
   ]
  },
  {
   "cell_type": "code",
   "execution_count": 67,
   "id": "afe378c2-3766-434f-b01e-0f59bc2a9e5f",
   "metadata": {},
   "outputs": [
    {
     "name": "stdout",
     "output_type": "stream",
     "text": [
      "This function is in school.\n",
      "This function is in student 1. \n"
     ]
    }
   ],
   "source": [
    "class School:\n",
    "    def func1(self):\n",
    "        print(\"This function is in school.\")\n",
    " \n",
    " \n",
    "class Student1(School):\n",
    "    def func2(self):\n",
    "        print(\"This function is in student 1. \")\n",
    " \n",
    " \n",
    "class Student2(School):\n",
    "    def func3(self):\n",
    "        print(\"This function is in student 2.\")\n",
    " \n",
    " \n",
    "class Student3(Student1, School):\n",
    "    def func4(self):\n",
    "        print(\"This function is in student 3.\")\n",
    " \n",
    "\n",
    "object = Student3()\n",
    "object.func1()\n",
    "object.func2()"
   ]
  },
  {
   "cell_type": "code",
   "execution_count": null,
   "id": "f4ab9724-a3ae-4b10-b695-a83652fe9adf",
   "metadata": {},
   "outputs": [],
   "source": []
  }
 ],
 "metadata": {
  "kernelspec": {
   "display_name": "Python 3 (ipykernel)",
   "language": "python",
   "name": "python3"
  },
  "language_info": {
   "codemirror_mode": {
    "name": "ipython",
    "version": 3
   },
   "file_extension": ".py",
   "mimetype": "text/x-python",
   "name": "python",
   "nbconvert_exporter": "python",
   "pygments_lexer": "ipython3",
   "version": "3.10.8"
  }
 },
 "nbformat": 4,
 "nbformat_minor": 5
}
