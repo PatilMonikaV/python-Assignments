{
 "cells": [
  {
   "cell_type": "markdown",
   "id": "a9c52f50-a05d-4908-9563-af9089155b1e",
   "metadata": {},
   "source": [
    "Q1, Create a vehicle class with an init method having instance variables as name_of_vehicle, max_speed\n",
    "and average_of_vehicle."
   ]
  },
  {
   "cell_type": "code",
   "execution_count": 1,
   "id": "5915c56d-e4ed-4e18-85c9-8bc73a94f150",
   "metadata": {},
   "outputs": [],
   "source": [
    "class vehicle:\n",
    "    def __init__(self, name_of_vehicle, max_speed, average_of_vehicle):\n",
    "        self.name_of_vehicle1= name_of_vehicle\n",
    "        self.max_speed1= max_speed\n",
    "        self.average_of_vehicle1= average_of_vehicle\n",
    "        "
   ]
  },
  {
   "cell_type": "code",
   "execution_count": 10,
   "id": "c903b5d7-213f-48e3-8b25-23d166e794a5",
   "metadata": {},
   "outputs": [],
   "source": [
    "bike= vehicle(\"honda_XPulse\", 80,60)"
   ]
  },
  {
   "cell_type": "code",
   "execution_count": 11,
   "id": "37138b94-03e3-4e90-8602-339e92131bda",
   "metadata": {},
   "outputs": [
    {
     "data": {
      "text/plain": [
       "80"
      ]
     },
     "execution_count": 11,
     "metadata": {},
     "output_type": "execute_result"
    }
   ],
   "source": [
    "bike.max_speed1"
   ]
  },
  {
   "cell_type": "markdown",
   "id": "b6a595c7-e027-4a36-b872-a04cd1574678",
   "metadata": {},
   "source": [
    "Q2. Create a child class car from the vehicle class created in Que 1, which will inherit the vehicle class.\n",
    "Create a method named seating_capacity which takes capacity as an argument and returns the name of\n",
    "the vehicle and its seating capacity."
   ]
  },
  {
   "cell_type": "code",
   "execution_count": 28,
   "id": "88bbda75-670d-4b83-9a08-d26766923a11",
   "metadata": {},
   "outputs": [],
   "source": [
    "class car(vehicle):\n",
    "    def seating_capacity(self, capacity):\n",
    "        return self.name_of_vehicle1,capacity"
   ]
  },
  {
   "cell_type": "code",
   "execution_count": 29,
   "id": "391870a7-9012-4dc4-b866-816f2cd0a38d",
   "metadata": {},
   "outputs": [
    {
     "data": {
      "text/plain": [
       "('BMW', 8)"
      ]
     },
     "execution_count": 29,
     "metadata": {},
     "output_type": "execute_result"
    }
   ],
   "source": [
    "car1=car(\"BMW\",90,60)\n",
    "car1.seating_capacity(8)"
   ]
  },
  {
   "cell_type": "markdown",
   "id": "1d6de58c-29f0-4128-ad99-c055b04d7f4c",
   "metadata": {},
   "source": [
    "Q3. What is multiple inheritance? Write a python code to demonstrate multiple inheritance."
   ]
  },
  {
   "cell_type": "markdown",
   "id": "f43fd8da-96b9-4d78-8102-cc0b0b0280c3",
   "metadata": {},
   "source": [
    "Multiple inheritance is a feature in Python that allows a class to inherit attributes and methods from more than one parent class. This is in contrast to single inheritance, where a class can only inherit from one parent class.\n",
    "To implement multiple inheritance in Python, you use the class keyword, followed by the name of the class and a list of parent classes in parentheses. For example, the following code defines a class called student that inherits from both the school and college."
   ]
  },
  {
   "cell_type": "code",
   "execution_count": 8,
   "id": "596b1a75-626b-441a-801e-854aa78f3c9b",
   "metadata": {},
   "outputs": [],
   "source": [
    "class school :\n",
    "    def __init__(self, school_name , city, student_grade):\n",
    "        self.school_name1= school_name\n",
    "        self.city1= city\n",
    "        self.student_grade1= student_grade\n",
    "        "
   ]
  },
  {
   "cell_type": "code",
   "execution_count": 21,
   "id": "add617f9-bebb-4d6d-a6fd-106a0fc47c27",
   "metadata": {},
   "outputs": [],
   "source": [
    "class college :\n",
    "    def clg_detail(self, clg_name, clg_city, clg_std_grade):\n",
    "         return clg_name, clg_city, clg_std_grade"
   ]
  },
  {
   "cell_type": "code",
   "execution_count": 48,
   "id": "21601e44-2369-43b1-89d8-0b8e588cb2bc",
   "metadata": {},
   "outputs": [],
   "source": [
    "class student(school , college):\n",
    "    def student_detail(self, name, current_status):\n",
    "        print(name,\"educated from\",self.school_name1,\"from city\",self.city1,\" with grade\",self.student_grade1)"
   ]
  },
  {
   "cell_type": "code",
   "execution_count": 49,
   "id": "5955de4c-8fbd-4286-9336-93d4e834bb24",
   "metadata": {},
   "outputs": [],
   "source": [
    "std = student(\"SVP_School\", \"pune\", \"A\")"
   ]
  },
  {
   "cell_type": "code",
   "execution_count": 51,
   "id": "c3ad2df6-5d84-4e02-b097-8020d30d91a3",
   "metadata": {},
   "outputs": [
    {
     "data": {
      "text/plain": [
       "('Rony',\n",
       " 'educated from',\n",
       " 'SVP_School',\n",
       " 'from city',\n",
       " 'pune',\n",
       " ' with grade',\n",
       " 'A')"
      ]
     },
     "execution_count": 51,
     "metadata": {},
     "output_type": "execute_result"
    }
   ],
   "source": [
    "std.student_detail(\"Rony\", \"ME\")"
   ]
  },
  {
   "cell_type": "code",
   "execution_count": 52,
   "id": "5b5cc508-ec8b-465d-bc58-c9c63952c46c",
   "metadata": {},
   "outputs": [
    {
     "data": {
      "text/plain": [
       "('MKT_COE', 'delhi', 'A')"
      ]
     },
     "execution_count": 52,
     "metadata": {},
     "output_type": "execute_result"
    }
   ],
   "source": [
    "std.clg_detail(\"MKT_COE\", \"delhi\",\"A\")"
   ]
  },
  {
   "cell_type": "markdown",
   "id": "1d120db8-6d04-41e7-915f-7e7927e92d15",
   "metadata": {},
   "source": [
    "Q4. What are getter and setter in python? Create a class and create a getter and a setter method in this\n",
    "class."
   ]
  },
  {
   "cell_type": "markdown",
   "id": "b75690bb-b3b1-4901-ba8d-6442991b12cb",
   "metadata": {},
   "source": [
    "In Python, getters and setters are not the same as those in other object-oriented programming languages. Basically, the main purpose of using getters and setters in object-oriented programs is to ensure data encapsulation. Private variables in python are not actually hidden fields like in other object oriented languages. Getters and Setters in python are often used when:\n",
    "\n",
    "We use getters & setters to add validation logic around getting and setting a value.\n",
    "To avoid direct access of a class field i.e. private variables cannot be accessed directly or modified by external user."
   ]
  },
  {
   "cell_type": "code",
   "execution_count": 53,
   "id": "9592e2a7-8142-4efc-bf32-d4f57b1274dc",
   "metadata": {},
   "outputs": [
    {
     "name": "stdout",
     "output_type": "stream",
     "text": [
      "21\n",
      "21\n"
     ]
    }
   ],
   "source": [
    "class GetSet: \n",
    "    def __init__(self, age = 0): \n",
    "         self._age = age  \n",
    "    def get_age(self): \n",
    "        return self._age \n",
    "    def set_age(self, x): \n",
    "        self._age = x   \n",
    "raj = GetSet()  \n",
    "raj.set_age(21)  \n",
    "print(raj.get_age()) \n",
    "print(raj._age)"
   ]
  },
  {
   "cell_type": "markdown",
   "id": "c1ee102a-1054-494e-b5f0-e01dbd57f7fd",
   "metadata": {},
   "source": [
    "Q5.What is method overriding in python? Write a python code to demonstrate method overriding."
   ]
  },
  {
   "cell_type": "markdown",
   "id": "445a97cb-0580-4b27-a82d-69e0170ca7e1",
   "metadata": {},
   "source": [
    "Method overriding is an ability of any object-oriented programming language that allows a subclass or child class to provide a specific implementation of a method that is already provided by one of its super-classes or parent classes. When a method in a subclass has the same name, same parameters or signature and same return type(or sub-type) as a method in its super-class, then the method in the subclass is said to override the method in the super-class"
   ]
  },
  {
   "cell_type": "code",
   "execution_count": 54,
   "id": "c6afa16b-3fae-4e4f-96d5-19136f2ebd4c",
   "metadata": {},
   "outputs": [
    {
     "name": "stdout",
     "output_type": "stream",
     "text": [
      "Inside Parent\n",
      "Inside Child\n"
     ]
    }
   ],
   "source": [
    "class Parent(): \n",
    " \n",
    "    def __init__(self): \n",
    "        self.value = \"Inside Parent\"\n",
    "\n",
    "    def show(self): \n",
    "        print(self.value) \n",
    " \n",
    "class Child(Parent): \n",
    "\n",
    "    def __init__(self): \n",
    "        self.value = \"Inside Child\"\n",
    "  \n",
    "    def show(self): \n",
    "        print(self.value) \n",
    " \n",
    "obj1 = Parent() \n",
    "obj2 = Child() \n",
    "  \n",
    "obj1.show() \n",
    "obj2.show()"
   ]
  },
  {
   "cell_type": "code",
   "execution_count": null,
   "id": "66d80613-9b58-4379-8afc-e60e84f8e0d1",
   "metadata": {},
   "outputs": [],
   "source": []
  }
 ],
 "metadata": {
  "kernelspec": {
   "display_name": "Python 3 (ipykernel)",
   "language": "python",
   "name": "python3"
  },
  "language_info": {
   "codemirror_mode": {
    "name": "ipython",
    "version": 3
   },
   "file_extension": ".py",
   "mimetype": "text/x-python",
   "name": "python",
   "nbconvert_exporter": "python",
   "pygments_lexer": "ipython3",
   "version": "3.10.8"
  }
 },
 "nbformat": 4,
 "nbformat_minor": 5
}
