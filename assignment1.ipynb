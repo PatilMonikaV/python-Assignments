{
 "cells": [
  {
   "cell_type": "markdown",
   "id": "8828c8b4-0d26-4379-ace8-b77b0df617bf",
   "metadata": {},
   "source": [
    "Q1. How do you comment code in Python? What are the different types of comments?"
   ]
  },
  {
   "cell_type": "markdown",
   "id": "e9722068-dd6c-4104-9190-fbdff26d1b72",
   "metadata": {},
   "source": [
    "Ans:- There are three types of comments in Python:"
   ]
  },
  {
   "cell_type": "markdown",
   "id": "a6f9bf92-73c1-4846-90ae-21844046ba4e",
   "metadata": {},
   "source": [
    "Single-line comments: These comments start with a hash (#) symbol and continue to the end of the line."
   ]
  },
  {
   "cell_type": "code",
   "execution_count": 1,
   "id": "5afc92f1-43d9-4f63-8b10-8702bffe7390",
   "metadata": {},
   "outputs": [],
   "source": [
    "# This is a single-line comment"
   ]
  },
  {
   "cell_type": "markdown",
   "id": "8083cf88-1f66-49de-8a8f-0b8a9d754541",
   "metadata": {},
   "source": [
    "Multi-line comments: These comments start with a triple quote (''' or \"\"\") and end with a triple quote on a new line."
   ]
  },
  {
   "cell_type": "code",
   "execution_count": 3,
   "id": "2c38235d-eebc-41b2-90f0-c1aeaf215fd2",
   "metadata": {},
   "outputs": [
    {
     "data": {
      "text/plain": [
       "'This is a multi-line comment.\\nIt can span multiple lines.'"
      ]
     },
     "execution_count": 3,
     "metadata": {},
     "output_type": "execute_result"
    }
   ],
   "source": [
    "\"\"\"This is a multi-line comment.\n",
    "It can span multiple lines.\"\"\""
   ]
  },
  {
   "cell_type": "markdown",
   "id": "036ed565-f7d3-4b02-bb7a-c6ec1d3cbdc2",
   "metadata": {},
   "source": [
    "Docstrings: These comments are used to document functions, classes, and modules. They start with a triple quote (''' or \"\") and end with a triple quote on a new line, but they also include the function's name and arguments"
   ]
  },
  {
   "cell_type": "code",
   "execution_count": 4,
   "id": "de39d677-6106-4676-89af-f1425a7ab465",
   "metadata": {},
   "outputs": [],
   "source": [
    "def my_function(arg1, arg2):\n",
    "    '''This is a docstring.\n",
    "    It documents the my_function function.\n",
    "\n",
    "    Args:\n",
    "        arg1 (int): The first argument.\n",
    "        arg2 (str): The second argument.\n",
    "\n",
    "    Returns:\n",
    "        int: The sum of arg1 and arg2.\n",
    "    '''\n",
    "    return arg1 + arg2"
   ]
  },
  {
   "cell_type": "code",
   "execution_count": null,
   "id": "9d139792-fc97-4832-aed5-b427c356f927",
   "metadata": {},
   "outputs": [],
   "source": []
  },
  {
   "cell_type": "markdown",
   "id": "bc1eed86-bbff-4cdc-b2b6-0689548da4dc",
   "metadata": {},
   "source": [
    "Q2. What are variables in Python? How do you declare and assign values to variables?"
   ]
  },
  {
   "cell_type": "markdown",
   "id": "a4aa5a45-bbae-4bc6-8183-0d9a0648655d",
   "metadata": {},
   "source": [
    "Variables are used to store data in Python. They are named containers that can hold different types of data, such as numbers, strings, lists, and dictionaries. Variables are important because they allow us to store data and use it in our programs.\n",
    "To declare a variable in Python, you simply assign a value to it.\n",
    "lets's take an example of variable as 'num'."
   ]
  },
  {
   "cell_type": "code",
   "execution_count": 5,
   "id": "54b2e9e8-a08d-4c4d-99c5-9fb5ba7cbc21",
   "metadata": {},
   "outputs": [
    {
     "name": "stdout",
     "output_type": "stream",
     "text": [
      "number is positive\n"
     ]
    }
   ],
   "source": [
    "num=10\n",
    "if num>0:\n",
    "    print(\"number is positive\")\n",
    "else:\n",
    "    print(\"number is negative\")"
   ]
  },
  {
   "cell_type": "markdown",
   "id": "c3982c9a-2c2b-456f-b1cd-14248651228f",
   "metadata": {},
   "source": [
    "Q3. How do you convert one data type to another in Python?"
   ]
  },
  {
   "cell_type": "markdown",
   "id": "03bb28e0-6427-4196-a798-fc6f1416ec44",
   "metadata": {},
   "source": [
    "There are two ways to convert one data type to another in Python:\n",
    "Implicit type conversion: This is when Python automatically converts one data type to another. For example, if you add a string and an integer, Python will automatically convert the string to an integer.\n",
    "Explicit type conversion: This is when you use a function to convert one data type to another. For example, you can use the int() function to convert a string to an integer.\n",
    "Here are some examples of how to convert one data type to another in Python:"
   ]
  },
  {
   "cell_type": "code",
   "execution_count": 7,
   "id": "6690262b-8995-4e4f-ab52-e0369569fa11",
   "metadata": {},
   "outputs": [
    {
     "data": {
      "text/plain": [
       "123"
      ]
     },
     "execution_count": 7,
     "metadata": {},
     "output_type": "execute_result"
    }
   ],
   "source": [
    "# Convert a string to an integer\n",
    "int(\"123\")"
   ]
  },
  {
   "cell_type": "code",
   "execution_count": 8,
   "id": "1d01266d-6fb3-45ed-ac52-2a3bd410e4aa",
   "metadata": {},
   "outputs": [
    {
     "data": {
      "text/plain": [
       "123.0"
      ]
     },
     "execution_count": 8,
     "metadata": {},
     "output_type": "execute_result"
    }
   ],
   "source": [
    "# Convert an integer to a float\n",
    "float(123)"
   ]
  },
  {
   "cell_type": "code",
   "execution_count": 9,
   "id": "52c646d3-9efc-4f00-bc3e-8381e43abb28",
   "metadata": {},
   "outputs": [
    {
     "data": {
      "text/plain": [
       "'123.45'"
      ]
     },
     "execution_count": 9,
     "metadata": {},
     "output_type": "execute_result"
    }
   ],
   "source": [
    "# Convert a float to a string\n",
    "str(123.45)"
   ]
  },
  {
   "cell_type": "code",
   "execution_count": 10,
   "id": "93b6afc6-89bc-4adf-ba98-4a0f0727c57a",
   "metadata": {},
   "outputs": [
    {
     "data": {
      "text/plain": [
       "(1, 2, 3)"
      ]
     },
     "execution_count": 10,
     "metadata": {},
     "output_type": "execute_result"
    }
   ],
   "source": [
    "# Convert a list to a tuple\n",
    "tuple([1, 2, 3])"
   ]
  },
  {
   "cell_type": "code",
   "execution_count": 11,
   "id": "e3ddd355-b227-4e7b-9abf-13b9aa185e3b",
   "metadata": {},
   "outputs": [
    {
     "data": {
      "text/plain": [
       "[1, 2, 3]"
      ]
     },
     "execution_count": 11,
     "metadata": {},
     "output_type": "execute_result"
    }
   ],
   "source": [
    "# Convert a tuple to a list\n",
    "list((1, 2, 3))"
   ]
  },
  {
   "cell_type": "markdown",
   "id": "049461a3-a048-457b-bd4f-c2cb46afc58c",
   "metadata": {},
   "source": [
    "Q4. How do you write and execute a Python script from the command line?"
   ]
  },
  {
   "cell_type": "markdown",
   "id": "4f8e73de-661b-42bd-b928-08654978542f",
   "metadata": {},
   "source": [
    "To write and execute a Python script from the command line, you will need to:\n",
    "Open a terminal or command prompt window.\n",
    "Navigate to the directory where your Python script is located using the cd command.\n",
    "Execute your script by typing python followed by the name of your script.\n",
    "For example, if your Python script is called hello.py, you would navigate to the directory where it is located and then type the following command:"
   ]
  },
  {
   "cell_type": "raw",
   "id": "f24dbdd1-54dd-4682-ab65-9e8409595d11",
   "metadata": {},
   "source": [
    "python hello.py"
   ]
  },
  {
   "cell_type": "markdown",
   "id": "c993786d-d8d4-4aa0-b625-3d615a1720c7",
   "metadata": {},
   "source": [
    "Q5. Given a list my_list = [1, 2, 3, 4, 5], write the code to slice the list and obtain the sub-list [2, 3]."
   ]
  },
  {
   "cell_type": "code",
   "execution_count": 17,
   "id": "3b8d7489-37e2-4c9f-b454-cca8589f13ad",
   "metadata": {},
   "outputs": [
    {
     "data": {
      "text/plain": [
       "[2, 3]"
      ]
     },
     "execution_count": 17,
     "metadata": {},
     "output_type": "execute_result"
    }
   ],
   "source": [
    "my_list=[1,2,3,4,5]\n",
    "sub_list=my_list[1:3]\n",
    "sub_list"
   ]
  },
  {
   "cell_type": "markdown",
   "id": "b24f93ff-872e-4aa7-948f-0d06c03edc35",
   "metadata": {},
   "source": [
    "Q6. What is a complex number in mathematics, and how is it represented in Python?"
   ]
  },
  {
   "cell_type": "markdown",
   "id": "038789eb-3dbc-4734-aa4f-e5432a8464ae",
   "metadata": {},
   "source": [
    "Python helps to tackle and manipulate them. Complex numbers are created from two real numbers. You can create it directly or you can use the complex function. It is written in the form of (x + yj) where x and y are real numbers and j is an imaginary number which is the square root of -1"
   ]
  },
  {
   "cell_type": "code",
   "execution_count": 19,
   "id": "87e72422-b762-468e-a1c3-91ca794e440d",
   "metadata": {},
   "outputs": [
    {
     "name": "stdout",
     "output_type": "stream",
     "text": [
      "(5+7j)\n"
     ]
    }
   ],
   "source": [
    "z = complex(5, 7)\n",
    "print(z)"
   ]
  },
  {
   "cell_type": "markdown",
   "id": "1f44c7a0-a677-4095-8390-81ff9f28b609",
   "metadata": {},
   "source": [
    "Q7. What is the correct way to declare a variable named age and assign the value 25 to it?"
   ]
  },
  {
   "cell_type": "markdown",
   "id": "534b5da2-c116-4ade-b2ea-2491cd4a72d0",
   "metadata": {},
   "source": [
    "Declare a variable by naming it and assigning it a value. The variable's data type will be automatically determined from the value assigned"
   ]
  },
  {
   "cell_type": "code",
   "execution_count": 21,
   "id": "57713332-d33f-4d85-bc66-b706e8f24e5b",
   "metadata": {},
   "outputs": [],
   "source": [
    "age=25"
   ]
  },
  {
   "cell_type": "markdown",
   "id": "25baab43-4d5c-4b24-bd10-8538754f23ae",
   "metadata": {},
   "source": [
    "Q8. Declare a variable named price and assign the value 9.99 to it. What data type does this variable\n",
    "belong to?"
   ]
  },
  {
   "cell_type": "code",
   "execution_count": 23,
   "id": "1baa2ff3-23bd-41ba-85f3-9129a5559d7b",
   "metadata": {},
   "outputs": [
    {
     "data": {
      "text/plain": [
       "float"
      ]
     },
     "execution_count": 23,
     "metadata": {},
     "output_type": "execute_result"
    }
   ],
   "source": [
    "price=9.99\n",
    "type(price)"
   ]
  },
  {
   "cell_type": "markdown",
   "id": "60af5275-af9a-4bae-841f-b5b7ef5cad55",
   "metadata": {},
   "source": [
    "Q9. Create a variable named name and assign your full name to it as a string. How would you print the\n",
    "value of this variable?"
   ]
  },
  {
   "cell_type": "code",
   "execution_count": 24,
   "id": "9f7e0e81-342a-4bf2-a4d5-478ca87aab11",
   "metadata": {},
   "outputs": [
    {
     "name": "stdout",
     "output_type": "stream",
     "text": [
      "Patil Mona\n"
     ]
    }
   ],
   "source": [
    "name=\"Patil Mona\"\n",
    "print(name)"
   ]
  },
  {
   "cell_type": "markdown",
   "id": "3fc202fc-302e-4684-bbdc-8aff84c7c0d7",
   "metadata": {},
   "source": [
    "Q10. Given the string \"Hello, World!\", extract the substring \"World\"."
   ]
  },
  {
   "cell_type": "code",
   "execution_count": 26,
   "id": "070c6b09-d31b-4a33-b2bf-68a63f44a15b",
   "metadata": {},
   "outputs": [
    {
     "name": "stdout",
     "output_type": "stream",
     "text": [
      " World\n"
     ]
    }
   ],
   "source": [
    "string=\"hellow , World!\"\n",
    "print(string[8:14])"
   ]
  },
  {
   "cell_type": "markdown",
   "id": "021a5c5d-c45b-4d13-ab2f-2aa4ee21801a",
   "metadata": {},
   "source": [
    "Q11. Create a variable named \"is_student\" and assign it a boolean value indicating whether you are\n",
    "currently a student or not."
   ]
  },
  {
   "cell_type": "code",
   "execution_count": 34,
   "id": "a68bc7f3-c851-47ab-ae2b-834908719844",
   "metadata": {},
   "outputs": [
    {
     "name": "stdout",
     "output_type": "stream",
     "text": [
      "True\n"
     ]
    }
   ],
   "source": [
    "is_student= True\n",
    "print(is_student)"
   ]
  },
  {
   "cell_type": "code",
   "execution_count": null,
   "id": "c4dd3f83-18ab-40f1-b0f6-e3aa0ce022fd",
   "metadata": {},
   "outputs": [],
   "source": []
  }
 ],
 "metadata": {
  "kernelspec": {
   "display_name": "Python 3 (ipykernel)",
   "language": "python",
   "name": "python3"
  },
  "language_info": {
   "codemirror_mode": {
    "name": "ipython",
    "version": 3
   },
   "file_extension": ".py",
   "mimetype": "text/x-python",
   "name": "python",
   "nbconvert_exporter": "python",
   "pygments_lexer": "ipython3",
   "version": "3.10.8"
  }
 },
 "nbformat": 4,
 "nbformat_minor": 5
}
