{
 "cells": [
  {
   "cell_type": "markdown",
   "id": "c3230cf0-ff69-4f43-9f68-750a0005501e",
   "metadata": {},
   "source": [
    "# Q1. What is an API? Give an example, where an API is used in real life."
   ]
  },
  {
   "cell_type": "markdown",
   "id": "f8aa654b-3a01-4f85-a252-d6b2b7a67f4f",
   "metadata": {},
   "source": [
    "An Application Programming Interface (API) is a software interface that allows two or more computer programs to communicate with each other. It's a type of service that other pieces of software can use. \n",
    "Here are some examples of APIs in real life: \n",
    "Weather apps\n",
    "A weather app on your phone uses APIs to communicate with the weather bureau's software system to show you daily weather updates.\n",
    "Online payment processing\n",
    "APIs are commonly used in online payment processing systems such as PayPal or Stripe.\n",
    "Social media interactions\n",
    "APIs power various experiences, from social media interactions to real-time weather data access."
   ]
  },
  {
   "cell_type": "markdown",
   "id": "ddc4e589-6a28-4e4f-843f-e5a4cda22dc5",
   "metadata": {},
   "source": [
    "# Q2. Give advantages and disadvantages of using API."
   ]
  },
  {
   "cell_type": "markdown",
   "id": "29f57abb-95d1-4961-9161-4643e02a9d56",
   "metadata": {},
   "source": [
    "Here are some advantages and disadvantages of using APIs:   \n",
    "Pros    \n",
    "Access to data and services APIs allow organizations to access data and services from many sources without developing their own applications.   Integration APIs allow different systems, applications, and platforms to connect and share information.    \n",
    "Automation APIs can automate tasks and allow computers to manage work instead of people.   \n",
    "Improved services APIs can improve services.    \n",
    "Innovation APIs can help businesses innovate as demand for modern software increases.     \n",
    "Customization APIs can enhance customization.     \n",
    "Customer experience APIs can improve the customer experience.    \n",
    "Cost savings APIs can save costs.    \n",
    "Cons     \n",
    "Complexity APIs can be complex and require a lot of development effort to implement and maintain.    \n",
    "Compatibility issues APIs can have compatibility issues between different versions of the same software system or between different systems.    \n",
    "Security gaps APIs can be secure, but it's easy to have security gaps due to the quantity and complexity of APIs.    \n",
    "Single point of failure If not configured correctly, the API Gateway could become a single point of failure in the system.    \n",
    "Vulnerability to attacks Poor integration can make APIs vulnerable to attacks.     \n",
    "Primary target for hackers As a single point of entry, an API is a gateway and can become a hacker's primary target.     "
   ]
  },
  {
   "cell_type": "markdown",
   "id": "614b48a8-e451-4f75-b134-454915c84b21",
   "metadata": {},
   "source": [
    "# Q3. What is a Web API? Differentiate between API and Web API."
   ]
  },
  {
   "cell_type": "markdown",
   "id": "2c964dfd-4e65-4395-af16-cd042858f737",
   "metadata": {},
   "source": [
    "A Web API is a software application that allows two machines or applications to interact without user interference. It's a type of software interface that offers a service to other software. \n",
    "\n",
    "API stands for Application Programming Interface. It's a way for two or more computer programs to communicate with each other. APIs are an accessible way to extract and share data within and across organizations. \n",
    "A Web API is a framework that helps you to create and develop HTTP based RESTFUL services. It can be accessed over the web using the HTTP protocol. \n",
    "A Web API allows access to service data from mobile apps, web browsers, and other devices. It also supports JSON, XML, and other data formats."
   ]
  },
  {
   "cell_type": "markdown",
   "id": "4f83445e-a7f7-465f-a2c6-ae576cc01f0e",
   "metadata": {},
   "source": [
    "# Q4. Explain REST and SOAP Architecture. Mention shortcomings of SOAP."
   ]
  },
  {
   "cell_type": "markdown",
   "id": "fff2e5e7-b4b3-4ea5-b403-ddcdc4053bf9",
   "metadata": {},
   "source": [
    "REST and SOAP are both architectural styles for computer systems on the web. REST stands for Representational State Transfer and is a style that defines how a distributed, Internet-scale hypermedia system should behave. SOAP is a protocol that uses service interfaces to expose functionality to client applications.      \n",
    "Here are some shortcomings of SOAP:       \n",
    "XML format: SOAP is slow because it uses XML format, and the payload for a simple string message is large.    \n",
    "Security features: The SOAP specification doesn't include any security features.     \n",
    "Learning curve: SOAP has a higher learning curve than REST.     "
   ]
  },
  {
   "cell_type": "markdown",
   "id": "afa4bf54-de2e-45c9-ada5-6fb083e4c94f",
   "metadata": {},
   "source": [
    "# Q5. Differentiate between REST and SOAP."
   ]
  },
  {
   "cell_type": "markdown",
   "id": "49c1ac32-9710-447c-b5d7-8797f7cbd818",
   "metadata": {},
   "source": [
    "REST and SOAP are two different ways to connect applications with server-side data. Both use data that both humans and machines can read, and both often use HTTP protocols.   \n",
    "Here are some differences between REST and SOAP:    \n",
    "Type: SOAP is a protocol, while REST is an architectural style.    \n",
    "Function: REST APIs access a resource for data (a URI); SOAP APIs perform an operation.    \n",
    "Communication: SOAP uses WSDL for communication between consumer and provider, while REST uses XML or JSON to send and receive data.    \n",
    "Security: SOAP has WS-security (Enterprise-level security) with SSL support. It also has built-in ACID (Atomicity, Consistency, Integrity, Durability) compliance.     \n",
    "Bandwidth: SOAP requires more bandwidth, whereas REST requires fewer resources.     \n",
    "Formats: SOAP only works with XML formats, whereas REST works with plain text, XML, HTML, and JSON.    \n",
    "Flexibility: SOAP is a structured protocol, while REST is more flexible and less defined.     \n",
    "Caching: SOAP API calls cannot be cached, while REST API calls can be cached.      \n",
    "SOAP is used while exchanging sensitive information.    "
   ]
  },
  {
   "cell_type": "code",
   "execution_count": null,
   "id": "1eb54168-e9df-4d75-a166-7472c74fc816",
   "metadata": {},
   "outputs": [],
   "source": []
  }
 ],
 "metadata": {
  "kernelspec": {
   "display_name": "Python 3 (ipykernel)",
   "language": "python",
   "name": "python3"
  },
  "language_info": {
   "codemirror_mode": {
    "name": "ipython",
    "version": 3
   },
   "file_extension": ".py",
   "mimetype": "text/x-python",
   "name": "python",
   "nbconvert_exporter": "python",
   "pygments_lexer": "ipython3",
   "version": "3.10.8"
  }
 },
 "nbformat": 4,
 "nbformat_minor": 5
}
