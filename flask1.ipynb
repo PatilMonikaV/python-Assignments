{
 "cells": [
  {
   "cell_type": "markdown",
   "id": "3fe9d4cf-364e-497a-9c2d-3bdf1ee9f160",
   "metadata": {},
   "source": [
    "# Q1. What is Flask Framework? What are the advantages of Flask Framework?"
   ]
  },
  {
   "cell_type": "markdown",
   "id": "05b56c88-61ac-428b-8cec-03e05f735903",
   "metadata": {},
   "source": [
    "Flask is a lightweight Python web framework that provides tools and features for creating web applications. It's considered a microframework because it doesn't require specific tools or libraries. \n",
    "Here are some advantages of Flask:   \n",
    "Flexible    \n",
    "Flask gives developers flexibility and is accessible for new developers. It's suitable for small projects and offers a built-in development server and fast debugger.   \n",
    "Scalable    \n",
    "Flask's status as a microframework means it can be used to quickly grow a tech project.   \n",
    "Documentation     \n",
    "Flask has documentation.    \n",
    "Built-in functionality    \n",
    "Flask has a lot of built-in functionality, such as support for templates, session management, and user authentication.    \n",
    "Well-suited for building REST APIs    \n",
    "Flask's flexibility and simplicity make it well-suited for building REST APIs.    "
   ]
  },
  {
   "cell_type": "markdown",
   "id": "9a9907b3-85c7-4c80-88de-fb924c047980",
   "metadata": {},
   "source": [
    "# Q2. Create a simple Flask application to display ‘Hello World!!’. Attach the screenshot of the output in Jupyter Notebook."
   ]
  },
  {
   "cell_type": "markdown",
   "id": "821d8c88-c9cc-49c1-a68a-bcca83afb81e",
   "metadata": {},
   "source": [
    "![image.png](attachment:6ed826e8-6abe-4ba5-8673-b577e4a43ece.png)"
   ]
  },
  {
   "cell_type": "markdown",
   "id": "6bbe4554-30f6-438f-b3f3-4360386babcc",
   "metadata": {},
   "source": [
    "# Q3. What is App routing in Flask? Why do we use app routes?"
   ]
  },
  {
   "cell_type": "markdown",
   "id": "42dd4494-e882-482f-8f4b-f2804b95ecc1",
   "metadata": {},
   "source": [
    "App routing in Flask is the process of mapping URLs to specific functions. This allows us to define different pages in our application and control how users navigate between them.     \n",
    "There are a few reasons why we might want to use app routes:     \n",
    "To organize our code: By mapping URLs to specific functions, we can keep our code more organized and easier to maintain.          \n",
    "To improve user experience: By using meaningful URLs, we can make it easier for users to remember how to navigate our application.      \n",
    "To implement security measures: We can use app routes to control which users have access to which pages in our application.       \n",
    "There are a few different ways to implement app routes in Flask. The most common way is to use the @app.route() decorator. This decorator takes a URL as its argument and maps it to the function that will be called when that URL is requested.    "
   ]
  },
  {
   "cell_type": "markdown",
   "id": "87ee5bf6-7973-4a8b-9c02-d3b34f6a1a57",
   "metadata": {},
   "source": [
    "Q4. Create a “/welcome” route to display the welcome message “Welcome to ABC Corporation” and a “/”\n",
    "route to show the following details:\n",
    "Company Name: ABC Corporation\n",
    "Location: India\n",
    "Contact Detail: 999-999-9999"
   ]
  },
  {
   "cell_type": "markdown",
   "id": "b19cbc87-f4d6-4092-8a3c-f0e10c68942b",
   "metadata": {},
   "source": [
    "from flask import Flask    \n",
    "\n",
    "app = Flask(__name__)   \n",
    "\n",
    "@app.route(\"/\")       \n",
    "def hello_world():   \n",
    "    return \"Company Name: ABC Corporation,  Location: India,  Contact Detail: 999-999-9999\"\n",
    "\n",
    "@app.route(\"/welcome\")    \n",
    "def hello_world1():    \n",
    "    return \"Welcome to ABC corporation\"    \n",
    "\n",
    "if __name__==\"__main__\":   \n",
    "    app.run(host=\"0.0.0.0\")    \n"
   ]
  },
  {
   "cell_type": "markdown",
   "id": "3252e157-bb92-41b0-b626-ef3fe09907ba",
   "metadata": {},
   "source": [
    "# Q5. What function is used in Flask for URL Building? Write a Python code to demonstrate the working of the url_for() function."
   ]
  },
  {
   "cell_type": "markdown",
   "id": "3046f74f-3741-43f1-8fca-e70a31b6feb2",
   "metadata": {},
   "source": [
    "The url_for() function is used in Flask for URL Building. It is a built-in function that allows you to generate URLs dynamically for different routes or views in your Flask application.     \n",
    "The syntax of the url_for() function is as follows:    \n",
    "url_for(endpoint, **values)    \n",
    "\n",
    "where:\n",
    "endpoint: is the name of the function that you want to generate a URL for.      \n",
    "values: is a dictionary of keyword arguments that you want to pass to the function.     "
   ]
  },
  {
   "cell_type": "markdown",
   "id": "505401c5-688f-4123-b3d9-73c69b78e1a7",
   "metadata": {},
   "source": [
    "from flask import Flask, url_for\n",
    "\n",
    "app = Flask(__name__)\n",
    "\n",
    "@app.route(\"/\")\n",
    "def hello_world():\n",
    "    return \"Hello, World!\"\n",
    "\n",
    "@app.route(\"/hello/<name>\")\n",
    "def hello_user(name):\n",
    "    return f\"Hello, {name}!\"\n",
    "\n",
    "if __name__ == \"__main__\":\n",
    "    print(url_for(\"hello_world\"))\n",
    "    print(url_for(\"hello_user\", name=\"John\"))"
   ]
  },
  {
   "cell_type": "code",
   "execution_count": null,
   "id": "4086e77a-aa84-43ea-9f53-e3f4b5f1d4fa",
   "metadata": {},
   "outputs": [],
   "source": []
  }
 ],
 "metadata": {
  "kernelspec": {
   "display_name": "Python 3 (ipykernel)",
   "language": "python",
   "name": "python3"
  },
  "language_info": {
   "codemirror_mode": {
    "name": "ipython",
    "version": 3
   },
   "file_extension": ".py",
   "mimetype": "text/x-python",
   "name": "python",
   "nbconvert_exporter": "python",
   "pygments_lexer": "ipython3",
   "version": "3.10.8"
  }
 },
 "nbformat": 4,
 "nbformat_minor": 5
}
