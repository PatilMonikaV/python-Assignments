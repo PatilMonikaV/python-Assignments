{
 "cells": [
  {
   "cell_type": "markdown",
   "id": "f59d7ffe-6fc3-4b25-902a-668cd34c3f30",
   "metadata": {},
   "source": [
    "Q1. What is a database? Differentiate between SQL and NoSQL databases."
   ]
  },
  {
   "cell_type": "markdown",
   "id": "86310c2f-b78c-48b5-bef8-5fcdbfea70e7",
   "metadata": {},
   "source": [
    "A database is a systematic collection of data that is stored electronically. Databases can contain any type of data, such as images, videos, numbers, words, and files. \n",
    "\n",
    "The five critical differences between SQL and NoSQL are:\n",
    "\n",
    "SQL databases are relational, and NoSQL databases are non-relational.   \n",
    "SQL databases use structured query language (SQL) and have a predefined schema. NoSQL databases have dynamic schemas for unstructured data.   \n",
    "SQL databases are vertically scalable, while NoSQL databases are horizontally scalable.   \n",
    "SQL databases are table-based, while NoSQL databases are document, key-value, graph, or wide-column stores.    \n",
    "SQL databases are better for multi-row transactions, while NoSQL is better for unstructured data like documents or JSON.    "
   ]
  },
  {
   "cell_type": "markdown",
   "id": "363b384f-4ccb-4e1c-937f-6e2d5d3b6d77",
   "metadata": {},
   "source": [
    "Q2. What is DDL? Explain why CREATE, DROP, ALTER, and TRUNCATE are used with an example."
   ]
  },
  {
   "cell_type": "markdown",
   "id": "695bc05c-8704-46a0-ba5f-5ca880b8901f",
   "metadata": {},
   "source": [
    "DDL stands for Data Definition Language. It's a language used to define data structures and modify data. DDL commands are often used during the design and setup phase of a database.   \n",
    "Data Definition Language(DDL) is a subset of SQL and a part of DBMS(Database Management System). DDL consist of Commands to commands like CREATE, ALTER, TRUNCATE and DROP. These commands are used to create or modify the tables in SQL    \n",
    "CREATE: Creates database objects like tables, indexes, and views   \n",
    "ALTER: Modifies the structure of existing database objects   \n",
    "DROP: Deletes database objects, removing them entirely   \n",
    "TRUNCATE: Removes all rows from a table while preserving its structure   "
   ]
  },
  {
   "cell_type": "markdown",
   "id": "cf795185-273b-4e5f-a818-ec1f162a9442",
   "metadata": {},
   "source": [
    "Q3. What is DML? Explain INSERT, UPDATE, and DELETE with an example."
   ]
  },
  {
   "cell_type": "markdown",
   "id": "2c9bc51c-75fc-4f93-98f9-ba505ce69b5c",
   "metadata": {},
   "source": [
    "Data Manipulation Language (DML) is a computer programming language that allows users to add, delete, and modify data in a database. DML is often a sublanguage of a larger database language, like SQL.    \n",
    "\n",
    "Here are some examples of DML operations:   \n",
    "Insert   \n",
    "To put or fit something into something else. For example, to add writing to a text or form.   \n",
    "Update   \n",
    "To change something by including the most recent information. For example, to bring up to date or make conform to the most recent facts, methods, or ideas.   \n",
    "Delete   \n",
    "To remove something, such as words, pictures, or computer files, from a document, recording, or computer. For example, to eliminate something by blotting out, cutting out, or erasing.    "
   ]
  },
  {
   "cell_type": "markdown",
   "id": "bfe6d722-44ee-4d2c-80f2-6b7b34f6234d",
   "metadata": {},
   "source": [
    "Q4. What is DQL? Explain SELECT with an example."
   ]
  },
  {
   "cell_type": "markdown",
   "id": "cd348767-b431-4d55-a056-07e1976cb739",
   "metadata": {},
   "source": [
    "DQL stands for Data Query Language. It is a part of Structured Query Language (SQL) that is used to retrieve data from a database. DQL statements are used to perform queries on the data within schema objects. The purpose of DQL commands is to get the schema relation based on the query passed to it. Although often considered part of DML, the SQL SELECT statement is strictly speaking an example of DQL.   \n",
    "The SELECT command is the most commonly used DQL command. It is used to retrieve a subset of records from one or more tables. The syntax for the SELECT command is as follows:   \n",
    "SELECT column_name(s) FROM table_name [WHERE condition];     \n",
    "The column_name(s) are the columns that you want to retrieve from the table_name. The condition is an optional clause that can be used to filter the results. For example, the following query would retrieve all of the records from the customers table where the country column is equal to USA:   "
   ]
  },
  {
   "cell_type": "markdown",
   "id": "90c53399-26be-4f43-91bb-4eab76c15a20",
   "metadata": {},
   "source": [
    "Q5. Explain Primary Key and Foreign Key."
   ]
  },
  {
   "cell_type": "markdown",
   "id": "0a00f025-5b76-4c88-b8c5-047390bb08df",
   "metadata": {},
   "source": [
    "In database design, primary keys and foreign keys are important concepts that help establish relationships between tables and ensure data integrity. \n",
    "\n",
    "Here are some differences between primary keys and foreign keys:    \n",
    "Primary keys   \n",
    "Uniquely identify each record in a table. Primary keys are columns that uniquely identify every row in a relational database management system table. Primary keys never accept null values.   \n",
    "Foreign keys   \n",
    "Establish a relationship between tables by referencing the primary key of another table. Foreign keys are columns that create a relationship between two tables. Foreign keys may accept multiple null values.   \n",
    "Here's an example of a primary key and foreign key:    \n",
    "Primary key: The student_id column in the students table.   \n",
    "Foreign key: The student_id column in the enrollments table.   "
   ]
  },
  {
   "cell_type": "markdown",
   "id": "241d33c3-e268-4843-a771-53d5c89cf0b8",
   "metadata": {},
   "source": [
    "Q6. Write a python code to connect MySQL to python. Explain the cursor() and execute() method."
   ]
  },
  {
   "cell_type": "raw",
   "id": "2bb04f0f-1642-46d5-84d4-13e122b03f1c",
   "metadata": {},
   "source": [
    "\n",
    "import mysql.connector\n",
    "\n",
    "mydb = mysql.connector.connect(\n",
    "    host=\"localhost\",\n",
    "    user=\"root\",\n",
    "    password=\"password\",\n",
    "    database=\"mydatabase\"\n",
    ")\n",
    "\n",
    "mycursor = mydb.cursor()\n",
    "\n",
    "mycursor.execute(\"SELECT * FROM customers\")\n",
    "\n",
    "myresult = mycursor.fetchall()\n",
    "\n",
    "for x in myresult:\n",
    "    print(x)\n",
    "\n",
    "mycursor.close()\n",
    "mydb.close()\n"
   ]
  },
  {
   "cell_type": "markdown",
   "id": "a2260322-eaf4-44b1-8800-18b0ea0f2d65",
   "metadata": {},
   "source": [
    "The cursor() method creates a cursor object. A cursor object is used to execute SQL statements and fetch results.     \n",
    "The execute() method executes a SQL statement. In this example, we are executing a SELECT statement to fetch all customers from the customers table.   "
   ]
  },
  {
   "cell_type": "markdown",
   "id": "f7ed7cd5-81a4-4b7b-b2e3-a51c81a89f88",
   "metadata": {},
   "source": [
    "Q7. Give the order of execution of SQL clauses in an SQL query."
   ]
  },
  {
   "cell_type": "markdown",
   "id": "b0a58013-3683-4402-834a-41e7987977b8",
   "metadata": {},
   "source": [
    "The order of execution of SQL clauses in an SQL query is as follows:\n",
    "FROM    \n",
    "WHERE    \n",
    "GROUP BY    \n",
    "HAVING    \n",
    "SELECT   \n",
    "ORDER BY   \n",
    "LIMIT   \n",
    "The FROM clause specifies the table or tables from which the data will be retrieved. The WHERE clause is used to filter the data based on a specific condition. The GROUP BY clause is used to group the data by one or more columns and aggregate the results. The HAVING clause is used to filter the groups based on a specific condition. The SELECT clause is used to specify the columns to be retrieved. The ORDER BY clause is used to sort the results in a specific order. The LIMIT clause is used to limit the number of rows returned.    \n",
    "If a query contains a JOIN clause, the tables are combined by merging rows involved before the FROM clause. If a query contains a subquery, the inner query executes first before its parent query.    "
   ]
  },
  {
   "cell_type": "code",
   "execution_count": null,
   "id": "46126001-e86c-488e-9a2d-3dd24881c100",
   "metadata": {},
   "outputs": [],
   "source": []
  }
 ],
 "metadata": {
  "kernelspec": {
   "display_name": "Python 3 (ipykernel)",
   "language": "python",
   "name": "python3"
  },
  "language_info": {
   "codemirror_mode": {
    "name": "ipython",
    "version": 3
   },
   "file_extension": ".py",
   "mimetype": "text/x-python",
   "name": "python",
   "nbconvert_exporter": "python",
   "pygments_lexer": "ipython3",
   "version": "3.10.8"
  }
 },
 "nbformat": 4,
 "nbformat_minor": 5
}
