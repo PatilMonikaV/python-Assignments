{
  "cells": [
    {
      "cell_type": "markdown",
      "metadata": {
        "id": "Am2rXg7G1h7M"
      },
      "source": [
        "1.Write a Python program that defines a function called \"add_numbers\" that takes two arguments (i.e., numbers) and returns their sum. Within the function, add the two numbers together and return the result using the return statement. Call the function with the values 5 and 6, and print out the returned result. This will result in the addition of 5 and 6, with the output of the program being the sum of these two numbers."
      ]
    },
    {
      "cell_type": "code",
      "execution_count": null,
      "metadata": {
        "colab": {
          "base_uri": "https://localhost:8080/"
        },
        "id": "Dad0gBYy1lEv",
        "outputId": "a06ba5da-03cb-4590-b13e-b4450c7c0b2a"
      },
      "outputs": [
        {
          "name": "stdout",
          "output_type": "stream",
          "text": [
            "11\n"
          ]
        }
      ],
      "source": [
        "def add_numbers(num1, num2):\n",
        "    return num1 + num2\n",
        "\n",
        "result = add_numbers(5, 6)\n",
        "print(result)\n"
      ]
    },
    {
      "cell_type": "code",
      "execution_count": null,
      "metadata": {
        "id": "BXUqZj1f1ogl"
      },
      "outputs": [],
      "source": []
    },
    {
      "cell_type": "markdown",
      "metadata": {
        "id": "vfR8qKde1zNG"
      },
      "source": [
        "\n",
        "2.Write a Python program that calculates the square root of a given number using a built-in function. Specifically, the program should take an integer or float input from the user, calculate its square root using the 'sqrt()' function from the 'math' module, and print out the result to the user. As an example, calculate the square root of the number 625 using this program, which should output the value of 25.\n"
      ]
    },
    {
      "cell_type": "code",
      "execution_count": null,
      "metadata": {
        "colab": {
          "base_uri": "https://localhost:8080/"
        },
        "id": "mp2CvWEZ12BR",
        "outputId": "97f7fe85-795c-4fe8-c486-3648c2861aa6"
      },
      "outputs": [
        {
          "name": "stdout",
          "output_type": "stream",
          "text": [
            "The square root of 625 is 25.0\n"
          ]
        }
      ],
      "source": [
        "import math\n",
        "\n",
        "number = 625\n",
        "sqrt_number = math.sqrt(number)\n",
        "\n",
        "print(\"The square root of\", number, \"is\", sqrt_number)\n"
      ]
    },
    {
      "cell_type": "code",
      "execution_count": null,
      "metadata": {
        "id": "MDWvRViu15r7"
      },
      "outputs": [],
      "source": []
    },
    {
      "cell_type": "markdown",
      "metadata": {
        "id": "Fj9XwpzO2qa6"
      },
      "source": [
        "3.Write a program that prints all prime numbers between 0 to 50.\n",
        "\n"
      ]
    },
    {
      "cell_type": "code",
      "execution_count": null,
      "metadata": {
        "colab": {
          "base_uri": "https://localhost:8080/"
        },
        "id": "hsFbTFtv2sHy",
        "outputId": "9125b62c-cbfe-4653-ce6a-3c69fbf74472"
      },
      "outputs": [
        {
          "name": "stdout",
          "output_type": "stream",
          "text": [
            "2\n",
            "3\n",
            "5\n",
            "7\n",
            "11\n",
            "13\n",
            "17\n",
            "19\n",
            "23\n",
            "29\n",
            "31\n",
            "37\n",
            "41\n",
            "43\n",
            "47\n"
          ]
        }
      ],
      "source": [
        "for number in range(2, 51):\n",
        "    is_prime = True\n",
        "    for i in range(2, number):\n",
        "        if number % i == 0:\n",
        "            is_prime = False\n",
        "            break\n",
        "    if is_prime:\n",
        "        print(number)\n",
        "\n"
      ]
    },
    {
      "cell_type": "code",
      "execution_count": null,
      "metadata": {
        "id": "EpJjstv120g2"
      },
      "outputs": [],
      "source": []
    },
    {
      "cell_type": "markdown",
      "metadata": {
        "id": "RZYrMCv_21yn"
      },
      "source": [
        "4. How can we swap the values of three variables (let's say a, b, and c) without using a fourth variable? For example, if we have a=5, b=8, and c=9, how can we obtain a=9, b=5, and c=8? The challenge is to perform this operation without using an additional variable to store any of the values during the swapping process.\n",
        "\n"
      ]
    },
    {
      "cell_type": "code",
      "execution_count": null,
      "metadata": {
        "colab": {
          "base_uri": "https://localhost:8080/"
        },
        "id": "fkzYJLtr25z4",
        "outputId": "701e2596-d92d-4796-bf82-ecd7e8ba4bd2"
      },
      "outputs": [
        {
          "name": "stdout",
          "output_type": "stream",
          "text": [
            "a = 9\n",
            "b = 5\n",
            "c = 8\n"
          ]
        }
      ],
      "source": [
        "a = 5\n",
        "b = 8\n",
        "c = 9\n",
        "\n",
        "a, b, c = c, a, b\n",
        "\n",
        "print(\"a =\", a)\n",
        "print(\"b =\", b)\n",
        "print(\"c =\", c)\n"
      ]
    },
    {
      "cell_type": "code",
      "execution_count": null,
      "metadata": {
        "id": "BFr16xdZ292-"
      },
      "outputs": [],
      "source": []
    },
    {
      "cell_type": "markdown",
      "metadata": {
        "id": "kTXtoTMs2_Z0"
      },
      "source": [
        "\n",
        "5. Can you write a program that determines the nature of a given number (in this case, 87) as being positive, negative, or zero? The program should be designed to take the number as input and perform the necessary calculations to determine if the number is positive (i.e., greater than zero), negative (i.e., less than zero), or zero (i.e., equal to zero). The output of the program should indicate which of these three categories the given number falls into.\n"
      ]
    },
    {
      "cell_type": "code",
      "execution_count": null,
      "metadata": {
        "colab": {
          "base_uri": "https://localhost:8080/"
        },
        "id": "_FO93Onq3Ccb",
        "outputId": "abf5a315-bcb9-4d13-bfb3-db61e8bd4b96"
      },
      "outputs": [
        {
          "name": "stdout",
          "output_type": "stream",
          "text": [
            "The number is positive.\n"
          ]
        }
      ],
      "source": [
        "num = 87\n",
        "\n",
        "if num > 0:\n",
        "    print(\"The number is positive.\")\n",
        "elif num < 0:\n",
        "    print(\"The number is negative.\")\n",
        "else:\n",
        "    print(\"The number is zero.\")\n"
      ]
    },
    {
      "cell_type": "code",
      "execution_count": null,
      "metadata": {
        "id": "zxjybTb23Fsg"
      },
      "outputs": [],
      "source": []
    },
    {
      "cell_type": "markdown",
      "metadata": {
        "id": "fzumXi_k3HbO"
      },
      "source": [
        "6. How can you create a program that determines whether a given number (in this case, 98) is even or odd? The program should be designed to take the number as input and perform the necessary calculations to determine whether it is divisible by two. If the number is divisible by two without leaving a remainder, it is an even number, and if there is a remainder, it is an odd number. The output of the program should indicate whether the given number is even or odd.\n"
      ]
    },
    {
      "cell_type": "code",
      "execution_count": null,
      "metadata": {
        "colab": {
          "base_uri": "https://localhost:8080/"
        },
        "id": "AfaJNDUd3NSC",
        "outputId": "7f2f1ede-9158-4af2-a0f9-f39ffb09d59b"
      },
      "outputs": [
        {
          "name": "stdout",
          "output_type": "stream",
          "text": [
            "The number is even.\n"
          ]
        }
      ],
      "source": [
        "num = 98\n",
        "\n",
        "if num % 2 == 0:\n",
        "    print(\"The number is even.\")\n",
        "else:\n",
        "    print(\"The number is odd.\")\n"
      ]
    },
    {
      "cell_type": "code",
      "execution_count": null,
      "metadata": {
        "id": "4OB2bVsj3QMr"
      },
      "outputs": [],
      "source": []
    },
    {
      "cell_type": "markdown",
      "metadata": {
        "id": "rR7eZwFR3RoB"
      },
      "source": [
        "7. Write a program for sum of digits.the digits are 76543 and the output should be  25.\n"
      ]
    },
    {
      "cell_type": "code",
      "execution_count": null,
      "metadata": {
        "colab": {
          "base_uri": "https://localhost:8080/"
        },
        "id": "869ud_AG3VAh",
        "outputId": "4c3242d8-d1f0-467c-a7fd-4bc89de0f1e2"
      },
      "outputs": [
        {
          "name": "stdout",
          "output_type": "stream",
          "text": [
            "The sum of digits is: 25\n"
          ]
        }
      ],
      "source": [
        "num = 76543\n",
        "sum_of_digits = 0\n",
        "\n",
        "while num > 0:\n",
        "    sum_of_digits += num % 10\n",
        "    num //= 10\n",
        "\n",
        "print(\"The sum of digits is:\", sum_of_digits)\n"
      ]
    },
    {
      "cell_type": "markdown",
      "metadata": {
        "id": "5Babpt713bty"
      },
      "source": [
        "8. Write a program for reversing the given number  5436 and the output  should be 6345.\n"
      ]
    },
    {
      "cell_type": "code",
      "execution_count": null,
      "metadata": {
        "colab": {
          "base_uri": "https://localhost:8080/"
        },
        "id": "bQO2qM1j3g2-",
        "outputId": "8ed29485-7c4b-4ef3-c1c9-5b32a66516a5"
      },
      "outputs": [
        {
          "name": "stdout",
          "output_type": "stream",
          "text": [
            "The reversed number is: 6345\n"
          ]
        }
      ],
      "source": [
        "num = 5436\n",
        "reverse = 0\n",
        "\n",
        "while num > 0:\n",
        "    # Extract the rightmost digit of the number\n",
        "    digit = num % 10\n",
        "\n",
        "    # Add the extracted digit to the reverse number\n",
        "    reverse = (reverse * 10) + digit\n",
        "\n",
        "    # Remove the rightmost digit from the number\n",
        "    num //= 10\n",
        "\n",
        "print(\"The reversed number is:\", reverse)\n",
        "\n"
      ]
    },
    {
      "cell_type": "code",
      "execution_count": null,
      "metadata": {
        "id": "OIRUqWsc3qCc"
      },
      "outputs": [],
      "source": []
    },
    {
      "cell_type": "markdown",
      "metadata": {
        "id": "d1uNaz4S3uTz"
      },
      "source": [
        "9.Write a program to check  a given number 371 is an Armstrong number?\n"
      ]
    },
    {
      "cell_type": "code",
      "execution_count": null,
      "metadata": {
        "colab": {
          "base_uri": "https://localhost:8080/"
        },
        "id": "GPmY6_-M3vvv",
        "outputId": "aa907ae3-2fd3-4098-c693-19f984f3937d"
      },
      "outputs": [
        {
          "name": "stdout",
          "output_type": "stream",
          "text": [
            "371 is an Armstrong number\n"
          ]
        }
      ],
      "source": [
        "\n",
        "# Function to check if a number is an Armstrong number\n",
        "def is_armstrong(num):\n",
        "    # Get the number of digits in the given number\n",
        "    num_str = str(num)\n",
        "    num_digits = len(num_str)\n",
        "\n",
        "    # Calculate the sum of the cubes of each digit\n",
        "    sum_of_cubes = sum([int(digit)**num_digits for digit in num_str])\n",
        "\n",
        "    # Check if the sum of the cubes is equal to the original number\n",
        "    if sum_of_cubes == num:\n",
        "        return True\n",
        "    else:\n",
        "        return False\n",
        "\n",
        "# Test the function with the number 371\n",
        "num = 371\n",
        "if is_armstrong(num):\n",
        "    print(num, \"is an Armstrong number\")\n",
        "else:\n",
        "    print(num, \"is not an Armstrong number\")\n",
        "\n"
      ]
    },
    {
      "cell_type": "code",
      "execution_count": null,
      "metadata": {
        "id": "hSGtbnby3z12"
      },
      "outputs": [],
      "source": []
    },
    {
      "cell_type": "markdown",
      "metadata": {
        "id": "pa6_68hQ31rv"
      },
      "source": [
        "10. Write a program the given year is 1996  a leap year.\n"
      ]
    },
    {
      "cell_type": "code",
      "execution_count": null,
      "metadata": {
        "colab": {
          "base_uri": "https://localhost:8080/"
        },
        "id": "l6k8Ce9434rJ",
        "outputId": "173e0a89-7272-4b72-afa4-24e823c51f2a"
      },
      "outputs": [
        {
          "name": "stdout",
          "output_type": "stream",
          "text": [
            "1996 is a leap year\n"
          ]
        }
      ],
      "source": [
        "year = 1996\n",
        "\n",
        "if (year % 4 == 0 and year % 100 != 0) or (year % 400 == 0):\n",
        "    print(year, \"is a leap year\")\n",
        "else:\n",
        "    print(year, \"is not a leap year\")\n"
      ]
    },
    {
      "cell_type": "code",
      "execution_count": null,
      "metadata": {
        "id": "9hfl_BEP4DHr"
      },
      "outputs": [],
      "source": []
    },
    {
      "cell_type": "markdown",
      "metadata": {
        "id": "658c99d9"
      },
      "source": [
        "11.Create a list in python using the followings: 2,3,4,5,6,7 with variable ‘a’\n",
        "Add ‘mango to the above list\n",
        "Also add banana, grapes & orange in the list\n",
        "insert apple in the 5th position of a variable ‘a’\n",
        "Remove last item from the list\n"
      ]
    },
    {
      "cell_type": "code",
      "execution_count": null,
      "metadata": {
        "id": "f5057969",
        "outputId": "3d8c3d78-f9e9-43cb-b8d9-e07b7f8559f3"
      },
      "outputs": [
        {
          "name": "stdout",
          "output_type": "stream",
          "text": [
            "[2, 3, 4, 5, 'apple', 6, 7, 'mango', 'banana', 'grapes']\n"
          ]
        }
      ],
      "source": [
        "a = [2, 3, 4, 5, 6, 7]   # create a list with variable a\n",
        "a.append('mango')       # add 'mango' to the end of the list\n",
        "a.extend(['banana', 'grapes', 'orange'])  # add multiple items to the end of the list\n",
        "a.insert(4, 'apple')    # insert 'apple' at the 5th position (index 4) of the list\n",
        "a.pop()                 # remove and return the last item from the list\n",
        "\n",
        "print(a)                # print the modified list"
      ]
    },
    {
      "cell_type": "markdown",
      "metadata": {
        "id": "f457fb3a"
      },
      "source": [
        "12.\n",
        "L = [1,2,3,4,5,6,7]\n",
        "Using the above list slice from 1:4\n"
      ]
    },
    {
      "cell_type": "code",
      "execution_count": null,
      "metadata": {
        "id": "9672fd62",
        "outputId": "5cf85686-b6bb-40fd-9c1c-7b1c711ea679"
      },
      "outputs": [
        {
          "name": "stdout",
          "output_type": "stream",
          "text": [
            "[2, 3, 4]\n"
          ]
        }
      ],
      "source": [
        "L = [1, 2, 3, 4, 5, 6, 7]   # create a list L\n",
        "sliced_L = L[1:4]          # slice the list from index 1 to index 3 (excluding index 4)\n",
        "\n",
        "print(sliced_L)            # print the sliced list"
      ]
    },
    {
      "cell_type": "markdown",
      "source": [
        "13.Reverse the order of given string L = [4,5,6,8,3]"
      ],
      "metadata": {
        "id": "QqnTSJLISGuc"
      }
    },
    {
      "cell_type": "code",
      "execution_count": null,
      "metadata": {
        "id": "dc658045",
        "outputId": "98979d67-6785-4ec8-8647-4e0ad69bcf8d"
      },
      "outputs": [
        {
          "name": "stdout",
          "output_type": "stream",
          "text": [
            "[3, 8, 6, 5, 4]\n"
          ]
        }
      ],
      "source": [
        "L = [4, 5, 6, 8, 3]   # create a list L\n",
        "L.reverse()           # reverse the order of the list using the reverse() method\n",
        "\n",
        "print(L)              # print the reversed list"
      ]
    },
    {
      "cell_type": "markdown",
      "metadata": {
        "id": "c43792bb"
      },
      "source": [
        "14.Use list comprehension to square the given list L=[2,4,7,3,6,8]"
      ]
    },
    {
      "cell_type": "code",
      "execution_count": null,
      "metadata": {
        "id": "29354b2b",
        "outputId": "71fbbe6f-321c-4f91-b2cc-848edf4ac5cc"
      },
      "outputs": [
        {
          "name": "stdout",
          "output_type": "stream",
          "text": [
            "[4, 16, 49, 9, 36, 64]\n"
          ]
        }
      ],
      "source": [
        "L = [2, 4, 7, 3, 6, 8]   # create a list L\n",
        "squared_L = [x**2 for x in L]   # use list comprehension to square the elements of L\n",
        "\n",
        "print(squared_L)       # print the squared list"
      ]
    },
    {
      "cell_type": "markdown",
      "metadata": {
        "id": "3d268688"
      },
      "source": [
        "15.Create a function that takes in a tuple of integers and returns the sum of the integers. Test the function with a tuple of your choice.\n"
      ]
    },
    {
      "cell_type": "code",
      "execution_count": null,
      "metadata": {
        "id": "a070461b",
        "outputId": "e1eee864-16f6-4b1c-cb34-f679fcd60031"
      },
      "outputs": [
        {
          "name": "stdout",
          "output_type": "stream",
          "text": [
            "24\n"
          ]
        }
      ],
      "source": [
        "def sum_tuple(t):\n",
        "    \"\"\"\n",
        "    Takes a tuple of integers and returns the sum of its elements.\n",
        "    \"\"\"\n",
        "    return sum(t)\n",
        "\n",
        "# Test the function with a tuple of integers\n",
        "my_tuple = (3, 5, 7, 9)\n",
        "print(sum_tuple(my_tuple))"
      ]
    },
    {
      "cell_type": "markdown",
      "metadata": {
        "id": "e583eb08"
      },
      "source": [
        "16.Create two sets of your favorite fruits, and use the union() method to combine them into a single set. Print the resulting set to the console.\n"
      ]
    },
    {
      "cell_type": "code",
      "execution_count": null,
      "metadata": {
        "id": "365c18e4",
        "outputId": "7b8a179c-16d6-4367-9764-826e110e6ce6"
      },
      "outputs": [
        {
          "name": "stdout",
          "output_type": "stream",
          "text": [
            "{'kiwi', 'banana', 'orange', 'pineapple', 'mango', 'apple'}\n"
          ]
        }
      ],
      "source": [
        "# Create two sets of favorite fruits\n",
        "set1 = {\"apple\", \"banana\", \"orange\"}\n",
        "set2 = {\"mango\", \"pineapple\", \"kiwi\"}\n",
        "\n",
        "# Combine the two sets into a single set using the union() method\n",
        "combined_set = set1.union(set2)\n",
        "\n",
        "# Print the resulting set\n",
        "print(combined_set)"
      ]
    },
    {
      "cell_type": "markdown",
      "metadata": {
        "id": "44106db0"
      },
      "source": [
        "17.Create a set of random words, and use the add() method to add a new word to the set. Print the resulting set to the console.\n"
      ]
    },
    {
      "cell_type": "code",
      "execution_count": null,
      "metadata": {
        "id": "b16d3904",
        "outputId": "f495606c-a614-4bcd-c942-28ed354286d2"
      },
      "outputs": [
        {
          "name": "stdout",
          "output_type": "stream",
          "text": [
            "{'cherry', 'banana', 'orange', 'apple'}\n"
          ]
        }
      ],
      "source": [
        "# Create a set of random words\n",
        "my_set = {\"apple\", \"banana\", \"cherry\"}\n",
        "\n",
        "# Add a new word to the set using the add() method\n",
        "my_set.add(\"orange\")\n",
        "\n",
        "# Print the resulting set\n",
        "print(my_set)"
      ]
    },
    {
      "cell_type": "markdown",
      "metadata": {
        "id": "334ce047"
      },
      "source": [
        "18.Create a set of your favorite animals, and use the remove() method to remove one animal from the set. Print the resulting set to the console.\n"
      ]
    },
    {
      "cell_type": "code",
      "execution_count": null,
      "metadata": {
        "id": "beea6ba6",
        "outputId": "6433a6c6-5179-4f0a-d879-d7532622a0ed"
      },
      "outputs": [
        {
          "name": "stdout",
          "output_type": "stream",
          "text": [
            "{'lion', 'tiger', 'elephant'}\n"
          ]
        }
      ],
      "source": [
        "# Create a set of favorite animals\n",
        "my_set = {\"lion\", \"tiger\", \"bear\", \"elephant\"}\n",
        "\n",
        "# Remove one animal from the set using the remove() method\n",
        "my_set.remove(\"bear\")\n",
        "\n",
        "# Print the resulting set\n",
        "print(my_set)"
      ]
    },
    {
      "cell_type": "markdown",
      "metadata": {
        "id": "5d27d5a6"
      },
      "source": [
        "19.favorite_books = {\"1984\", \"To Kill a Mockingbird\", \"Pride and Prejudice\"}\n",
        "      favorite_movies = [\"The Shawshank Redemption\", \"The Godfather\", \"The Dark Knight\"]\n",
        "      Use the zip() function to combine the book set and movie list into a list of tuples representing book/movie pairs.\n",
        "      Print the resulting list.\n"
      ]
    },
    {
      "cell_type": "code",
      "execution_count": null,
      "metadata": {
        "id": "389311f8",
        "outputId": "1fe8651f-ea91-4e05-c901-037c0d489ade"
      },
      "outputs": [
        {
          "name": "stdout",
          "output_type": "stream",
          "text": [
            "[('To Kill a Mockingbird', 'The Shawshank Redemption'), ('1984', 'The Godfather'), ('Pride and Prejudice', 'The Dark Knight')]\n"
          ]
        }
      ],
      "source": [
        "# Create a set of favorite books and a list of favorite movies\n",
        "favorite_books = {\"1984\", \"To Kill a Mockingbird\", \"Pride and Prejudice\"}\n",
        "favorite_movies = [\"The Shawshank Redemption\", \"The Godfather\", \"The Dark Knight\"]\n",
        "\n",
        "# Combine the book set and movie list into a list of tuples using the zip() function\n",
        "book_movie_pairs = list(zip(favorite_books, favorite_movies))\n",
        "\n",
        "# Print the resulting list\n",
        "print(book_movie_pairs)"
      ]
    },
    {
      "cell_type": "markdown",
      "metadata": {
        "id": "1147166e"
      },
      "source": [
        "20.Write a Python program to find the difference between consecutive numbers in a\n",
        "\n",
        "1.   List item\n",
        "2.   List item\n",
        "\n",
        "list.\n"
      ]
    },
    {
      "cell_type": "code",
      "execution_count": null,
      "metadata": {
        "id": "f65c723e",
        "outputId": "ac245bba-8758-4b3f-aa7b-58f0d546d067"
      },
      "outputs": [
        {
          "name": "stdout",
          "output_type": "stream",
          "text": [
            "[2, 3, 6, 7]\n"
          ]
        }
      ],
      "source": [
        "def consecutive_difference(lst):\n",
        "    diff_lst = []\n",
        "    for i in range(len(lst)-1):\n",
        "        diff_lst.append(abs(lst[i] - lst[i+1]))\n",
        "    return diff_lst\n",
        "\n",
        "# Example usage\n",
        "my_list = [3, 5, 2, 8, 1]\n",
        "diff_list = consecutive_difference(my_list)\n",
        "print(diff_list)\n",
        "\n",
        "#note:The consecutive_difference() function takes a list as input and returns a list of differences between consecutive numbers"
      ]
    },
    {
      "cell_type": "markdown",
      "metadata": {
        "id": "c84aa3fd"
      },
      "source": [
        "21.Create a dictionary called fruits with the following key-value pairs:\n",
        "\"apple\": 0.75\n",
        "\"banana\": 1.25\n",
        "\"orange\": 0.90\n",
        "Then, print out the price of a banana.\n"
      ]
    },
    {
      "cell_type": "code",
      "execution_count": null,
      "metadata": {
        "id": "0002d458",
        "outputId": "5226c0fe-83a6-4a61-b068-340d467df0d6"
      },
      "outputs": [
        {
          "name": "stdout",
          "output_type": "stream",
          "text": [
            "1.25\n"
          ]
        }
      ],
      "source": [
        "# Create a dictionary called fruits with the given key-value pairs\n",
        "fruits = {\n",
        "    \"apple\": 0.75,\n",
        "    \"banana\": 1.25,\n",
        "    \"orange\": 0.90\n",
        "}\n",
        "\n",
        "# Print out the price of a banana\n",
        "print(fruits[\"banana\"])"
      ]
    },
    {
      "cell_type": "markdown",
      "metadata": {
        "id": "8b3e5fab"
      },
      "source": [
        "22.Create an empty dictionary called ages. Add the following key-value pairs to the dictionary:\n",
        "\"Alice\": 30\n",
        "\"Bob\": 25\n",
        "\"Charlie\": 35\n",
        "Then, print out the age of Charlie."
      ]
    },
    {
      "cell_type": "code",
      "execution_count": null,
      "metadata": {
        "id": "09e57ba0",
        "outputId": "13885870-8f90-4690-87d3-50408001f25c"
      },
      "outputs": [
        {
          "name": "stdout",
          "output_type": "stream",
          "text": [
            "35\n"
          ]
        }
      ],
      "source": [
        "# Create an empty dictionary called ages\n",
        "ages = {}\n",
        "\n",
        "# Add the given key-value pairs to the dictionary\n",
        "ages[\"Alice\"] = 30\n",
        "ages[\"Bob\"] = 25\n",
        "ages[\"Charlie\"] = 35\n",
        "\n",
        "# Print out the age of Charlie\n",
        "print(ages[\"Charlie\"])"
      ]
    },
    {
      "cell_type": "markdown",
      "metadata": {
        "id": "ffdbc3bb"
      },
      "source": [
        "23.Write a function called word_count(text) that takes a string as input and returns a dictionary where each key is a word in the text and its value is the number of times that word appears in the text. For example, word_count(\"hello world hello\") should return {\"hello\": 2, \"world\": 1}."
      ]
    },
    {
      "cell_type": "code",
      "execution_count": null,
      "metadata": {
        "id": "c2b005e1",
        "outputId": "c0df2a5a-3de5-402e-a323-0151166c146f"
      },
      "outputs": [
        {
          "name": "stdout",
          "output_type": "stream",
          "text": [
            "{'hello': 2, 'world': 1}\n"
          ]
        }
      ],
      "source": [
        "def word_count(text):\n",
        "    # Convert the input string to lowercase and split into words\n",
        "    words = text.lower().split()\n",
        "    # Initialize an empty dictionary\n",
        "    counts = {}\n",
        "    # Loop through the words and count the number of occurrences of each word\n",
        "    for word in words:\n",
        "        if word in counts:\n",
        "            counts[word] += 1\n",
        "        else:\n",
        "            counts[word] = 1\n",
        "    # Return the resulting dictionary\n",
        "    return counts\n",
        "\n",
        "# Example usage\n",
        "text = \"hello world hello\"\n",
        "counts = word_count(text)\n",
        "print(counts)"
      ]
    },
    {
      "cell_type": "markdown",
      "metadata": {
        "id": "aebf65a9"
      },
      "source": [
        "24.Create a dictionary called phone_book with the following key-value pairs:\n",
        "\"Alice\": \"555-1234\"\n",
        "\"Bob\": \"555-5678\"\n",
        "\"Charlie\": \"555-9012\"\n",
        "Then, prompt the user to enter a name and print out the corresponding phone number. If the name is not in the phone book, print out a message saying that the name was not found.\n",
        "\n"
      ]
    },
    {
      "cell_type": "code",
      "execution_count": null,
      "metadata": {
        "id": "1c68462e",
        "outputId": "2627b0a6-2f2c-46b4-c91e-154a242e4b0a"
      },
      "outputs": [
        {
          "name": "stdout",
          "output_type": "stream",
          "text": [
            "Enter a name to lookup in the phone book: Nithya Arul\n",
            "Nithya Arul was not found in the phone book.\n"
          ]
        }
      ],
      "source": [
        "# create phone_book dictionary\n",
        "phone_book = {\n",
        "    \"Alice\": \"555-1234\",\n",
        "    \"Bob\": \"555-5678\",\n",
        "    \"Charlie\": \"555-9012\"\n",
        "}\n",
        "\n",
        "# prompt user to enter a name\n",
        "name = input(\"Enter a name to lookup in the phone book: \")\n",
        "\n",
        "# lookup phone number by name\n",
        "if name in phone_book:\n",
        "    phone_number = phone_book[name]\n",
        "    print(f\"{name}'s phone number is {phone_number}.\")\n",
        "else:\n",
        "    print(f\"{name} was not found in the phone book.\")"
      ]
    },
    {
      "cell_type": "markdown",
      "metadata": {
        "id": "6b4806de"
      },
      "source": [
        "25.Write a program that prompts the user to enter a number between 1 and 10. If the number is less than 5, print out \"Too low!\", otherwise print out \"Too high!\".\n"
      ]
    },
    {
      "cell_type": "code",
      "execution_count": null,
      "metadata": {
        "id": "e990504a",
        "outputId": "2c288f2a-a93c-4e98-eddb-179bf1b1494e"
      },
      "outputs": [
        {
          "name": "stdout",
          "output_type": "stream",
          "text": [
            "Enter a number between 1 and 10: 3\n",
            "Too low!\n"
          ]
        }
      ],
      "source": [
        "# prompt user to enter a number between 1 and 10\n",
        "number = int(input(\"Enter a number between 1 and 10: \"))\n",
        "\n",
        "# check if number is less than 5\n",
        "if number < 5:\n",
        "    print(\"Too low!\")\n",
        "else:\n",
        "    print(\"Too high!\")"
      ]
    },
    {
      "cell_type": "markdown",
      "metadata": {
        "id": "39bc6c81"
      },
      "source": [
        "26.Write a program that prompts the user to enter a password. If the password is \"password123\", print out \"Access granted\", otherwise print out \"Access denied\".\n"
      ]
    },
    {
      "cell_type": "code",
      "execution_count": null,
      "metadata": {
        "id": "85158151",
        "outputId": "dfa8cbf4-50bc-4124-d449-e729bcb5713f"
      },
      "outputs": [
        {
          "name": "stdout",
          "output_type": "stream",
          "text": [
            "Enter a password: jhsgcvhsd\n",
            "Access denied\n"
          ]
        }
      ],
      "source": [
        "# prompt user to enter a password\n",
        "password = input(\"Enter a password: \")\n",
        "\n",
        "# check if password is correct\n",
        "if password == \"password123\":\n",
        "    print(\"Access granted\")\n",
        "else:\n",
        "    print(\"Access denied\")"
      ]
    },
    {
      "cell_type": "markdown",
      "metadata": {
        "id": "7a61e35c"
      },
      "source": [
        "27.Write a program that prompts the user to enter a positive integer. Then, use a loop to print out all the odd numbers from 1 to that integer.\n"
      ]
    },
    {
      "cell_type": "code",
      "execution_count": null,
      "metadata": {
        "id": "3bf7dea4",
        "outputId": "9c2beb67-6773-4804-9a4c-0dee2e1ccf71"
      },
      "outputs": [
        {
          "name": "stdout",
          "output_type": "stream",
          "text": [
            "Enter a positive integer: 17\n",
            "1\n",
            "3\n",
            "5\n",
            "7\n",
            "9\n",
            "11\n",
            "13\n",
            "15\n",
            "17\n"
          ]
        }
      ],
      "source": [
        "# Using for loop\n",
        "# prompt user to enter a positive integer\n",
        "num = int(input(\"Enter a positive integer: \"))\n",
        "\n",
        "# print out all the odd numbers from 1 to num\n",
        "for i in range(1, num+1, 2):\n",
        "    print(i)"
      ]
    },
    {
      "cell_type": "code",
      "execution_count": null,
      "metadata": {
        "id": "448627ad",
        "outputId": "e45d796f-4cd2-4772-cb6a-7465cf02ee97"
      },
      "outputs": [
        {
          "name": "stdout",
          "output_type": "stream",
          "text": [
            "Enter a positive integer: 20\n",
            "1\n",
            "3\n",
            "5\n",
            "7\n",
            "9\n",
            "11\n",
            "13\n",
            "15\n",
            "17\n",
            "19\n"
          ]
        }
      ],
      "source": [
        "# Using while loop\n",
        "# prompt user to enter a positive integer\n",
        "num = int(input(\"Enter a positive integer: \"))\n",
        "\n",
        "# initialize counter to 1\n",
        "i = 1\n",
        "\n",
        "# print out all the odd numbers from 1 to num\n",
        "while i <= num:\n",
        "    print(i)\n",
        "    i += 2"
      ]
    },
    {
      "cell_type": "markdown",
      "metadata": {
        "id": "e4e2f980"
      },
      "source": [
        "28.Write a program that generates a random number between 1 and 100 and then prompts the user to guess the number. If the user's guess is too low, print out \"Too low!\", if the guess is too high, print out \"Too high!\", and if the guess is correct, print out \"You win!\".\n"
      ]
    },
    {
      "cell_type": "code",
      "execution_count": null,
      "metadata": {
        "id": "80d9973c",
        "outputId": "8aff058a-41a5-4b13-a87b-d71416d21a82"
      },
      "outputs": [
        {
          "name": "stdout",
          "output_type": "stream",
          "text": [
            "Guess the number between 1 and 100: 56\n",
            "Too high!\n",
            "Guess again: 100\n",
            "Too high!\n",
            "Guess again: 57\n",
            "Too high!\n",
            "Guess again: 12\n",
            "Too low!\n",
            "Guess again: 50\n",
            "Too high!\n",
            "Guess again: 40\n",
            "You win!\n"
          ]
        }
      ],
      "source": [
        "import random\n",
        "\n",
        "# generate a random number between 1 and 100\n",
        "secret_number = random.randint(1, 100)\n",
        "\n",
        "# prompt user to guess the number\n",
        "guess = int(input(\"Guess the number between 1 and 100: \"))\n",
        "\n",
        "# check if guess is too low, too high, or correct\n",
        "while guess != secret_number:\n",
        "    if guess < secret_number:\n",
        "        print(\"Too low!\")\n",
        "    else:\n",
        "        print(\"Too high!\")\n",
        "    guess = int(input(\"Guess again: \"))\n",
        "\n",
        "# guess is correct, print \"You win!\"\n",
        "print(\"You win!\")\n"
      ]
    },
    {
      "cell_type": "markdown",
      "metadata": {
        "id": "aa95e4c2"
      },
      "source": [
        "29.Write a program that generates a random number between 1 and 10 and then prompts the user to guess the number. The user has three attempts to guess the number. If the user guesses correctly within three attempts, print out \"You win!\", otherwise print out \"You lose!\".\n"
      ]
    },
    {
      "cell_type": "code",
      "execution_count": null,
      "metadata": {
        "id": "681a2ddc",
        "outputId": "639be405-c97d-45fa-826c-f6dea34afda2"
      },
      "outputs": [
        {
          "name": "stdout",
          "output_type": "stream",
          "text": [
            "Guess the number between 1 and 10: 28\n",
            "Too high!\n",
            "Guess the number between 1 and 10: 20\n",
            "Too high!\n",
            "Guess the number between 1 and 10: 9\n",
            "Too high!\n",
            "You lose!\n"
          ]
        }
      ],
      "source": [
        "import random\n",
        "\n",
        "# generate a random number between 1 and 10\n",
        "secret_number = random.randint(1, 10)\n",
        "\n",
        "# set number of attempts to 3\n",
        "attempts = 3\n",
        "\n",
        "# prompt user to guess the number\n",
        "while attempts > 0:\n",
        "    guess = int(input(\"Guess the number between 1 and 10: \"))\n",
        "    if guess == secret_number:\n",
        "        print(\"You win!\")\n",
        "        break\n",
        "    elif guess < secret_number:\n",
        "        print(\"Too low!\")\n",
        "    else:\n",
        "        print(\"Too high!\")\n",
        "    attempts -= 1\n",
        "\n",
        "# check if user used up all three attempts and lost\n",
        "if attempts == 0:\n",
        "    print(\"You lose!\")\n"
      ]
    },
    {
      "cell_type": "markdown",
      "metadata": {
        "id": "2bdafc10"
      },
      "source": [
        "30.Write a program that prompts the user to enter their age and then prints out whether they are a child (age 0-12), a teenager (age 13-19), an adult (age 20-59), or a senior (age 60+)\n"
      ]
    },
    {
      "cell_type": "code",
      "execution_count": null,
      "metadata": {
        "id": "b723198d",
        "outputId": "ffb3f76f-79ca-4708-bb74-dd2415390e00"
      },
      "outputs": [
        {
          "name": "stdout",
          "output_type": "stream",
          "text": [
            "Enter your age: 35\n",
            "You are an adult.\n"
          ]
        }
      ],
      "source": [
        "# prompt user to enter their age\n",
        "age = int(input(\"Enter your age: \"))\n",
        "\n",
        "# check if age falls into child, teenager, adult, or senior category\n",
        "if age <= 12:\n",
        "    print(\"You are a child.\")\n",
        "elif age <= 19:\n",
        "    print(\"You are a teenager.\")\n",
        "elif age <= 59:\n",
        "    print(\"You are an adult.\")\n",
        "else:\n",
        "    print(\"You are a senior.\")"
      ]
    },
    {
      "cell_type": "code",
      "execution_count": null,
      "metadata": {
        "id": "8ba9b6cf"
      },
      "outputs": [],
      "source": []
    },
    {
      "cell_type": "markdown",
      "metadata": {
        "id": "a82f3d9e"
      },
      "source": [
        "31.Create a class called \"Person\" with properties for \"name\", \"age\", and \"gender\". Create an object of this class and print out its properties.\n"
      ]
    },
    {
      "cell_type": "code",
      "execution_count": null,
      "metadata": {
        "id": "d40ddbdc",
        "outputId": "540aea73-44bf-45ff-df89-12e7ee1606de"
      },
      "outputs": [
        {
          "name": "stdout",
          "output_type": "stream",
          "text": [
            "Name: John Doe\n",
            "Age: 30\n",
            "Gender: male\n"
          ]
        }
      ],
      "source": [
        "# Define the Person class\n",
        "class Person:\n",
        "    # Constructor method to initialize the name, age, and gender properties\n",
        "    def __init__(self, name, age, gender):\n",
        "        self.name = name\n",
        "        self.age = age\n",
        "        self.gender = gender\n",
        "\n",
        "# Create an object of the Person class\n",
        "person1 = Person(\"John Doe\", 30, \"male\")\n",
        "\n",
        "# Print out the properties of the person object\n",
        "print(\"Name:\", person1.name)\n",
        "print(\"Age:\", person1.age)\n",
        "print(\"Gender:\", person1.gender)"
      ]
    },
    {
      "cell_type": "markdown",
      "metadata": {
        "id": "2b69b4fc"
      },
      "source": [
        "32. Write a Python class called \"Rectangle\" with attributes for \"width\" and \"height\". Implement methods to calculate the area and perimeter of the rectangle. Create an instance of this class and use it to print out the rectangle's area and perimeter.\n"
      ]
    },
    {
      "cell_type": "code",
      "execution_count": null,
      "metadata": {
        "id": "bfbcd136",
        "outputId": "6702cf15-360b-46b6-f713-30258805c838"
      },
      "outputs": [
        {
          "name": "stdout",
          "output_type": "stream",
          "text": [
            "Area: 50\n",
            "Perimeter: 30\n"
          ]
        }
      ],
      "source": [
        "# Define the Rectangle class\n",
        "class Rectangle:\n",
        "    # Constructor method to initialize the width and height properties\n",
        "    def __init__(self, width, height):\n",
        "        self.width = width\n",
        "        self.height = height\n",
        "\n",
        "    # Method to calculate the area of the rectangle\n",
        "    def area(self):\n",
        "        return self.width * self.height\n",
        "\n",
        "    # Method to calculate the perimeter of the rectangle\n",
        "    def perimeter(self):\n",
        "        return 2 * (self.width + self.height)\n",
        "\n",
        "# Create an object of the Rectangle class\n",
        "rect1 = Rectangle(5, 10)\n",
        "\n",
        "# Print out the area and perimeter of the rectangle object\n",
        "print(\"Area:\", rect1.area())\n",
        "print(\"Perimeter:\", rect1.perimeter())"
      ]
    },
    {
      "cell_type": "markdown",
      "metadata": {
        "id": "21e16004"
      },
      "source": [
        "33. Write a Python class called \"BankAccount\" with attributes for \"balance\" and \"interest_rate\". Implement methods to deposit and withdraw money from the account, as well as to calculate the interest earned on the balance based on the interest rate. Create an instance of this class and use it to test out the implemented methods for deposit, withdrawal, and interest calculation.\n"
      ]
    },
    {
      "cell_type": "code",
      "execution_count": null,
      "metadata": {
        "id": "c897c8e5",
        "outputId": "06ca8951-4679-490c-f036-b1d2b65650eb"
      },
      "outputs": [
        {
          "name": "stdout",
          "output_type": "stream",
          "text": [
            "Balance: 1300\n",
            "Interest earned: 19.5\n"
          ]
        }
      ],
      "source": [
        "# Define the BankAccount class\n",
        "class BankAccount:\n",
        "    # Constructor method to initialize the balance and interest_rate properties\n",
        "    def __init__(self, balance, interest_rate):\n",
        "        self.balance = balance\n",
        "        self.interest_rate = interest_rate\n",
        "\n",
        "    # Method to deposit money into the account\n",
        "    def deposit(self, amount):\n",
        "        self.balance += amount\n",
        "\n",
        "    # Method to withdraw money from the account\n",
        "    def withdraw(self, amount):\n",
        "        self.balance -= amount\n",
        "\n",
        "    # Method to calculate the interest earned on the balance\n",
        "    def calculate_interest(self):\n",
        "        return self.balance * self.interest_rate / 100\n",
        "\n",
        "# Create an object of the BankAccount class\n",
        "account1 = BankAccount(1000, 1.5)\n",
        "\n",
        "# Test out the deposit and withdraw methods\n",
        "account1.deposit(500)\n",
        "account1.withdraw(200)\n",
        "\n",
        "# Test out the calculate_interest method\n",
        "interest_earned = account1.calculate_interest()\n",
        "\n",
        "# Print out the balance and interest earned on the account\n",
        "print(\"Balance:\", account1.balance)\n",
        "print(\"Interest earned:\", interest_earned)"
      ]
    },
    {
      "cell_type": "markdown",
      "metadata": {
        "id": "abaa287c"
      },
      "source": [
        "34. Write a Python class called \"Animal\" with attributes for \"name\" and \"species\". Create a subclass of \"Animal\" called \"Dog\" with additional attributes for \"breed\" and \"owner\". Implement both classes with appropriate methods and constructors to initialise their properties. Create instances of both classes and use them to print out the various properties of the animals and dogs, such as their names, species, breeds, and owners."
      ]
    },
    {
      "cell_type": "code",
      "execution_count": null,
      "metadata": {
        "id": "e6ed5c53",
        "outputId": "88247329-76c0-402f-cbab-8a7269e3bdf3"
      },
      "outputs": [
        {
          "name": "stdout",
          "output_type": "stream",
          "text": [
            "Animal name: Tiger\n",
            "Animal species: Feline\n",
            "Dog name: Max\n",
            "Dog species: Canine\n",
            "Dog breed: Labrador Retriever\n",
            "Dog owner: John\n"
          ]
        }
      ],
      "source": [
        "# Define the Animal class\n",
        "class Animal:\n",
        "    # Constructor method to initialize the name and species properties\n",
        "    def __init__(self, name, species):\n",
        "        self.name = name\n",
        "        self.species = species\n",
        "\n",
        "# Define the Dog subclass, which inherits from Animal\n",
        "class Dog(Animal):\n",
        "    # Constructor method to initialize the breed and owner properties\n",
        "    def __init__(self, name, species, breed, owner):\n",
        "        # Call the parent class's constructor to initialize the name and species properties\n",
        "        super().__init__(name, species)\n",
        "        self.breed = breed\n",
        "        self.owner = owner\n",
        "\n",
        "# Create an object of the Animal class\n",
        "animal1 = Animal(\"Tiger\", \"Feline\")\n",
        "\n",
        "# Create an object of the Dog class\n",
        "dog1 = Dog(\"Max\", \"Canine\", \"Labrador Retriever\", \"John\")\n",
        "\n",
        "# Print out the properties of the animal1 object\n",
        "print(\"Animal name:\", animal1.name)\n",
        "print(\"Animal species:\", animal1.species)\n",
        "\n",
        "# Print out the properties of the dog1 object\n",
        "print(\"Dog name:\", dog1.name)\n",
        "print(\"Dog species:\", dog1.species)\n",
        "print(\"Dog breed:\", dog1.breed)\n",
        "print(\"Dog owner:\", dog1.owner)"
      ]
    },
    {
      "cell_type": "markdown",
      "metadata": {
        "id": "9394a8d1"
      },
      "source": [
        "35.Create a class called \"Car\" with properties for \"make\", \"model\", and \"year\". Create a subclass of \"Car\" called \"ElectricCar\" with additional properties for \"battery_size\" and \"range\". Create objects of both classes and print out their properties.\n"
      ]
    },
    {
      "cell_type": "code",
      "execution_count": null,
      "metadata": {
        "id": "05b893ae",
        "outputId": "90df8db0-ac75-42cd-a45d-2c373db319bb"
      },
      "outputs": [
        {
          "name": "stdout",
          "output_type": "stream",
          "text": [
            "Car make: Toyota\n",
            "Car model: Camry\n",
            "Car year: 2019\n",
            "Electric car make: Tesla\n",
            "Electric car model: Model 3\n",
            "Electric car year: 2021\n",
            "Electric car battery size: 75\n",
            "Electric car range: 263\n"
          ]
        }
      ],
      "source": [
        "# Define the Car class\n",
        "class Car:\n",
        "    # Constructor method to initialize the make, model, and year properties\n",
        "    def __init__(self, make, model, year):\n",
        "        self.make = make\n",
        "        self.model = model\n",
        "        self.year = year\n",
        "\n",
        "# Define the ElectricCar subclass, which inherits from Car\n",
        "class ElectricCar(Car):\n",
        "    # Constructor method to initialize the battery_size and range properties\n",
        "    def __init__(self, make, model, year, battery_size, range):\n",
        "        # Call the parent class's constructor to initialize the make, model, and year properties\n",
        "        super().__init__(make, model, year)\n",
        "        self.battery_size = battery_size\n",
        "        self.range = range\n",
        "\n",
        "# Create an object of the Car class\n",
        "car1 = Car(\"Toyota\", \"Camry\", 2019)\n",
        "\n",
        "# Create an object of the ElectricCar class\n",
        "electric_car1 = ElectricCar(\"Tesla\", \"Model 3\", 2021, 75, 263)\n",
        "\n",
        "# Print out the properties of the car1 object\n",
        "print(\"Car make:\", car1.make)\n",
        "print(\"Car model:\", car1.model)\n",
        "print(\"Car year:\", car1.year)\n",
        "\n",
        "# Print out the properties of the electric_car1 object\n",
        "print(\"Electric car make:\", electric_car1.make)\n",
        "print(\"Electric car model:\", electric_car1.model)\n",
        "print(\"Electric car year:\", electric_car1.year)\n",
        "print(\"Electric car battery size:\", electric_car1.battery_size)\n",
        "print(\"Electric car range:\", electric_car1.range)"
      ]
    },
    {
      "cell_type": "markdown",
      "metadata": {
        "id": "833de3a1"
      },
      "source": [
        "36.Create a class called \"Student\" with properties for \"name\" and \"id\". Create a subclass of \"Student\" called \"GraduateStudent\" with additional properties for \"advisor\" and \"research_area\". Create objects of both classes and print out their properties.\n"
      ]
    },
    {
      "cell_type": "code",
      "execution_count": null,
      "metadata": {
        "id": "44183e9e",
        "outputId": "cdbb74a3-372e-4219-fadf-7a9b59b9db56"
      },
      "outputs": [
        {
          "name": "stdout",
          "output_type": "stream",
          "text": [
            "Student name: John Doe\n",
            "Student id: 12345\n",
            "Graduate student name: Jane Smith\n",
            "Graduate student id: 67890\n",
            "Graduate student advisor: Dr. Johnson\n",
            "Graduate student research area: Computer Science\n"
          ]
        }
      ],
      "source": [
        "# Define the Student class\n",
        "class Student:\n",
        "    # Constructor method to initialize the name and id properties\n",
        "    def __init__(self, name, id):\n",
        "        self.name = name\n",
        "        self.id = id\n",
        "\n",
        "# Define the GraduateStudent subclass, which inherits from Student\n",
        "class GraduateStudent(Student):\n",
        "    # Constructor method to initialize the advisor and research_area properties\n",
        "    def __init__(self, name, id, advisor, research_area):\n",
        "        # Call the parent class's constructor to initialize the name and id properties\n",
        "        super().__init__(name, id)\n",
        "        self.advisor = advisor\n",
        "        self.research_area = research_area\n",
        "\n",
        "# Create an object of the Student class\n",
        "student1 = Student(\"John Doe\", 12345)\n",
        "\n",
        "# Create an object of the GraduateStudent class\n",
        "grad_student1 = GraduateStudent(\"Jane Smith\", 67890, \"Dr. Johnson\", \"Computer Science\")\n",
        "\n",
        "# Print out the properties of the student1 object\n",
        "print(\"Student name:\", student1.name)\n",
        "print(\"Student id:\", student1.id)\n",
        "\n",
        "# Print out the properties of the grad_student1 object\n",
        "print(\"Graduate student name:\", grad_student1.name)\n",
        "print(\"Graduate student id:\", grad_student1.id)\n",
        "print(\"Graduate student advisor:\", grad_student1.advisor)\n",
        "print(\"Graduate student research area:\", grad_student1.research_area)"
      ]
    },
    {
      "cell_type": "markdown",
      "metadata": {
        "id": "b741458b"
      },
      "source": [
        "37. Create a class called \"Shape\" with methods to calculate the area and perimeter of the shape. Create subclasses of \"Shape\" for \"Rectangle\", \"Circle\", and \"Triangle\" with their own methods for calculating area and perimeter. Create objects of each class and print out their area and perimeter.\n"
      ]
    },
    {
      "cell_type": "code",
      "execution_count": null,
      "metadata": {
        "id": "f5a15469",
        "outputId": "66a0b7f0-b479-478f-cff6-74321f186d79"
      },
      "outputs": [
        {
          "name": "stdout",
          "output_type": "stream",
          "text": [
            "Rectangle area: 15\n",
            "Rectangle perimeter: 16\n",
            "Circle area: 50.26548245743669\n",
            "Circle perimeter: 25.132741228718345\n",
            "Triangle area: 6.0\n",
            "Triangle perimeter: 12\n"
          ]
        }
      ],
      "source": [
        "import math\n",
        "\n",
        "# Define the Shape class\n",
        "class Shape:\n",
        "    def calculate_area(self):\n",
        "        pass\n",
        "\n",
        "    def calculate_perimeter(self):\n",
        "        pass\n",
        "\n",
        "# Define the Rectangle class, which inherits from Shape\n",
        "class Rectangle(Shape):\n",
        "    def __init__(self, width, height):\n",
        "        self.width = width\n",
        "        self.height = height\n",
        "\n",
        "    def calculate_area(self):\n",
        "        return self.width * self.height\n",
        "\n",
        "    def calculate_perimeter(self):\n",
        "        return 2 * (self.width + self.height)\n",
        "\n",
        "# Define the Circle class, which inherits from Shape\n",
        "class Circle(Shape):\n",
        "    def __init__(self, radius):\n",
        "        self.radius = radius\n",
        "\n",
        "    def calculate_area(self):\n",
        "        return math.pi * self.radius ** 2\n",
        "\n",
        "    def calculate_perimeter(self):\n",
        "        return 2 * math.pi * self.radius\n",
        "\n",
        "# Define the Triangle class, which inherits from Shape\n",
        "class Triangle(Shape):\n",
        "    def __init__(self, a, b, c):\n",
        "        self.a = a\n",
        "        self.b = b\n",
        "        self.c = c\n",
        "\n",
        "    def calculate_area(self):\n",
        "        s = (self.a + self.b + self.c) / 2\n",
        "        return math.sqrt(s * (s - self.a) * (s - self.b) * (s - self.c))\n",
        "\n",
        "    def calculate_perimeter(self):\n",
        "        return self.a + self.b + self.c\n",
        "\n",
        "# Create objects of each class and print out their area and perimeter\n",
        "rectangle = Rectangle(5, 3)\n",
        "print(\"Rectangle area:\", rectangle.calculate_area())\n",
        "print(\"Rectangle perimeter:\", rectangle.calculate_perimeter())\n",
        "\n",
        "circle = Circle(4)\n",
        "print(\"Circle area:\", circle.calculate_area())\n",
        "print(\"Circle perimeter:\", circle.calculate_perimeter())\n",
        "\n",
        "triangle = Triangle(3, 4, 5)\n",
        "print(\"Triangle area:\", triangle.calculate_area())\n",
        "print(\"Triangle perimeter:\", triangle.calculate_perimeter())"
      ]
    },
    {
      "cell_type": "markdown",
      "metadata": {
        "id": "a2a3fcd4"
      },
      "source": [
        "38.Create a class called \"Employee\" with properties for \"name\", \"id\", and \"salary\". Add methods to give the employee a raise and to calculate their annual salary. Create objects of this class and test out the methods.\n"
      ]
    },
    {
      "cell_type": "code",
      "execution_count": null,
      "metadata": {
        "id": "e288075c",
        "outputId": "ea50e1f9-d31b-49db-c419-ffaa9737bdc9"
      },
      "outputs": [
        {
          "name": "stdout",
          "output_type": "stream",
          "text": [
            "Initial salary: 50000\n",
            "New salary: 51000\n",
            "Annual salary: 612000\n"
          ]
        }
      ],
      "source": [
        "class Employee:\n",
        "    def __init__(self, name, id, salary):\n",
        "        self.name = name\n",
        "        self.id = id\n",
        "        self.salary = salary\n",
        "\n",
        "    def give_raise(self, amount):\n",
        "        self.salary += amount\n",
        "\n",
        "    def annual_salary(self):\n",
        "        return self.salary * 12\n",
        "\n",
        "# create an employee object\n",
        "employee1 = Employee(\"John Doe\", 12345, 50000)\n",
        "\n",
        "# print out the initial salary\n",
        "print(\"Initial salary:\", employee1.salary)\n",
        "\n",
        "# give the employee a raise of $1000\n",
        "employee1.give_raise(1000)\n",
        "\n",
        "# print out the new salary\n",
        "print(\"New salary:\", employee1.salary)\n",
        "\n",
        "# print out the annual salary\n",
        "print(\"Annual salary:\", employee1.annual_salary())"
      ]
    },
    {
      "cell_type": "markdown",
      "metadata": {
        "id": "b6a7480d"
      },
      "source": [
        "39.Create a class called \"Book\" with properties for \"title\", \"author\", and \"publisher\". Create a subclass of \"Book\" called \"Ebook\" with additional properties for \"file_format\" and \"file_size\". Create objects of both classes and print out their properties.\n"
      ]
    },
    {
      "cell_type": "code",
      "execution_count": null,
      "metadata": {
        "id": "9c85f8b6",
        "outputId": "1ed83671-f764-439b-89c2-37da56239322"
      },
      "outputs": [
        {
          "name": "stdout",
          "output_type": "stream",
          "text": [
            "Book title: To Kill a Mockingbird\n",
            "Book author: Harper Lee\n",
            "Book publisher: J. B. Lippincott & Co.\n",
            "Ebook title: The Hunger Games\n",
            "Ebook author: Suzanne Collins\n",
            "Ebook publisher: Scholastic Corporation\n",
            "Ebook file format: PDF\n",
            "Ebook file size: 2.5 MB\n"
          ]
        }
      ],
      "source": [
        "class Book:\n",
        "    def __init__(self, title, author, publisher):\n",
        "        self.title = title\n",
        "        self.author = author\n",
        "        self.publisher = publisher\n",
        "\n",
        "class Ebook(Book):\n",
        "    def __init__(self, title, author, publisher, file_format, file_size):\n",
        "        super().__init__(title, author, publisher)\n",
        "        self.file_format = file_format\n",
        "        self.file_size = file_size\n",
        "\n",
        "# Create an object of the Book class\n",
        "book1 = Book(\"To Kill a Mockingbird\", \"Harper Lee\", \"J. B. Lippincott & Co.\")\n",
        "\n",
        "# Create an object of the Ebook class\n",
        "ebook1 = Ebook(\"The Hunger Games\", \"Suzanne Collins\", \"Scholastic Corporation\", \"PDF\", \"2.5 MB\")\n",
        "\n",
        "# Print out the properties of book1\n",
        "print(\"Book title:\", book1.title)\n",
        "print(\"Book author:\", book1.author)\n",
        "print(\"Book publisher:\", book1.publisher)\n",
        "\n",
        "# Print out the properties of ebook1\n",
        "print(\"Ebook title:\", ebook1.title)\n",
        "print(\"Ebook author:\", ebook1.author)\n",
        "print(\"Ebook publisher:\", ebook1.publisher)\n",
        "print(\"Ebook file format:\", ebook1.file_format)\n",
        "print(\"Ebook file size:\", ebook1.file_size)"
      ]
    },
    {
      "cell_type": "markdown",
      "metadata": {
        "id": "88f2816c"
      },
      "source": [
        "40.Create a class called \"Bank\" with properties for \"name\" and \"accounts\". Add methods to create new accounts, deposit and withdraw money from accounts, and to calculate the total balance of all accounts. Create an object of this class and test out the methods.\n"
      ]
    },
    {
      "cell_type": "code",
      "execution_count": null,
      "metadata": {
        "id": "51df123a",
        "outputId": "835b5a02-9ff2-41aa-e03f-d86b6eec1bc4"
      },
      "outputs": [
        {
          "name": "stdout",
          "output_type": "stream",
          "text": [
            "Book title: To Kill a Mockingbird\n",
            "Book author: Harper Lee\n",
            "Book publisher: J. B. Lippincott & Co.\n",
            "Ebook title: The Hunger Games\n",
            "Ebook author: Suzanne Collins\n",
            "Ebook publisher: Scholastic Corporation\n",
            "Ebook file format: PDF\n",
            "Ebook file size: 2.5 MB\n"
          ]
        }
      ],
      "source": [
        "class Book:\n",
        "    def __init__(self, title, author, publisher):\n",
        "        self.title = title\n",
        "        self.author = author\n",
        "        self.publisher = publisher\n",
        "\n",
        "class Ebook(Book):\n",
        "    def __init__(self, title, author, publisher, file_format, file_size):\n",
        "        super().__init__(title, author, publisher)\n",
        "        self.file_format = file_format\n",
        "        self.file_size = file_size\n",
        "\n",
        "# Create an object of the Book class\n",
        "book1 = Book(\"To Kill a Mockingbird\", \"Harper Lee\", \"J. B. Lippincott & Co.\")\n",
        "\n",
        "# Create an object of the Ebook class\n",
        "ebook1 = Ebook(\"The Hunger Games\", \"Suzanne Collins\", \"Scholastic Corporation\", \"PDF\", \"2.5 MB\")\n",
        "\n",
        "# Print out the properties of book1\n",
        "print(\"Book title:\", book1.title)\n",
        "print(\"Book author:\", book1.author)\n",
        "print(\"Book publisher:\", book1.publisher)\n",
        "\n",
        "# Print out the properties of ebook1\n",
        "print(\"Ebook title:\", ebook1.title)\n",
        "print(\"Ebook author:\", ebook1.author)\n",
        "print(\"Ebook publisher:\", ebook1.publisher)\n",
        "print(\"Ebook file format:\", ebook1.file_format)\n",
        "print(\"Ebook file size:\", ebook1.file_size)"
      ]
    },
    {
      "cell_type": "code",
      "execution_count": null,
      "metadata": {
        "id": "63751ac7"
      },
      "outputs": [],
      "source": []
    },
    {
      "cell_type": "code",
      "execution_count": null,
      "metadata": {
        "id": "z2oJMogyLnDO"
      },
      "outputs": [],
      "source": []
    },
    {
      "cell_type": "markdown",
      "metadata": {
        "id": "1b2eaf5a"
      },
      "source": [
        "41.Can you create a Python program that reads a text file and counts the number of words contained within it? The program should be designed to read the file and break it down into individual words, using spaces, punctuation marks, and other delimiters to separate the words. It should then count the number of words found in the file and display this count as output. The program should be flexible enough to work with different text files and should be able to handle a variety of formatting and punctuation styles."
      ]
    },
    {
      "cell_type": "code",
      "execution_count": null,
      "metadata": {
        "id": "39e85703"
      },
      "outputs": [],
      "source": [
        "# Open the file in read mode\n",
        "with open(\"filename.txt\", \"r\") as file:\n",
        "    # Read the content of the file and split it into words\n",
        "    words = file.read().split()\n",
        "\n",
        "# Count the number of words\n",
        "num_words = len(words)\n",
        "\n",
        "# Print the number of words in the file\n",
        "print(\"Number of words:\", num_words)\n",
        "\n",
        "##NOTE:\n",
        "#Make sure to replace filename.txt with the name of the text file you want to read.\n",
        "#This program reads the entire contents of the file, splits it into words using whitespace as the separator,\n",
        "#counts the number of words, and prints the result."
      ]
    },
    {
      "cell_type": "markdown",
      "metadata": {
        "id": "4a100bcb"
      },
      "source": [
        "42. Could you help me create a Python program that can find and display the longest word in a text file? The program should be able to read any text file and separate its contents into individual words, taking into account various delimiters like spaces, punctuation marks, and other characters. Then, it should compare the length of each word and determine which one is the longest, and finally, print that word as output. The program should be versatile enough to work with various text files and be able to handle different formatting styles and punctuation.\n"
      ]
    },
    {
      "cell_type": "code",
      "execution_count": null,
      "metadata": {
        "id": "bf62fe90"
      },
      "outputs": [],
      "source": [
        "with open(\"filename.txt\", \"r\") as file:\n",
        "    text = file.read()\n",
        "    words = text.split()\n",
        "\n",
        "longest_word = max(words, key=len)\n",
        "print(\"The longest word is:\", longest_word)"
      ]
    },
    {
      "cell_type": "markdown",
      "metadata": {
        "id": "818116e6"
      },
      "source": [
        "43.Write a Python program to read a text file and print out the most frequent word(s) in the file.\n"
      ]
    },
    {
      "cell_type": "code",
      "execution_count": null,
      "metadata": {
        "id": "cdc18e33"
      },
      "outputs": [],
      "source": [
        "from collections import Counter\n",
        "\n",
        "# Open the file and read its contents\n",
        "with open('filename.txt', 'r') as file:\n",
        "    text = file.read()\n",
        "\n",
        "# Remove special characters and split the text into words\n",
        "words = text.lower().replace('\\n', ' ').split()\n",
        "\n",
        "# Count the frequency of each word using Counter from collections module\n",
        "word_count = Counter(words)\n",
        "\n",
        "# Find the most frequent word(s)\n",
        "most_common = word_count.most_common()\n",
        "\n",
        "# Get the count of the most frequent word(s)\n",
        "max_count = most_common[0][1]\n",
        "\n",
        "# Print out all the words that have the same maximum frequency\n",
        "print(\"Most frequent word(s):\")\n",
        "for word, count in most_common:\n",
        "    if count == max_count:\n",
        "        print(f\"{word}: {count} times\")\n",
        "    else:\n",
        "        break"
      ]
    },
    {
      "cell_type": "markdown",
      "metadata": {
        "id": "8f0e5503"
      },
      "source": [
        "44. How can you use Python to count the number of rows in a CSV file?\n"
      ]
    },
    {
      "cell_type": "code",
      "execution_count": null,
      "metadata": {
        "id": "e78e080f"
      },
      "outputs": [],
      "source": [
        "import csv\n",
        "\n",
        "filename = \"example.csv\"  # replace with the name of your CSV file\n",
        "\n",
        "with open(filename, 'r') as csvfile:\n",
        "    reader = csv.reader(csvfile)\n",
        "    num_rows = sum(1 for row in reader)\n",
        "\n",
        "print(f\"The number of rows in {filename} is {num_rows}\")"
      ]
    },
    {
      "cell_type": "markdown",
      "metadata": {
        "id": "3eba88d7"
      },
      "source": [
        "45. How can you use Python to calculate the average of a specific column in a CSV file?\n"
      ]
    },
    {
      "cell_type": "code",
      "execution_count": null,
      "metadata": {
        "id": "df91b9c7"
      },
      "outputs": [],
      "source": [
        "import csv\n",
        "\n",
        "filename = \"example.csv\"  # replace with the name of your CSV file\n",
        "column_index = 2  # replace with the index of the column you want to calculate the average of\n",
        "\n",
        "with open(filename, 'r') as csvfile:\n",
        "    reader = csv.reader(csvfile)\n",
        "    next(reader)  # skip header row\n",
        "    values = [float(row[column_index]) for row in reader]\n",
        "\n",
        "average = sum(values) / len(values)\n",
        "print(f\"The average of column {column_index} in {filename} is {average}\")"
      ]
    },
    {
      "cell_type": "markdown",
      "metadata": {
        "id": "eecf25b8"
      },
      "source": [
        "46.Write a Python program to read a JSON file and print out the value of a specified key.\n"
      ]
    },
    {
      "cell_type": "code",
      "execution_count": null,
      "metadata": {
        "id": "98d7692d"
      },
      "outputs": [],
      "source": [
        "import json\n",
        "\n",
        "filename = \"example.json\"  # replace with the name of your JSON file\n",
        "key = \"name\"  # replace with the key you want to get the value of\n",
        "\n",
        "with open(filename, 'r') as jsonfile:\n",
        "    data = json.load(jsonfile)\n",
        "\n",
        "value = data[key]\n",
        "print(f\"The value of key {key} in {filename} is {value}\")"
      ]
    },
    {
      "cell_type": "markdown",
      "metadata": {
        "id": "7974c9d9"
      },
      "source": [
        "47. Can you provide a Python code snippet to write a list of strings into a text file where each string is written on a new line?\n"
      ]
    },
    {
      "cell_type": "code",
      "execution_count": null,
      "metadata": {
        "id": "6035245c"
      },
      "outputs": [],
      "source": [
        "strings = [\"Hello\", \"world\", \"how\", \"are\", \"you\"]\n",
        "filename = \"example.txt\"  # replace with the name of the text file you want to create\n",
        "\n",
        "with open(filename, 'w') as textfile:\n",
        "    for s in strings:\n",
        "        textfile.write(s + '\\n')"
      ]
    },
    {
      "cell_type": "markdown",
      "metadata": {
        "id": "a3e518e3"
      },
      "source": [
        "48. Can you provide a Python code to read a binary file and display the data in hexadecimal format.\n"
      ]
    },
    {
      "cell_type": "code",
      "execution_count": null,
      "metadata": {
        "id": "8cf31ce6"
      },
      "outputs": [],
      "source": [
        "filename = \"example.bin\"  # replace with the name of your binary file\n",
        "\n",
        "with open(filename, 'rb') as binaryfile:\n",
        "    binary_data = binaryfile.read()\n",
        "    hex_data = binascii.hexlify(binary_data).decode()\n",
        "\n",
        "print(f\"The hexadecimal representation of the binary data in {filename} is:\\n{hex_data}\")"
      ]
    },
    {
      "cell_type": "markdown",
      "metadata": {
        "id": "08b97903"
      },
      "source": [
        "49. Can you write a Python code to read a Comma-Separated Values (CSV) file, apply a specific condition to each row, and create a new CSV file that contains only the rows that satisfy the condition? For example, if the CSV file contains information about products and their prices, you may want to create a new CSV file that only includes the products that are within a certain price range. The program should be able to read the CSV file, compare the values in each row to the specified condition, and write the rows that meet the criteria to a new CSV file.\n"
      ]
    },
    {
      "cell_type": "code",
      "execution_count": null,
      "metadata": {
        "id": "e5149265"
      },
      "outputs": [],
      "source": [
        "import csv\n",
        "\n",
        "input_filename = \"input.csv\"  # replace with the name of your input CSV file\n",
        "output_filename = \"output.csv\"  # replace with the name of the output CSV file\n",
        "condition_column_index = 1  # replace with the index of the column to apply the condition to\n",
        "condition_value = \"true\"  # replace with the value that the condition column should have to include the row\n",
        "\n",
        "with open(input_filename, 'r') as input_file, open(output_filename, 'w', newline='') as output_file:\n",
        "    reader = csv.reader(input_file)\n",
        "    writer = csv.writer(output_file)\n",
        "\n",
        "    for row in reader:\n",
        "        if row[condition_column_index] == condition_value:\n",
        "            writer.writerow(row)"
      ]
    },
    {
      "cell_type": "markdown",
      "metadata": {
        "id": "b12e5cdb"
      },
      "source": [
        "50.Write a Python program to read a text file, count the frequency of each word, and write the results to a new text file.\n"
      ]
    },
    {
      "cell_type": "code",
      "execution_count": null,
      "metadata": {
        "id": "01f48e64"
      },
      "outputs": [],
      "source": [
        "input_filename = \"input.txt\"  # replace with the name of your input text file\n",
        "output_filename = \"output.txt\"  # replace with the name of the output text file\n",
        "\n",
        "# Define a function to count the frequency of each word in a list\n",
        "def count_word_frequency(words):\n",
        "    frequency = {}\n",
        "    for word in words:\n",
        "        if word in frequency:\n",
        "            frequency[word] += 1\n",
        "        else:\n",
        "            frequency[word] = 1\n",
        "    return frequency\n",
        "\n",
        "# Read the input text file and count the frequency of each word\n",
        "with open(input_filename, 'r') as input_file:\n",
        "    text = input_file.read()\n",
        "    words = text.split()\n",
        "    word_frequency = count_word_frequency(words)\n",
        "\n",
        "# Write the word frequency data to the output text file\n",
        "with open(output_filename, 'w') as output_file:\n",
        "    for word, count in word_frequency.items():\n",
        "        output_file.write(f\"{word}: {count}\\n\")"
      ]
    },
    {
      "cell_type": "markdown",
      "metadata": {
        "id": "47eb9de7"
      },
      "source": [
        "51.Write a program that prints the first 10 even numbers using a for loop.\n"
      ]
    },
    {
      "cell_type": "code",
      "execution_count": null,
      "metadata": {
        "id": "0c242e44",
        "outputId": "3f3a65d1-39a6-4448-fe32-856bbc7752b5"
      },
      "outputs": [
        {
          "name": "stdout",
          "output_type": "stream",
          "text": [
            "2\n",
            "4\n",
            "6\n",
            "8\n",
            "10\n",
            "12\n",
            "14\n",
            "16\n",
            "18\n",
            "20\n"
          ]
        }
      ],
      "source": [
        "# use a for loop to print the first 10 even numbers\n",
        "for i in range(2, 21, 2):\n",
        "    print(i)"
      ]
    },
    {
      "cell_type": "markdown",
      "metadata": {
        "id": "67e48b44"
      },
      "source": [
        "52.Write a program that takes a list of strings and prints out each string in reverse order using a for loop.\n"
      ]
    },
    {
      "cell_type": "code",
      "execution_count": null,
      "metadata": {
        "id": "d02de7ac",
        "outputId": "d5c31d49-72b5-442e-c2d5-1e55fe929ba2"
      },
      "outputs": [
        {
          "name": "stdout",
          "output_type": "stream",
          "text": [
            "olleh\n",
            "dlrow\n",
            "nohtyp\n",
            "gnimmargorp\n"
          ]
        }
      ],
      "source": [
        "# take a list of strings\n",
        "my_list = [\"hello\", \"world\", \"python\", \"programming\"]\n",
        "\n",
        "# use a for loop to print each string in reverse order\n",
        "for s in my_list:\n",
        "    print(s[::-1])"
      ]
    },
    {
      "cell_type": "markdown",
      "metadata": {
        "id": "39c08834"
      },
      "source": [
        "53.Write a program that prints the multiplication table of a given number using a for loop.\n"
      ]
    },
    {
      "cell_type": "code",
      "execution_count": null,
      "metadata": {
        "id": "96f6cf3a",
        "outputId": "2fdb5752-aa37-4ae4-af11-456412c62f47"
      },
      "outputs": [
        {
          "name": "stdout",
          "output_type": "stream",
          "text": [
            "Enter a number: 6\n",
            "6 x 1 = 6\n",
            "6 x 2 = 12\n",
            "6 x 3 = 18\n",
            "6 x 4 = 24\n",
            "6 x 5 = 30\n",
            "6 x 6 = 36\n",
            "6 x 7 = 42\n",
            "6 x 8 = 48\n",
            "6 x 9 = 54\n",
            "6 x 10 = 60\n"
          ]
        }
      ],
      "source": [
        "# take input from the user\n",
        "num = int(input(\"Enter a number: \"))\n",
        "\n",
        "# use a for loop to iterate from 1 to 10\n",
        "for i in range(1, 11):\n",
        "    # calculate the product of num and i\n",
        "    product = num * i\n",
        "\n",
        "    # print the result\n",
        "    print(num, \"x\", i, \"=\", product)"
      ]
    },
    {
      "cell_type": "markdown",
      "metadata": {
        "id": "97a13bd8"
      },
      "source": [
        "54.Write a program that takes a list of integers as input and returns the sum of all the numbers in the list using a for loop.\n"
      ]
    },
    {
      "cell_type": "code",
      "execution_count": null,
      "metadata": {
        "id": "7440651f",
        "outputId": "4fd646c6-7540-44cc-f7dc-a8e2c029ed2f"
      },
      "outputs": [
        {
          "name": "stdout",
          "output_type": "stream",
          "text": [
            "15\n"
          ]
        }
      ],
      "source": [
        "def sum_list(numbers):\n",
        "    total = 0\n",
        "    for num in numbers:\n",
        "        total += num\n",
        "    return total\n",
        "\n",
        "# Example usage:\n",
        "my_list = [1, 2, 3, 4, 5]\n",
        "print(sum_list(my_list))"
      ]
    },
    {
      "cell_type": "markdown",
      "metadata": {
        "id": "61bfee63"
      },
      "source": [
        "55.Write a program that prompts the user for a positive integer and then prints out all the prime numbers up to that number using a for loop.\n"
      ]
    },
    {
      "cell_type": "code",
      "execution_count": null,
      "metadata": {
        "id": "632fc2aa",
        "outputId": "9955f72c-038c-4cee-ae9b-d9c12fc8cdaa"
      },
      "outputs": [
        {
          "name": "stdout",
          "output_type": "stream",
          "text": [
            "Enter a positive integer: 56\n",
            "2\n",
            "3\n",
            "5\n",
            "7\n",
            "11\n",
            "13\n",
            "17\n",
            "19\n",
            "23\n",
            "29\n",
            "31\n",
            "37\n",
            "41\n",
            "43\n",
            "47\n",
            "53\n"
          ]
        }
      ],
      "source": [
        "# Function to check if a number is prime\n",
        "def is_prime(n):\n",
        "    if n <= 1:\n",
        "        return False\n",
        "    for i in range(2, int(n**0.5) + 1):\n",
        "        if n % i == 0:\n",
        "            return False\n",
        "    return True\n",
        "\n",
        "# Prompt user for input\n",
        "n = int(input(\"Enter a positive integer: \"))\n",
        "\n",
        "# Loop through all numbers up to n and print prime numbers\n",
        "for i in range(2, n+1):\n",
        "    if is_prime(i):\n",
        "        print(i)"
      ]
    },
    {
      "cell_type": "markdown",
      "metadata": {
        "id": "3334686d"
      },
      "source": [
        "56.Write a program that prompts the user to enter a password until the correct password is entered using a while loop.\n"
      ]
    },
    {
      "cell_type": "code",
      "execution_count": null,
      "metadata": {
        "id": "7024acc8",
        "outputId": "ac19858b-d4c9-4c84-8161-c4029536e20c"
      },
      "outputs": [
        {
          "name": "stdout",
          "output_type": "stream",
          "text": [
            "Enter password: password234\n",
            "Incorrect password!\n",
            "Enter password: password123\n",
            "Correct password!\n"
          ]
        }
      ],
      "source": [
        "# Define the correct password\n",
        "password = \"password123\"\n",
        "\n",
        "# Prompt the user to enter a password\n",
        "user_input = input(\"Enter password: \")\n",
        "\n",
        "# Keep prompting until correct password is entered\n",
        "while user_input != password:\n",
        "    print(\"Incorrect password!\")\n",
        "    user_input = input(\"Enter password: \")\n",
        "\n",
        "print(\"Correct password!\")"
      ]
    },
    {
      "cell_type": "markdown",
      "metadata": {
        "id": "94dd114f"
      },
      "source": [
        "57.Write a program that takes a list of strings and prints out each string in reverse order using a while loop.\n"
      ]
    },
    {
      "cell_type": "code",
      "execution_count": null,
      "metadata": {
        "id": "bdf88087",
        "outputId": "f746618f-209d-4231-d734-0cfdfd407131"
      },
      "outputs": [
        {
          "name": "stdout",
          "output_type": "stream",
          "text": [
            "olleh\n",
            "dlrow\n",
            "nohtyp\n",
            "gnimmargorp\n"
          ]
        }
      ],
      "source": [
        "# Define the list of strings\n",
        "string_list = [\"hello\", \"world\", \"python\", \"programming\"]\n",
        "\n",
        "# Loop through each string in the list and print it in reverse order\n",
        "for string in string_list:\n",
        "    index = len(string) - 1\n",
        "    while index >= 0:\n",
        "        print(string[index], end=\"\")\n",
        "        index -= 1\n",
        "    print()"
      ]
    },
    {
      "cell_type": "markdown",
      "metadata": {
        "id": "5c4d9faa"
      },
      "source": [
        "58.Write a program that prompts the user to enter a positive integer and then prints out all the Fibonacci numbers up to that number using a while loop.\n"
      ]
    },
    {
      "cell_type": "code",
      "execution_count": null,
      "metadata": {
        "id": "88ebed27",
        "outputId": "f0da094a-9a51-4fb1-b433-40c39a8fa090"
      },
      "outputs": [
        {
          "name": "stdout",
          "output_type": "stream",
          "text": [
            "Enter a positive integer: 7\n",
            "0\n",
            "1\n",
            "1\n",
            "2\n",
            "3\n",
            "5\n",
            "8\n"
          ]
        }
      ],
      "source": [
        "# Prompt user for input\n",
        "n = int(input(\"Enter a positive integer: \"))\n",
        "\n",
        "# Initialize variables for the first two Fibonacci numbers\n",
        "fib1 = 0\n",
        "fib2 = 1\n",
        "\n",
        "# Print the first Fibonacci number (0)\n",
        "print(fib1)\n",
        "\n",
        "# Print the second Fibonacci number (1)\n",
        "print(fib2)\n",
        "\n",
        "# Loop through all remaining Fibonacci numbers up to n\n",
        "while fib2 <= n:\n",
        "    # Compute the next Fibonacci number and print it\n",
        "    fib3 = fib1 + fib2\n",
        "    print(fib3)\n",
        "\n",
        "    # Update variables for the next iteration\n",
        "    fib1 = fib2\n",
        "    fib2 = fib3"
      ]
    },
    {
      "cell_type": "markdown",
      "metadata": {
        "id": "4fcf8fbb"
      },
      "source": [
        "59.Write a program that takes a list of integers as input and returns the product of all the numbers in the list using a while loop.\n"
      ]
    },
    {
      "cell_type": "code",
      "execution_count": null,
      "metadata": {
        "id": "4ed03179",
        "outputId": "6150a193-5d2e-4f91-e0c9-b6974baa3fcb"
      },
      "outputs": [
        {
          "name": "stdout",
          "output_type": "stream",
          "text": [
            "3840\n"
          ]
        }
      ],
      "source": [
        "# Define the list of integers\n",
        "int_list = [2, 4, 6, 8, 10]\n",
        "\n",
        "# Initialize the product variable to 1\n",
        "product = 1\n",
        "\n",
        "# Loop through each integer in the list and multiply it with the product variable\n",
        "index = 0\n",
        "while index < len(int_list):\n",
        "    product *= int_list[index]\n",
        "    index += 1\n",
        "\n",
        "# Print the final product\n",
        "print(product)"
      ]
    },
    {
      "cell_type": "markdown",
      "metadata": {
        "id": "a06902e0"
      },
      "source": [
        "60.Write a program that prompts the user to enter a positive integer and then prints out the factorial of that number using a while loop.\n"
      ]
    },
    {
      "cell_type": "code",
      "execution_count": null,
      "metadata": {
        "id": "98f44bf2",
        "outputId": "9541cb16-d93d-4e90-dd76-9ade0fe0a21c"
      },
      "outputs": [
        {
          "name": "stdout",
          "output_type": "stream",
          "text": [
            "Enter a positive integer: 12\n",
            "479001600\n"
          ]
        }
      ],
      "source": [
        "# Prompt user for input\n",
        "n = int(input(\"Enter a positive integer: \"))\n",
        "\n",
        "# Initialize the factorial variable to 1\n",
        "factorial = 1\n",
        "\n",
        "# Loop through all integers from 1 to n\n",
        "i = 1\n",
        "while i <= n:\n",
        "    # Multiply the current value of the factorial variable with i\n",
        "    factorial *= i\n",
        "\n",
        "    # Update the loop counter\n",
        "    i += 1\n",
        "\n",
        "# Print the final factorial value\n",
        "print(factorial)"
      ]
    },
    {
      "cell_type": "code",
      "execution_count": null,
      "metadata": {
        "id": "tkJqWyZ_o8nT"
      },
      "outputs": [],
      "source": []
    },
    {
      "cell_type": "markdown",
      "metadata": {
        "id": "_eumb1tDxL0C"
      },
      "source": [
        "61.Write a program that spawns two threads. One thread should print even numbers between 0 and 10, and the other thread should print odd numbers between 1 and 9."
      ]
    },
    {
      "cell_type": "code",
      "execution_count": null,
      "metadata": {
        "colab": {
          "base_uri": "https://localhost:8080/"
        },
        "id": "GXIjwnwxxNO_",
        "outputId": "3a5f5096-2f69-4d01-9edf-ef4b9e67eff6"
      },
      "outputs": [
        {
          "name": "stdout",
          "output_type": "stream",
          "text": [
            "01\n",
            "3\n",
            "5\n",
            "7\n",
            "\n",
            "2\n",
            "4\n",
            "6\n",
            "89\n",
            "\n",
            "10\n"
          ]
        }
      ],
      "source": [
        "import threading\n",
        "\n",
        "def print_even():\n",
        "    for i in range(0, 11, 2):\n",
        "        print(i)\n",
        "\n",
        "def print_odd():\n",
        "    for i in range(1, 10, 2):\n",
        "        print(i)\n",
        "\n",
        "# create threads\n",
        "t1 = threading.Thread(target=print_even)\n",
        "t2 = threading.Thread(target=print_odd)\n",
        "\n",
        "# start threads\n",
        "t1.start()\n",
        "t2.start()\n",
        "\n",
        "# wait for threads to finish\n",
        "t1.join()\n",
        "t2.join()\n"
      ]
    },
    {
      "cell_type": "code",
      "execution_count": null,
      "metadata": {
        "id": "i_Im8--SxnMq"
      },
      "outputs": [],
      "source": []
    },
    {
      "cell_type": "markdown",
      "metadata": {
        "id": "6IIC1G8ex13e"
      },
      "source": [
        "62.Write a program that generates a list of random numbers and sorts them using multithreading. Use two threads to sort the first half and the second half of the list in parallel."
      ]
    },
    {
      "cell_type": "code",
      "execution_count": null,
      "metadata": {
        "colab": {
          "base_uri": "https://localhost:8080/"
        },
        "id": "iV_LCG7syVa2",
        "outputId": "c6ec9409-f32b-4f5f-b6f1-b5bcf3c07e93"
      },
      "outputs": [
        {
          "name": "stdout",
          "output_type": "stream",
          "text": [
            "Original List: [6, 39, 5, 35, 34, 31, 84, 70, 75, 88]\n",
            "Sorted List: [5, 6, 31, 34, 35, 39, 70, 75, 84, 88]\n"
          ]
        }
      ],
      "source": [
        "import threading\n",
        "import random\n",
        "\n",
        "# generate a list of random numbers\n",
        "my_list = [random.randint(1, 100) for _ in range(10)]\n",
        "print(\"Original List:\", my_list)\n",
        "\n",
        "# define the function to sort the list\n",
        "def sort_list(start, end):\n",
        "    my_list[start:end] = sorted(my_list[start:end])\n",
        "\n",
        "# create threads for sorting\n",
        "t1 = threading.Thread(target=sort_list, args=(0, len(my_list)//2))\n",
        "t2 = threading.Thread(target=sort_list, args=(len(my_list)//2, len(my_list)))\n",
        "\n",
        "# start the threads\n",
        "t1.start()\n",
        "t2.start()\n",
        "\n",
        "# wait for threads to finish\n",
        "t1.join()\n",
        "t2.join()\n",
        "\n",
        "# merge the sorted sublists\n",
        "sorted_list = sorted(my_list)\n",
        "\n",
        "print(\"Sorted List:\", sorted_list)\n"
      ]
    },
    {
      "cell_type": "code",
      "execution_count": null,
      "metadata": {
        "id": "A7LnSJu6ydAx"
      },
      "outputs": [],
      "source": []
    },
    {
      "cell_type": "markdown",
      "metadata": {
        "id": "iNiKIP3bEL4V"
      },
      "source": [
        "63.Write a program that simulates a bank account transaction. The program should create two threads, one for a deposit and one for a withdrawal. The deposit thread should add $100 to the account, and the withdrawal thread should withdraw $50 from the account. Run the program for 10 iterations.\n"
      ]
    },
    {
      "cell_type": "code",
      "execution_count": null,
      "metadata": {
        "colab": {
          "base_uri": "https://localhost:8080/"
        },
        "id": "_xqXn9ixENEf",
        "outputId": "4ed296a9-e01f-4710-dbca-9b9202a2afe4"
      },
      "outputs": [
        {
          "name": "stdout",
          "output_type": "stream",
          "text": [
            "Deposited $100, balance is now $100\n",
            "Deposited $100, balance is now $200\n",
            "Deposited $100, balance is now $300\n",
            "Deposited $100, balance is now $400\n",
            "Deposited $100, balance is now $500\n",
            "Deposited $100, balance is now $600\n",
            "Deposited $100, balance is now $700\n",
            "Deposited $100, balance is now $800\n",
            "Deposited $100, balance is now $900\n",
            "Deposited $100, balance is now $1000\n",
            "Withdrawn $50, balance is now $950\n",
            "Withdrawn $50, balance is now $900\n",
            "Withdrawn $50, balance is now $850\n",
            "Withdrawn $50, balance is now $800\n",
            "Withdrawn $50, balance is now $750\n",
            "Withdrawn $50, balance is now $700\n",
            "Withdrawn $50, balance is now $650\n",
            "Withdrawn $50, balance is now $600\n",
            "Withdrawn $50, balance is now $550\n",
            "Withdrawn $50, balance is now $500\n"
          ]
        }
      ],
      "source": [
        "import threading\n",
        "\n",
        "balance = 0\n",
        "lock = threading.Lock()\n",
        "\n",
        "def deposit():\n",
        "    global balance\n",
        "    for i in range(10):\n",
        "        lock.acquire()\n",
        "        balance += 100\n",
        "        print(\"Deposited $100, balance is now $\" + str(balance))\n",
        "        lock.release()\n",
        "\n",
        "def withdraw():\n",
        "    global balance\n",
        "    for i in range(10):\n",
        "        lock.acquire()\n",
        "        balance -= 50\n",
        "        print(\"Withdrawn $50, balance is now $\" + str(balance))\n",
        "        lock.release()\n",
        "\n",
        "deposit_thread = threading.Thread(target=deposit)\n",
        "withdraw_thread = threading.Thread(target=withdraw)\n",
        "\n",
        "deposit_thread.start()\n",
        "withdraw_thread.start()\n",
        "\n",
        "deposit_thread.join()\n",
        "withdraw_thread.join()\n"
      ]
    },
    {
      "cell_type": "code",
      "execution_count": null,
      "metadata": {
        "id": "q02x0ysOEc-7"
      },
      "outputs": [],
      "source": []
    },
    {
      "cell_type": "markdown",
      "metadata": {
        "id": "IvBzjERoFPou"
      },
      "source": [
        "64.Write a Python program that creates a thread to print out the current date and time every 5 seconds. The program should continue running until the user presses the 'q' key."
      ]
    },
    {
      "cell_type": "code",
      "execution_count": null,
      "metadata": {
        "colab": {
          "base_uri": "https://localhost:8080/"
        },
        "id": "oWlK3Iy7FTa5",
        "outputId": "18dc0a44-7459-411c-be3e-f5ac1073d0ec"
      },
      "outputs": [
        {
          "name": "stdout",
          "output_type": "stream",
          "text": [
            "2023-02-27 10:59:02\n",
            "2023-02-27 10:59:07\n",
            "2023-02-27 10:59:12\n",
            "2023-02-27 10:59:17\n",
            "2023-02-27 10:59:22\n",
            "q\n",
            "2023-02-27 10:59:27\n"
          ]
        }
      ],
      "source": [
        "import threading\n",
        "import time\n",
        "\n",
        "def print_time():\n",
        "    while True:\n",
        "        print(time.strftime(\"%Y-%m-%d %H:%M:%S\", time.localtime()))\n",
        "        time.sleep(5)\n",
        "\n",
        "t = threading.Thread(target=print_time)\n",
        "t.start()\n",
        "\n",
        "while True:\n",
        "    if input() == 'q':\n",
        "        break"
      ]
    },
    {
      "cell_type": "code",
      "execution_count": null,
      "metadata": {
        "id": "YyOz64-DFah7"
      },
      "outputs": [],
      "source": []
    },
    {
      "cell_type": "markdown",
      "metadata": {
        "id": "9P7Veu75FdRR"
      },
      "source": [
        "65.Write a Python program that creates two threads. Each thread should print out the numbers from 1 to 10. The two threads should run concurrently and print out the numbers in an interleaved fashion."
      ]
    },
    {
      "cell_type": "code",
      "execution_count": null,
      "metadata": {
        "colab": {
          "base_uri": "https://localhost:8080/"
        },
        "id": "OIe_J7aHH9tB",
        "outputId": "d65c5974-f249-4f70-aeea-04aaecadf12d"
      },
      "outputs": [
        {
          "name": "stdout",
          "output_type": "stream",
          "text": [
            "1\n",
            "2\n",
            "3\n",
            "4\n",
            "5\n",
            "6\n",
            "7\n",
            "8\n",
            "9\n",
            "10\n",
            "1\n",
            "2\n",
            "3\n",
            "4\n",
            "5\n",
            "6\n",
            "7\n",
            "8\n",
            "9\n",
            "10\n"
          ]
        }
      ],
      "source": [
        "import threading\n",
        "\n",
        "def print_numbers(start, end):\n",
        "    for i in range(start, end+1):\n",
        "        print(i)\n",
        "\n",
        "# create two threads\n",
        "thread1 = threading.Thread(target=print_numbers, args=(1, 10))\n",
        "thread2 = threading.Thread(target=print_numbers, args=(1, 10))\n",
        "\n",
        "# start the threads\n",
        "thread1.start()\n",
        "thread2.start()\n",
        "\n",
        "# wait for the threads to finish\n",
        "thread1.join()\n",
        "thread2.join()\n"
      ]
    },
    {
      "cell_type": "code",
      "execution_count": null,
      "metadata": {
        "id": "EXQMtKpWIE3o"
      },
      "outputs": [],
      "source": []
    },
    {
      "cell_type": "markdown",
      "metadata": {
        "id": "9UgBX6H6IJ-b"
      },
      "source": [
        "66.Write a Python program to create a shared variable between two threads and increment its value in each thread."
      ]
    },
    {
      "cell_type": "code",
      "execution_count": null,
      "metadata": {
        "colab": {
          "base_uri": "https://localhost:8080/"
        },
        "id": "icaY5RbKKDNs",
        "outputId": "6d2d0698-e2eb-4b37-cf15-13ef58bfc6a1"
      },
      "outputs": [
        {
          "name": "stdout",
          "output_type": "stream",
          "text": [
            "Shared variable value:  2\n"
          ]
        }
      ],
      "source": [
        "import threading\n",
        "\n",
        "shared_variable = 0\n",
        "lock = threading.Lock()\n",
        "\n",
        "def increment_variable():\n",
        "    global shared_variable\n",
        "    lock.acquire()\n",
        "    shared_variable += 1\n",
        "    lock.release()\n",
        "\n",
        "num1 = threading.Thread(target=increment_variable)\n",
        "num2 = threading.Thread(target=increment_variable)\n",
        "\n",
        "num1.start()\n",
        "num2.start()\n",
        "\n",
        "num1.join()\n",
        "num2.join()\n",
        "\n",
        "print(\"Shared variable value: \", shared_variable)\n",
        "\n",
        "\n"
      ]
    },
    {
      "cell_type": "code",
      "execution_count": null,
      "metadata": {
        "id": "AkRPzvknOc97"
      },
      "outputs": [],
      "source": []
    },
    {
      "cell_type": "markdown",
      "metadata": {
        "id": "4GwdvWhMOdwY"
      },
      "source": [
        "67.Here's a Python program that creates a thread to count down from 5 to 0 and prints \"Blastoff!\" when the count reaches 0:"
      ]
    },
    {
      "cell_type": "code",
      "execution_count": null,
      "metadata": {
        "colab": {
          "base_uri": "https://localhost:8080/"
        },
        "id": "7aUfR9l1Ompx",
        "outputId": "a05d352c-b7db-40d7-920b-c984d4561bfa"
      },
      "outputs": [
        {
          "name": "stdout",
          "output_type": "stream",
          "text": [
            "5\n",
            "4\n",
            "3\n",
            "2\n",
            "1\n",
            "Blastoff!\n"
          ]
        }
      ],
      "source": [
        "import threading as s\n",
        "import time\n",
        "\n",
        "def countdown():\n",
        "  for i in range(5, 0, -1):\n",
        "    print(i)\n",
        "    time.sleep(1)\n",
        "  print(\"Blastoff!\")\n",
        "\n",
        "threada = s.Thread(target=countdown())\n",
        "threada.start()\n"
      ]
    },
    {
      "cell_type": "code",
      "execution_count": null,
      "metadata": {
        "id": "XQC5srIiY7-b"
      },
      "outputs": [],
      "source": []
    },
    {
      "cell_type": "markdown",
      "metadata": {
        "id": "yElkYH8_fxfV"
      },
      "source": [
        "68.Write a program that creates a thread to print the Fibonacci sequence up to a certain number n. The main thread should prompt the user for the value of n."
      ]
    },
    {
      "cell_type": "code",
      "execution_count": null,
      "metadata": {
        "colab": {
          "base_uri": "https://localhost:8080/"
        },
        "id": "AL6wcr7jg2om",
        "outputId": "d3e719a3-5f6d-430e-8dfa-2697be64c431"
      },
      "outputs": [
        {
          "name": "stdout",
          "output_type": "stream",
          "text": [
            "Enter a number: 8\n",
            "0 1 1 2 3 5 8 "
          ]
        }
      ],
      "source": [
        "import threading\n",
        "\n",
        "def fib(n):\n",
        "    \"\"\"\n",
        "    Print the Fibonacci sequence up to n.\n",
        "    \"\"\"\n",
        "    a, b = 0, 1\n",
        "    while a <= n:\n",
        "        print(a, end=' ')\n",
        "        a, b = b, a+b\n",
        "\n",
        "# Prompt the user for the value of n\n",
        "n = int(input(\"Enter a number: \"))\n",
        "\n",
        "# Create a thread to print the Fibonacci sequence\n",
        "t = threading.Thread(target=fib, args=(n,))\n",
        "t.start()\n",
        "\n",
        "# Wait for the thread to finish before exiting\n",
        "t.join()\n"
      ]
    },
    {
      "cell_type": "markdown",
      "metadata": {
        "id": "sOJj2IwzjwRB"
      },
      "source": [
        "69.Write a program that creates two threads to add and subtract numbers from a shared variable. The shared variable should start at 0, and each thread should perform 10 iterations of adding or subtracting a random integer between 1 and 10. The program should print the final value of the shared variable."
      ]
    },
    {
      "cell_type": "code",
      "execution_count": null,
      "metadata": {
        "colab": {
          "base_uri": "https://localhost:8080/"
        },
        "id": "Raum6B0diGgD",
        "outputId": "c7b8c58b-f8fa-400e-8f8e-f5f11d8124d9"
      },
      "outputs": [
        {
          "name": "stdout",
          "output_type": "stream",
          "text": [
            "Added 5 to shared variable\n",
            "Subtracted 2 from shared variable\n",
            "Added 4 to shared variable\n",
            "Subtracted 10 from shared variable\n",
            "Added 5 to shared variable\n",
            "Subtracted 4 from shared variable\n",
            "Added 3 to shared variable\n",
            "Subtracted 2 from shared variable\n",
            "Added 7 to shared variable\n",
            "Subtracted 1 from shared variable\n",
            "Added 9 to shared variable\n",
            "Subtracted 5 from shared variable\n",
            "Added 5 to shared variable\n",
            "Subtracted 2 from shared variable\n",
            "Added 5 to shared variable\n",
            "Subtracted 5 from shared variable\n",
            "Added 7 to shared variable\n",
            "Subtracted 3 from shared variable\n",
            "AddedSubtracted 10 from shared variable\n",
            " 10 to shared variable\n",
            "Final value of shared variable is 0\n"
          ]
        }
      ],
      "source": [
        "import threading\n",
        "import random\n",
        "import time\n",
        "\n",
        "class AddThread(threading.Thread):\n",
        "    def __init__(self, shared_var):\n",
        "        super().__init__()\n",
        "        self.shared_var = shared_var\n",
        "\n",
        "    def run(self):\n",
        "        for i in range(10):\n",
        "            num = random.randint(1, 10)\n",
        "            self.shared_var += num\n",
        "            print(\"Added\", num, \"to shared variable\")\n",
        "            time.sleep(0.1)\n",
        "\n",
        "class SubtractThread(threading.Thread):\n",
        "    def __init__(self, shared_var):\n",
        "        super().__init__()\n",
        "        self.shared_var = shared_var\n",
        "\n",
        "    def run(self):\n",
        "        for i in range(10):\n",
        "            num = random.randint(1, 10)\n",
        "            self.shared_var -= num\n",
        "            print(\"Subtracted\", num, \"from shared variable\")\n",
        "            time.sleep(0.1)\n",
        "\n",
        "shared_var = 0\n",
        "add_thread = AddThread(shared_var)\n",
        "subtract_thread = SubtractThread(shared_var)\n",
        "\n",
        "add_thread.start()\n",
        "subtract_thread.start()\n",
        "\n",
        "add_thread.join()\n",
        "subtract_thread.join()\n",
        "\n",
        "print(\"Final value of shared variable is\", shared_var)\n"
      ]
    },
    {
      "cell_type": "code",
      "execution_count": null,
      "metadata": {
        "id": "w5fvCgvtlYSv"
      },
      "outputs": [],
      "source": []
    },
    {
      "cell_type": "markdown",
      "metadata": {
        "id": "pd1iBO8_m8mh"
      },
      "source": [
        "70.Write a program that creates a thread to calculate the sum of the numbers from 1 to 100 and prints the result."
      ]
    },
    {
      "cell_type": "code",
      "execution_count": null,
      "metadata": {
        "colab": {
          "base_uri": "https://localhost:8080/"
        },
        "id": "UC_Hm2u8l2Lb",
        "outputId": "d732b356-786f-4c55-bfcc-1a8c1ebdf6ac"
      },
      "outputs": [
        {
          "name": "stdout",
          "output_type": "stream",
          "text": [
            "The sum of the numbers from 1 to 100 is: 5050\n"
          ]
        }
      ],
      "source": [
        "import threading\n",
        "\n",
        "def sum_numbers():\n",
        "    result = sum(range(1, 101))\n",
        "    print(\"The sum of the numbers from 1 to 100 is:\", result)\n",
        "\n",
        "thread = threading.Thread(target=sum_numbers)\n",
        "thread.start()\n",
        "thread.join()\n"
      ]
    },
    {
      "cell_type": "markdown",
      "metadata": {
        "id": "zeoJ8RNeVRIg"
      },
      "source": [
        "71.Write a Python program to create two processes that print out the numbers from 1 to 10 simultaneously."
      ]
    },
    {
      "cell_type": "code",
      "execution_count": null,
      "metadata": {
        "colab": {
          "base_uri": "https://localhost:8080/"
        },
        "id": "wyTdCuemURwH",
        "outputId": "930b4f77-b619-4cdf-b9ea-19c2ae7c4e53"
      },
      "outputs": [
        {
          "name": "stdout",
          "output_type": "stream",
          "text": [
            "1\n",
            "2\n",
            "3\n",
            "4\n",
            "5\n",
            "6\n",
            "7\n",
            "8\n",
            "9\n",
            "10\n"
          ]
        }
      ],
      "source": [
        "from multiprocessing import Process\n",
        "\n",
        "def print_numbers(start, end):\n",
        "    for i in range(start, end+1):\n",
        "        print(i)\n",
        "\n",
        "if __name__ == '__main__':\n",
        "    p1 = Process(target=print_numbers, args=(1, 5))\n",
        "    p2 = Process(target=print_numbers, args=(6, 10))\n",
        "\n",
        "    p1.start()\n",
        "\n",
        "\n",
        "    p1.join()\n",
        "\n",
        "    p2.start()\n",
        "    p2.join()\n"
      ]
    },
    {
      "cell_type": "code",
      "execution_count": null,
      "metadata": {
        "id": "80hjR00nUX4p"
      },
      "outputs": [],
      "source": []
    },
    {
      "cell_type": "markdown",
      "metadata": {
        "id": "G1U-hNRIWiMp"
      },
      "source": [
        "72.Write a Python program that creates four processes and computes the sum of the first 1000 integers using multiprocessing"
      ]
    },
    {
      "cell_type": "code",
      "execution_count": null,
      "metadata": {
        "colab": {
          "base_uri": "https://localhost:8080/"
        },
        "id": "XrWXelGZWjKT",
        "outputId": "6db27155-186e-4bd6-b1ef-94b462bb81d8"
      },
      "outputs": [
        {
          "name": "stdout",
          "output_type": "stream",
          "text": [
            "Total: 500500\n"
          ]
        }
      ],
      "source": [
        "from multiprocessing import Process, Value\n",
        "\n",
        "def compute_sum(start, end, total):\n",
        "    for i in range(start, end+1):\n",
        "        with total.get_lock():\n",
        "            total.value += i\n",
        "\n",
        "if __name__ == '__main__':\n",
        "    total = Value('i', 0)\n",
        "\n",
        "    p1 = Process(target=compute_sum, args=(1, 250, total))\n",
        "    p2 = Process(target=compute_sum, args=(251, 500, total))\n",
        "    p3 = Process(target=compute_sum, args=(501, 750, total))\n",
        "    p4 = Process(target=compute_sum, args=(751, 1000, total))\n",
        "\n",
        "    p1.start()\n",
        "    p2.start()\n",
        "    p3.start()\n",
        "    p4.start()\n",
        "\n",
        "    p1.join()\n",
        "    p2.join()\n",
        "    p3.join()\n",
        "    p4.join()\n",
        "\n",
        "    print('Total:', total.value)\n"
      ]
    },
    {
      "cell_type": "code",
      "execution_count": null,
      "metadata": {
        "id": "TM4SonjPWqIw"
      },
      "outputs": [],
      "source": []
    },
    {
      "cell_type": "markdown",
      "metadata": {
        "id": "3LwmochgWqpg"
      },
      "source": [
        "73.Write a Python program that creates two processes and communicates between them using a Queue. The first process should send a list of numbers to the second process, which should calculate the sum of the numbers and send it back to the first process."
      ]
    },
    {
      "cell_type": "code",
      "execution_count": null,
      "metadata": {
        "colab": {
          "base_uri": "https://localhost:8080/"
        },
        "id": "JGLJwwHKXAgd",
        "outputId": "a7dc5c86-2cd3-4c8f-e8a8-ff03c902b4fc"
      },
      "outputs": [
        {
          "name": "stdout",
          "output_type": "stream",
          "text": [
            "The sum of the numbers [1, 2, 3, 4, 5] is 15.\n"
          ]
        }
      ],
      "source": [
        "from multiprocessing import Process, Queue\n",
        "\n",
        "def calculate_sum(numbers, q):\n",
        "    \"\"\"\n",
        "    This function takes a list of numbers and calculates the sum of them.\n",
        "    The result is put into a queue to be returned to the main process.\n",
        "    \"\"\"\n",
        "    result = sum(numbers)\n",
        "    q.put(result)\n",
        "\n",
        "if __name__ == '__main__':\n",
        "    # Define the list of numbers to be summed\n",
        "    numbers = [1, 2, 3, 4, 5]\n",
        "\n",
        "    # Create a queue to communicate between processes\n",
        "    q = Queue()\n",
        "\n",
        "    # Create a process to calculate the sum of the numbers\n",
        "    p = Process(target=calculate_sum, args=(numbers, q))\n",
        "    p.start()\n",
        "\n",
        "    # Wait for the result to be put in the queue and retrieve it\n",
        "    result = q.get()\n",
        "\n",
        "    # Print the result\n",
        "    print(f\"The sum of the numbers {numbers} is {result}.\")\n"
      ]
    },
    {
      "cell_type": "code",
      "execution_count": null,
      "metadata": {
        "id": "2bU8Nq-AZOV6"
      },
      "outputs": [],
      "source": []
    },
    {
      "cell_type": "markdown",
      "metadata": {
        "id": "HMq8nk-ywNjC"
      },
      "source": [
        "74.Write a program to find the maximum number in a list of lists using multiprocessing."
      ]
    },
    {
      "cell_type": "code",
      "execution_count": null,
      "metadata": {
        "colab": {
          "base_uri": "https://localhost:8080/"
        },
        "id": "MqMLPX6kwTAW",
        "outputId": "dc72addf-e539-4b9b-fd29-658bcf31ecf6"
      },
      "outputs": [
        {
          "name": "stdout",
          "output_type": "stream",
          "text": [
            "9\n"
          ]
        }
      ],
      "source": [
        "import multiprocessing\n",
        "\n",
        "def find_max(nums):\n",
        "    return max(nums)\n",
        "\n",
        "if __name__ == '__main__':\n",
        "    nums = [[1, 2, 3], [4, 5, 6], [7, 8, 9]]\n",
        "    with multiprocessing.Pool(processes=3) as pool:\n",
        "        result = pool.map(find_max, nums)\n",
        "    print(max(result))\n"
      ]
    },
    {
      "cell_type": "code",
      "execution_count": null,
      "metadata": {
        "id": "jLXeKX0WwbPK"
      },
      "outputs": [],
      "source": []
    },
    {
      "cell_type": "markdown",
      "metadata": {
        "id": "e1a5O7rkwfKp"
      },
      "source": [
        "75.Write a Python program that uses the Pool class from the multiprocessing\n",
        "\n",
        "*   List item\n",
        "*   List item\n",
        "\n",
        "module to calculate the squares of a list of integers."
      ]
    },
    {
      "cell_type": "code",
      "execution_count": null,
      "metadata": {
        "colab": {
          "base_uri": "https://localhost:8080/"
        },
        "id": "r31csRk4xgPR",
        "outputId": "d110a0bb-45e8-4cda-e03d-ae87a83897e6"
      },
      "outputs": [
        {
          "name": "stdout",
          "output_type": "stream",
          "text": [
            "[1, 4, 9, 16, 25]\n"
          ]
        }
      ],
      "source": [
        "import multiprocessing\n",
        "\n",
        "def square(x):\n",
        "    return x ** 2\n",
        "\n",
        "if __name__ == '__main__':\n",
        "    with multiprocessing.Pool(processes=4) as pool:\n",
        "        numbers = [1, 2, 3, 4, 5]\n",
        "        result = pool.map(square, numbers)\n",
        "        print(result)\n"
      ]
    },
    {
      "cell_type": "code",
      "execution_count": null,
      "metadata": {
        "colab": {
          "base_uri": "https://localhost:8080/"
        },
        "id": "z9jDhzWpxi8F",
        "outputId": "04184f45-85af-49ca-e792-1b3b1f0bf111"
      },
      "outputs": [
        {
          "name": "stdout",
          "output_type": "stream",
          "text": [
            "Object `Python` not found.\n"
          ]
        }
      ],
      "source": []
    },
    {
      "cell_type": "markdown",
      "metadata": {
        "id": "eaWecuKy1m47"
      },
      "source": [
        "76.How do you create a new process using the multiprocessing module in Python?"
      ]
    },
    {
      "cell_type": "code",
      "execution_count": null,
      "metadata": {
        "colab": {
          "base_uri": "https://localhost:8080/"
        },
        "id": "AYx-AMW2yS1P",
        "outputId": "582f0ff2-09c1-49d8-e8e8-889e4769e7a5"
      },
      "outputs": [
        {
          "name": "stdout",
          "output_type": "stream",
          "text": [
            "This is a child process.\n"
          ]
        }
      ],
      "source": [
        "import multiprocessing\n",
        "\n",
        "def my_function():\n",
        "    print(\"This is a child process.\")\n",
        "\n",
        "if __name__ == '__main__':\n",
        "    p = multiprocessing.Process(target=my_function)\n",
        "    p.start()\n"
      ]
    },
    {
      "cell_type": "code",
      "execution_count": null,
      "metadata": {
        "colab": {
          "base_uri": "https://localhost:8080/"
        },
        "id": "j4ZXmX4CyU4z",
        "outputId": "19d148c8-a2d9-4bb2-ace7-d3b413ffa65a"
      },
      "outputs": [
        {
          "name": "stdout",
          "output_type": "stream",
          "text": [
            "Object `parallel` not found.\n"
          ]
        }
      ],
      "source": []
    },
    {
      "cell_type": "markdown",
      "metadata": {
        "id": "Td-JQtN5ysC9"
      },
      "source": [
        "77.How do you use a Pool to execute a function with multiple arguments in parallel?"
      ]
    },
    {
      "cell_type": "code",
      "execution_count": null,
      "metadata": {
        "colab": {
          "base_uri": "https://localhost:8080/"
        },
        "id": "95q1CmgHyi-A",
        "outputId": "c5fd8b94-9c44-4772-bec3-9f8529416911"
      },
      "outputs": [
        {
          "name": "stdout",
          "output_type": "stream",
          "text": [
            "[6, 20]\n"
          ]
        }
      ],
      "source": [
        "import multiprocessing\n",
        "\n",
        "def my_function(num1, num2):\n",
        "    return num1 * num2\n",
        "\n",
        "if __name__ == '__main__':\n",
        "    with multiprocessing.Pool(processes=2) as pool:\n",
        "        results = pool.starmap(my_function, [(2, 3), (4, 5)])\n",
        "    print(results)\n"
      ]
    },
    {
      "cell_type": "code",
      "execution_count": null,
      "metadata": {
        "id": "7bYhqmzky3iy"
      },
      "outputs": [],
      "source": []
    },
    {
      "cell_type": "markdown",
      "metadata": {
        "id": "8vVsuz_hz7UV"
      },
      "source": [
        "78.Write a Python program to calculate the sum of squares of numbers in a list using multiprocessing."
      ]
    },
    {
      "cell_type": "code",
      "execution_count": null,
      "metadata": {
        "colab": {
          "base_uri": "https://localhost:8080/"
        },
        "id": "bDrH2AbAz-lb",
        "outputId": "a51d1a0a-7dca-4763-9b2b-f134f143eeb1"
      },
      "outputs": [
        {
          "name": "stdout",
          "output_type": "stream",
          "text": [
            "Sum of squares of [1, 2, 3, 4, 5] is 55\n"
          ]
        }
      ],
      "source": [
        "import multiprocessing\n",
        "\n",
        "def square_sum(numbers, result):\n",
        "    \"\"\"Calculate the sum of squares of numbers and store the result in the given shared array.\"\"\"\n",
        "    total = 0\n",
        "    for num in numbers:\n",
        "        total += num**2\n",
        "    result.value = total\n",
        "\n",
        "if __name__ == \"__main__\":\n",
        "    nums = [1, 2, 3, 4, 5]\n",
        "    result = multiprocessing.Value('i')  # shared integer value\n",
        "    p = multiprocessing.Process(target=square_sum, args=(nums, result))\n",
        "    p.start()\n",
        "    p.join()\n",
        "    print(f\"Sum of squares of {nums} is {result.value}\")\n"
      ]
    },
    {
      "cell_type": "code",
      "execution_count": null,
      "metadata": {
        "id": "fROEk-jb0B-d"
      },
      "outputs": [],
      "source": []
    },
    {
      "cell_type": "markdown",
      "metadata": {
        "id": "M6k6-Hvd0FAs"
      },
      "source": [
        "79.Write a Python program that uses the multiprocessing module to calculate the sum of a large list of integers."
      ]
    },
    {
      "cell_type": "code",
      "execution_count": null,
      "metadata": {
        "colab": {
          "base_uri": "https://localhost:8080/"
        },
        "id": "tv_73MZI2zKz",
        "outputId": "741cecd7-16fe-4725-f742-8432644d3c3a"
      },
      "outputs": [
        {
          "name": "stdout",
          "output_type": "stream",
          "text": [
            "5500000\n"
          ]
        }
      ],
      "source": [
        "import multiprocessing\n",
        "def sum_worker(data_chunk):\n",
        "    return sum(data_chunk)\n",
        "def main():\n",
        "    data = [1, 2, 3, 4, 5, 6, 7, 8, 9, 10] * 100000\n",
        "    pool = multiprocessing.Pool(processes=4)\n",
        "    chunksize = len(data) // 4\n",
        "    chunks = [data[i:i+chunksize] for i in range(0, len(data), chunksize)]\n",
        "    results = pool.map(sum_worker, chunks)\n",
        "    pool.close()\n",
        "    pool.join()\n",
        "    total = sum(results)\n",
        "    print(total)\n",
        "if __name__ == \"__main__\":\n",
        "    main()"
      ]
    },
    {
      "cell_type": "code",
      "execution_count": null,
      "metadata": {
        "id": "tzyQYMVO210j"
      },
      "outputs": [],
      "source": []
    },
    {
      "cell_type": "markdown",
      "metadata": {
        "id": "92gEwbq646-3"
      },
      "source": [
        "80.Write a Python program that uses the multiprocessing module to parallelize the computation of the factorial of a number."
      ]
    },
    {
      "cell_type": "code",
      "execution_count": null,
      "metadata": {
        "colab": {
          "base_uri": "https://localhost:8080/"
        },
        "id": "xuqoPUhe48Ge",
        "outputId": "d000eb00-6ad7-4c20-a4ff-9435c6be27b5"
      },
      "outputs": [
        {
          "name": "stdout",
          "output_type": "stream",
          "text": [
            "The factorials of the numbers 1 to 10 are: [1, 2, 6, 24, 120, 720, 5040, 40320, 362880, 3628800]\n"
          ]
        }
      ],
      "source": [
        "import multiprocessing\n",
        "def factorial(n):\n",
        "    if n == 0:\n",
        "        return 1\n",
        "    else:\n",
        "        return n * factorial(n-1)\n",
        "def factorial_worker(n):\n",
        "    return factorial(n)\n",
        "def main():\n",
        "    n = 10\n",
        "    pool = multiprocessing.Pool(processes=4)\n",
        "    results = pool.map(factorial_worker, range(1, n+1))\n",
        "    pool.close()\n",
        "    pool.join()\n",
        "    print(f\"The factorials of the numbers 1 to {n} are: {results}\")\n",
        "if __name__ == \"__main__\":\n",
        "    main()"
      ]
    },
    {
      "cell_type": "code",
      "execution_count": null,
      "metadata": {
        "id": "QYJNq68y5Dwx"
      },
      "outputs": [],
      "source": []
    },
    {
      "cell_type": "markdown",
      "metadata": {
        "id": "GY7qLpIsh36E"
      },
      "source": [
        "81. Write a Python program that prompts the user for two integers and divides the first integer by the second integer. If the either variable are none integer then print the value error and  second integer is zero, catch the ZeroDivisionError and print an error message to the user.\n",
        "\n",
        "\n"
      ]
    },
    {
      "cell_type": "code",
      "execution_count": null,
      "metadata": {
        "colab": {
          "base_uri": "https://localhost:8080/"
        },
        "id": "SLGyWJWxiAga",
        "outputId": "b92af5b8-7f79-4fde-aca0-1d7604864bc9"
      },
      "outputs": [
        {
          "name": "stdout",
          "output_type": "stream",
          "text": [
            "Enter the first integer: 6\n",
            "Enter the second integer: 0\n",
            "Error: division by zero. Please enter a non-zero value for the second integer.\n",
            "Enter the first integer: 6\n",
            "Enter the second integer: 8\n",
            "Result:  0.75\n"
          ]
        }
      ],
      "source": [
        "  while True:\n",
        "    try:\n",
        "        x = int(input(\"Enter the first integer: \"))\n",
        "        y = int(input(\"Enter the second integer: \"))\n",
        "        result = x / y\n",
        "        print(\"Result: \", result)\n",
        "        break\n",
        "    except ValueError:\n",
        "        print(\"Please enter integers only.\")\n",
        "    except ZeroDivisionError:\n",
        "        print(\"Error: division by zero. Please enter a non-zero value for the second integer.\")\n",
        "\n"
      ]
    },
    {
      "cell_type": "code",
      "execution_count": null,
      "metadata": {
        "id": "ppK3MkTBiGTd"
      },
      "outputs": [],
      "source": []
    },
    {
      "cell_type": "markdown",
      "metadata": {
        "id": "t5-WUIFqiTpH"
      },
      "source": [
        "82.Write a Python program that prompts the user for a password and checks whether the password meets certain criteria (e.g., at least 8 characters, contains at least one uppercase letter, etc.). If the password does not meet the criteria, raise a custom exception called PasswordError with a custom error message.\n",
        "\n"
      ]
    },
    {
      "cell_type": "code",
      "execution_count": null,
      "metadata": {
        "colab": {
          "base_uri": "https://localhost:8080/"
        },
        "id": "8uCmT9rmiUiQ",
        "outputId": "8f1b5b17-c4e0-4754-d877-586215bf3944"
      },
      "outputs": [
        {
          "name": "stdout",
          "output_type": "stream",
          "text": [
            "Enter a password: iNeuron@123\n",
            "Password is valid.\n"
          ]
        }
      ],
      "source": [
        "class PasswordError(Exception):\n",
        "    pass\n",
        "\n",
        "def check_password(password):\n",
        "    # Check password criteria\n",
        "    if len(password) < 8:\n",
        "        raise PasswordError(\"Error: password must be at least 8 characters long.\")\n",
        "    elif not any(char.isupper() for char in password):\n",
        "        raise PasswordError(\"Error: password must contain at least one uppercase letter.\")\n",
        "    elif not any(char.isdigit() for char in password):\n",
        "        raise PasswordError(\"Error: password must contain at least one digit.\")\n",
        "    elif not any(char in ['$', '#', '@'] for char in password):\n",
        "        raise PasswordError(\"Error: password must contain at least one of the following special characters: $ # @\")\n",
        "    else:\n",
        "        print(\"Password is valid.\")\n",
        "\n",
        "# Prompt user for password\n",
        "password = input(\"Enter a password: \")\n",
        "\n",
        "# Check password\n",
        "try:\n",
        "    check_password(password)\n",
        "except PasswordError as e:\n",
        "    print(e)\n"
      ]
    },
    {
      "cell_type": "code",
      "execution_count": null,
      "metadata": {
        "id": "876m9NG1iZof"
      },
      "outputs": [],
      "source": []
    },
    {
      "cell_type": "markdown",
      "metadata": {
        "id": "pRQV6rlMjDF7"
      },
      "source": [
        "83.Write a Python program that prompts the user for a number and calculates the square root of the number using the math.sqrt() function. If the number is negative, raise a ValueError with a custom error message.\n"
      ]
    },
    {
      "cell_type": "code",
      "execution_count": null,
      "metadata": {
        "colab": {
          "base_uri": "https://localhost:8080/"
        },
        "id": "IzlUC04CjHcT",
        "outputId": "6b2df071-8ece-4a40-9452-73c7ae51bd63"
      },
      "outputs": [
        {
          "name": "stdout",
          "output_type": "stream",
          "text": [
            "Enter a list of strings separated by commas: h,s,k,d,l\n",
            "Sorted list: ['d', 'h', 'k', 'l', 's']\n"
          ]
        }
      ],
      "source": [
        "while True:\n",
        "    try:\n",
        "        # Prompt user for list of strings\n",
        "        string_list = input(\"Enter a list of strings separated by commas: \").split(\",\")\n",
        "\n",
        "        # Sort list in alphabetical order\n",
        "        sorted_list = sorted(string_list)\n",
        "\n",
        "        # Check if any string contains non-alphabetic characters\n",
        "        for string in sorted_list:\n",
        "            if not string.isalpha():\n",
        "                raise TypeError(\"Error: list contains non-alphabetic characters.\")\n",
        "\n",
        "        # Print sorted list\n",
        "        print(\"Sorted list:\", sorted_list)\n",
        "        break\n",
        "    except TypeError as e:\n",
        "        print(e)\n"
      ]
    },
    {
      "cell_type": "code",
      "execution_count": null,
      "metadata": {
        "id": "Layz9oWVjMRQ"
      },
      "outputs": [],
      "source": []
    },
    {
      "cell_type": "markdown",
      "metadata": {
        "id": "N5AEVafukyV2"
      },
      "source": [
        "84.Write a Python program that prompts the user for a number and calculates the square root of the number using the math.sqrt() function. If the number is negative, raise a ValueError with a custom error message."
      ]
    },
    {
      "cell_type": "code",
      "execution_count": null,
      "metadata": {
        "colab": {
          "base_uri": "https://localhost:8080/"
        },
        "id": "7X-Sh1P-lMvF",
        "outputId": "151a8554-02af-4553-a803-ed7e6f4dff86"
      },
      "outputs": [
        {
          "name": "stdout",
          "output_type": "stream",
          "text": [
            "Enter a number: -6\n",
            "Error: number cannot be negative.\n",
            "Enter a number: 64\n",
            "The square root of 64.0 is 8.0\n"
          ]
        }
      ],
      "source": [
        "import math\n",
        "\n",
        "while True:\n",
        "    try:\n",
        "        # Prompt user for number\n",
        "        num = float(input(\"Enter a number: \"))\n",
        "\n",
        "        # Check if number is negative\n",
        "        if num < 0:\n",
        "            raise ValueError(\"Error: number cannot be negative.\")\n",
        "\n",
        "        # Calculate square root\n",
        "        result = math.sqrt(num)\n",
        "        print(\"The square root of\", num, \"is\", result)\n",
        "        break\n",
        "    except ValueError as e:\n",
        "        print(e)\n"
      ]
    },
    {
      "cell_type": "code",
      "execution_count": null,
      "metadata": {
        "id": "0nMmRYJHnDn4"
      },
      "outputs": [],
      "source": []
    },
    {
      "cell_type": "markdown",
      "metadata": {
        "id": "8SnOoQ8unJxy"
      },
      "source": [
        "85.Write a Python program that prompts the user for a list of integers and calculates the average of the list. If the list is empty, raise a ValueError with a custom error message.\n"
      ]
    },
    {
      "cell_type": "code",
      "execution_count": null,
      "metadata": {
        "colab": {
          "base_uri": "https://localhost:8080/"
        },
        "id": "a0nxII2KnMXA",
        "outputId": "5d083d15-22a4-4404-d9e1-a79dfce82647"
      },
      "outputs": [
        {
          "name": "stdout",
          "output_type": "stream",
          "text": [
            "Enter a list of integers (separated by spaces): 6 8 4 6 5 9 0 3\n",
            "Average of the list: 5.125\n"
          ]
        }
      ],
      "source": [
        "try:\n",
        "    # Prompt user for a list of integers\n",
        "    num_list = [int(num) for num in input(\"Enter a list of integers (separated by spaces): \").split()]\n",
        "\n",
        "    # Calculate the average of the list\n",
        "    avg = sum(num_list) / len(num_list)\n",
        "    print(\"Average of the list:\", avg)\n",
        "\n",
        "    # Raise a ValueError if the list is empty\n",
        "    if not num_list:\n",
        "        raise ValueError(\"List is empty\")\n",
        "except ValueError as e:\n",
        "    print(\"Error:\", e)"
      ]
    },
    {
      "cell_type": "code",
      "execution_count": null,
      "metadata": {
        "id": "sZHrvKyxnkpt"
      },
      "outputs": [],
      "source": []
    },
    {
      "cell_type": "markdown",
      "metadata": {
        "id": "eylW18vIoM4Y"
      },
      "source": [
        "86.Write a function that takes a string as input and returns the number of vowels in the string. If the input is not a string, raise a TypeError with a custom error message.\n"
      ]
    },
    {
      "cell_type": "code",
      "execution_count": null,
      "metadata": {
        "id": "Y-bQ-o8xoaqG"
      },
      "outputs": [],
      "source": [
        "def count_vowels(string):\n",
        "    try:\n",
        "        # Check if input is a string\n",
        "        if not isinstance(string, str):\n",
        "            raise TypeError(\"Input must be a string\")\n",
        "\n",
        "        # Count and return the number of vowels in the string\n",
        "        vowels = \"aeiouAEIOU\"\n",
        "        return sum([1 for char in string if char in vowels])\n",
        "    except TypeError as e:\n",
        "        print(\"Error:\", e)"
      ]
    },
    {
      "cell_type": "code",
      "execution_count": null,
      "metadata": {
        "colab": {
          "base_uri": "https://localhost:8080/"
        },
        "id": "ewC0UKjlpEo-",
        "outputId": "0845a858-6d1b-4037-a072-e43a1bdb7198"
      },
      "outputs": [
        {
          "name": "stdout",
          "output_type": "stream",
          "text": [
            "Error: Input must be a string\n"
          ]
        }
      ],
      "source": [
        "count_vowels(4)"
      ]
    },
    {
      "cell_type": "code",
      "execution_count": null,
      "metadata": {
        "colab": {
          "base_uri": "https://localhost:8080/"
        },
        "id": "6koRfyZQpO54",
        "outputId": "6260f3d4-cba9-4a50-d312-821c15b49c2f"
      },
      "outputs": [
        {
          "data": {
            "text/plain": [
              "5"
            ]
          },
          "execution_count": 28,
          "metadata": {},
          "output_type": "execute_result"
        }
      ],
      "source": [
        "count_vowels(\"aieoujdnj\")"
      ]
    },
    {
      "cell_type": "code",
      "execution_count": null,
      "metadata": {
        "colab": {
          "base_uri": "https://localhost:8080/"
        },
        "id": "Z4tUYTXRprm0",
        "outputId": "0befa696-49d1-4797-93b5-8822432fca18"
      },
      "outputs": [
        {
          "data": {
            "text/plain": [
              "6"
            ]
          },
          "execution_count": 30,
          "metadata": {},
          "output_type": "execute_result"
        }
      ],
      "source": [
        "count_vowels(\"this is a function\")"
      ]
    },
    {
      "cell_type": "code",
      "execution_count": null,
      "metadata": {
        "id": "Mnp6jLZbp2fC"
      },
      "outputs": [],
      "source": []
    },
    {
      "cell_type": "markdown",
      "metadata": {
        "id": "GIisexgRqU0s"
      },
      "source": [
        "87.write a python program how to handle simple runtime error?"
      ]
    },
    {
      "cell_type": "code",
      "execution_count": null,
      "metadata": {
        "colab": {
          "base_uri": "https://localhost:8080/"
        },
        "id": "aDz2-1yyqVt-",
        "outputId": "30baf26c-8b67-443c-f7ff-3543a73126e6"
      },
      "outputs": [
        {
          "name": "stdout",
          "output_type": "stream",
          "text": [
            "Second element = 2\n",
            "An error occurred\n"
          ]
        }
      ],
      "source": [
        "a = [1, 2, 3]\n",
        "try:\n",
        "    print (\"Second element = %d\" %(a[1]))\n",
        "    # Throws error since there are only 3 elements in array\n",
        "    print (\"Fourth element = %d\" %(a[3]))\n",
        "except:\n",
        "    print (\"An error occurred\")"
      ]
    },
    {
      "cell_type": "markdown",
      "metadata": {
        "id": "j8lcC7sNrJoe"
      },
      "source": [
        "88.write a program how to handle  multiple errors with one\n",
        "answer:# Program to handle multiple errors with one"
      ]
    },
    {
      "cell_type": "code",
      "execution_count": null,
      "metadata": {
        "colab": {
          "base_uri": "https://localhost:8080/"
        },
        "id": "jXj8CjhcrWtn",
        "outputId": "8ef38bb0-dd75-4d69-fdef-7b0864a21272"
      },
      "outputs": [
        {
          "name": "stdout",
          "output_type": "stream",
          "text": [
            "ZeroDivisionError Occurred and Handled\n"
          ]
        }
      ],
      "source": [
        "def fun(a):\n",
        "\tif a < 4:\n",
        "\t\t# throws ZeroDivisionError for a = 3\n",
        "\t\tb = a/(a-3)\n",
        "\t# throws NameError if a >= 4\n",
        "\tprint(\"Value of b = \", b)\n",
        "\n",
        "try:\n",
        "\tfun(3)\n",
        "\tfun(5)\n",
        "# note that braces () are necessary here for\n",
        "# multiple exceptions\n",
        "except ZeroDivisionError:\n",
        "\tprint(\"ZeroDivisionError Occurred and Handled\")\n",
        "except NameError:\n",
        "\tprint(\"NameError Occurred and Handled\")\n"
      ]
    },
    {
      "cell_type": "code",
      "execution_count": null,
      "metadata": {
        "id": "tmCNCBQwr41P"
      },
      "outputs": [],
      "source": []
    },
    {
      "cell_type": "markdown",
      "metadata": {
        "id": "eRJK4nxWsaHr"
      },
      "source": [
        "89. write a program to print the reciprocal of even numbers\n",
        "note:we might want to run a certain block of code if the code block inside try runs without any errors.\n",
        "For these cases, you can use the optional else keyword with the try statement."
      ]
    },
    {
      "cell_type": "code",
      "execution_count": null,
      "metadata": {
        "colab": {
          "base_uri": "https://localhost:8080/"
        },
        "id": "nicFMH_ssgo-",
        "outputId": "13fa5105-2a9d-449e-e166-b61c0c033552"
      },
      "outputs": [
        {
          "name": "stdout",
          "output_type": "stream",
          "text": [
            "Enter a number: 87\n",
            "Not an even number!\n"
          ]
        }
      ],
      "source": [
        "try:\n",
        "    num = int(input(\"Enter a number: \"))\n",
        "    assert num % 2 == 0\n",
        "except:\n",
        "    print(\"Not an even number!\")\n",
        "else:\n",
        "    reciprocal = 1/num\n",
        "    print(reciprocal)"
      ]
    },
    {
      "cell_type": "code",
      "execution_count": null,
      "metadata": {
        "id": "s_0b60c4s2A8"
      },
      "outputs": [],
      "source": []
    },
    {
      "cell_type": "markdown",
      "metadata": {
        "id": "QHQXWhqItHud"
      },
      "source": [
        "90.How to handle exceptions using the try, except, and finally statements write code"
      ]
    },
    {
      "cell_type": "code",
      "execution_count": null,
      "metadata": {
        "colab": {
          "base_uri": "https://localhost:8080/"
        },
        "id": "x5ynhroKtwgZ",
        "outputId": "64f9151a-292e-4d73-ccd4-cd8850fae46b"
      },
      "outputs": [
        {
          "name": "stdout",
          "output_type": "stream",
          "text": [
            "Enter a number: 98\n",
            "Result: 0.02040816326530612\n",
            "Thank you for using this program!\n"
          ]
        }
      ],
      "source": [
        "try:\n",
        "    # Ask the user to enter a number\n",
        "    num = int(input(\"Enter a number: \"))\n",
        "\n",
        "    # Divide the number by 2\n",
        "    result = 2 / num\n",
        "\n",
        "    # Print the result\n",
        "    print(\"Result:\", result)\n",
        "except ValueError:\n",
        "    # Handle the case where the user did not enter a valid number\n",
        "    print(\"Error: You must enter a valid number\")\n",
        "except ZeroDivisionError:\n",
        "    # Handle the case where the user entered 0 as the number\n",
        "    print(\"Error: You cannot divide by zero\")\n",
        "finally:\n",
        "    # Clean up resources or run some final code\n",
        "    print(\"Thank you for using this program!\")\n"
      ]
    },
    {
      "cell_type": "code",
      "execution_count": null,
      "metadata": {
        "id": "M2zHW_8-t2e-"
      },
      "outputs": [],
      "source": []
    },
    {
      "cell_type": "code",
      "source": [],
      "metadata": {
        "id": "sAb9gGremMXo"
      },
      "execution_count": null,
      "outputs": []
    },
    {
      "cell_type": "markdown",
      "source": [
        "**91.Write a Python program to create a MySQL database and a table.**\n",
        "\n",
        "**solution:-**\n",
        "\n"
      ],
      "metadata": {
        "id": "q8W8js0pmvw-"
      }
    },
    {
      "cell_type": "code",
      "source": [
        "import mysql.connector\n",
        "mydb = mysql.connector.connect(\n",
        "  host=\"localhost\",\n",
        "  user=\"yourusername\",\n",
        "  password=\"yourpassword\"\n",
        ")\n",
        "mycursor = mydb.cursor()\n",
        "mycursor.execute(\"CREATE DATABASE mydatabase\")\n",
        "mycursor.execute(\"CREATE TABLE customers (name VARCHAR(255), address VARCHAR(255))\")\n"
      ],
      "metadata": {
        "id": "47weU1Jzm2HN"
      },
      "execution_count": null,
      "outputs": []
    },
    {
      "cell_type": "code",
      "source": [],
      "metadata": {
        "id": "JkTTF9UXna8G"
      },
      "execution_count": null,
      "outputs": []
    },
    {
      "cell_type": "markdown",
      "source": [
        "**92. Write a Python program to insert data into a MySQL table.**\n",
        "\n",
        "**solution:-**\n"
      ],
      "metadata": {
        "id": "aG_gpzXIm2xN"
      }
    },
    {
      "cell_type": "code",
      "source": [
        "import mysql.connector\n",
        "mydb = mysql.connector.connect(\n",
        "  host=\"localhost\",\n",
        "  user=\"yourusername\",\n",
        "  password=\"yourpassword\",\n",
        "  database=\"mydatabase\"\n",
        ")\n",
        "mycursor = mydb.cursor()\n",
        "sql = \"INSERT INTO customers (name, address) VALUES (%s, %s)\"\n",
        "val = (\"John\", \"Highway 21\")\n",
        "mycursor.execute(sql, val)\n",
        "mydb.commit()\n",
        "print(mycursor.rowcount, \"record inserted.\")\n"
      ],
      "metadata": {
        "id": "QfzujcrLm5tI"
      },
      "execution_count": null,
      "outputs": []
    },
    {
      "cell_type": "code",
      "source": [],
      "metadata": {
        "id": "j5W3n1afngfl"
      },
      "execution_count": null,
      "outputs": []
    },
    {
      "cell_type": "markdown",
      "source": [
        "\n",
        "**93. Write a Python program to create an index on a MySQL table.**\n",
        "\n",
        "**solution:-**\n",
        "\n"
      ],
      "metadata": {
        "id": "57KpQqRkm52f"
      }
    },
    {
      "cell_type": "code",
      "source": [
        "import mysql.connector\n",
        "mydb = mysql.connector.connect(\n",
        "  host=\"localhost\",\n",
        "  user=\"yourusername\",\n",
        "  password=\"yourpassword\",\n",
        "  database=\"mydatabase\"\n",
        ")\n",
        "mycursor = mydb.cursor()\n",
        "mycursor.execute(\"CREATE INDEX idx_name ON customers (name)\")\n"
      ],
      "metadata": {
        "id": "zoErIn0hnCWt"
      },
      "execution_count": null,
      "outputs": []
    },
    {
      "cell_type": "code",
      "source": [],
      "metadata": {
        "id": "zy4Z_dcHnjNN"
      },
      "execution_count": null,
      "outputs": []
    },
    {
      "cell_type": "markdown",
      "source": [
        "**94. Write a Python program to join two tables in MySQL.**\n",
        "\n",
        "**solution:-**\n",
        "\n"
      ],
      "metadata": {
        "id": "A7FFig_InCkl"
      }
    },
    {
      "cell_type": "code",
      "source": [
        "import mysql.connector\n",
        "mydb = mysql.connector.connect(\n",
        "  host=\"localhost\",\n",
        "  user=\"yourusername\",\n",
        "  password=\"yourpassword\",\n",
        "  database=\"mydatabase\"\n",
        ")\n",
        "mycursor = mydb.cursor()\n",
        "mycursor.execute(\"SELECT customers.name, orders.product_name FROM customers INNER JOIN orders ON customers.id = orders.customer_id\")\n",
        "myresult = mycursor.fetchall()\n",
        "for x in myresult:\n",
        "  print(x)\n"
      ],
      "metadata": {
        "id": "EmYHVUXDnlPt"
      },
      "execution_count": null,
      "outputs": []
    },
    {
      "cell_type": "code",
      "source": [],
      "metadata": {
        "id": "ZsIYsU3_nDfN"
      },
      "execution_count": null,
      "outputs": []
    },
    {
      "cell_type": "markdown",
      "source": [
        "**95. Write a Python program to handle MySQL errors using exception\n",
        "handling.**\n",
        "\n",
        "**solution:-**\n",
        "\n"
      ],
      "metadata": {
        "id": "Ht2TwAzmnDtF"
      }
    },
    {
      "cell_type": "code",
      "source": [
        "import mysql.connector\n",
        "try:\n",
        "  mydb = mysql.connector.connect(\n",
        "    host=\"localhost\",\n",
        "    user=\"yourusername\",\n",
        "    password=\"yourpassword\",\n",
        "    database=\"mydatabase\"\n",
        "  )\n",
        "except mysql.connector.Error as err:\n",
        "  print(\"Something went wrong: {}\".format(err))\n",
        "else:\n",
        "  mycursor = mydb.cursor()\n",
        "  mycursor.execute(\"SELECT * FROM customers\")\n",
        "  myresult = mycursor.fetchall()\n",
        "  for x in myresult:\n",
        "    print(x)\n",
        "finally:\n",
        "  mydb.close()\n"
      ],
      "metadata": {
        "id": "GKOAgRZ0nokG"
      },
      "execution_count": null,
      "outputs": []
    },
    {
      "cell_type": "code",
      "source": [],
      "metadata": {
        "id": "KlDJG6VhnGau"
      },
      "execution_count": null,
      "outputs": []
    },
    {
      "cell_type": "markdown",
      "source": [
        "**96. Write a Python program to connect to a MongoDB database and insert\n",
        "data.**\n",
        "\n",
        "**solution:-**\n",
        "\n"
      ],
      "metadata": {
        "id": "2tSDRZyNnGi9"
      }
    },
    {
      "cell_type": "code",
      "source": [
        "import pymongo\n",
        "myclient = pymongo.MongoClient(\"mongodb://localhost:27017/\")\n",
        "mydb = myclient[\"mydatabase\"]\n",
        "mycol = mydb[\"customers\"]\n",
        "mydict = { \"name\": \"John\", \"address\": \"Highway 37\" }\n",
        "x = mycol.insert_one(mydict)\n",
        "print(x.inserted_id)\n"
      ],
      "metadata": {
        "id": "dqqQ5u-Lnq4-"
      },
      "execution_count": null,
      "outputs": []
    },
    {
      "cell_type": "code",
      "source": [],
      "metadata": {
        "id": "2AuEjDynnG7O"
      },
      "execution_count": null,
      "outputs": []
    },
    {
      "cell_type": "markdown",
      "source": [
        "**97. Write a Python program to update data in a MongoDB database.**\n",
        "\n",
        "**solution:-**\n",
        "\n"
      ],
      "metadata": {
        "id": "jCLH92MVnHBV"
      }
    },
    {
      "cell_type": "code",
      "source": [
        "import pymongo\n",
        "myclient = pymongo.MongoClient(\"mongodb://localhost:27017/\")\n",
        "mydb = myclient[\"mydatabase\"]\n",
        "mycol = mydb[\"customers\"]\n",
        "myquery = { \"address\": \"Highway 37\" }\n",
        "newvalues = { \"$set\": { \"address\": \"Park Lane 38\" } }\n",
        "mycol.update_many(myquery, newvalues)\n",
        "print(\"Documents updated:\", mycol.modified_count)\n"
      ],
      "metadata": {
        "id": "oo5wCcqynshN"
      },
      "execution_count": null,
      "outputs": []
    },
    {
      "cell_type": "code",
      "source": [],
      "metadata": {
        "id": "q5GVmjiynHHu"
      },
      "execution_count": null,
      "outputs": []
    },
    {
      "cell_type": "markdown",
      "source": [
        "**98. Write a Python program to handle MongoDB errors using exception\n",
        "handling.**\n",
        "\n",
        "**solution:-**\n",
        "\n"
      ],
      "metadata": {
        "id": "lKCJ-VvBnHNO"
      }
    },
    {
      "cell_type": "code",
      "source": [
        "import pymongo\n",
        "try:\n",
        "  myclient = pymongo.MongoClient(\"mongodb://localhost:27017/\")\n",
        "  mydb = myclient[\"mydatabase\"]\n",
        "  mycol = mydb[\"customers\"]\n",
        "except pymongo.errors.ConnectionFailure as err:\n",
        "  print(\"Could not connect to MongoDB: {}\".format(err))\n",
        "else:\n",
        "  mydict = { \"name\": \"John\", \"address\": \"Highway 37\" }\n",
        "  x = mycol.insert_one(mydict)\n",
        "  print(x.inserted_id)\n",
        "finally:\n",
        "  myclient.close()\n"
      ],
      "metadata": {
        "id": "CQPCaiBKnuWV"
      },
      "execution_count": null,
      "outputs": []
    },
    {
      "cell_type": "code",
      "source": [],
      "metadata": {
        "id": "4AIdAesxnQs2"
      },
      "execution_count": null,
      "outputs": []
    },
    {
      "cell_type": "markdown",
      "source": [
        "**99. Write a Python program to query a MongoDB database using\n",
        "aggregation.**\n",
        "\n",
        "**solution:-**\n",
        "\n"
      ],
      "metadata": {
        "id": "kfcQPTXKnQ1-"
      }
    },
    {
      "cell_type": "code",
      "source": [
        "import pymongo\n",
        "myclient = pymongo.MongoClient(\"mongodb://localhost:27017/\")\n",
        "mydb = myclient[\"mydatabase\"]\n",
        "mycol = mydb[\"customers\"]\n",
        "pipeline = [\n",
        "  { \"$match\": { \"address\": \"Highway 37\" } },\n",
        "  { \"$group\": { \"_id\": \"$name\", \"count\": { \"$sum\": 1 } } }\n",
        "]\n",
        "result = mycol.aggregate(pipeline)\n",
        "for x in result:\n",
        "  print(x)\n"
      ],
      "metadata": {
        "id": "xEsXwa-Wnv0M"
      },
      "execution_count": null,
      "outputs": []
    },
    {
      "cell_type": "code",
      "source": [],
      "metadata": {
        "id": "u0gl5HzEnTLA"
      },
      "execution_count": null,
      "outputs": []
    },
    {
      "cell_type": "markdown",
      "source": [
        "**100. Write a Python program to perform a text search on a MongoDB\n",
        "database.**\n",
        "\n",
        "**solution:-**\n"
      ],
      "metadata": {
        "id": "r80WStoJmMdv"
      }
    },
    {
      "cell_type": "code",
      "source": [
        "import pymongo\n",
        "myclient = pymongo.MongoClient(\"mongodb://localhost:27017/\")\n",
        "mydb = myclient[\"mydatabase\"]\n",
        "mycol = mydb[\"customers\"]\n",
        "myquery = { \"$text\": { \"$search\": \"apple\" } }\n",
        "mydoc = mycol.find(myquery)\n",
        "for x in mydoc:\n",
        "  print(x)"
      ],
      "metadata": {
        "id": "Ye2hdVg3nWdX"
      },
      "execution_count": null,
      "outputs": []
    },
    {
      "cell_type": "code",
      "source": [],
      "metadata": {
        "id": "5SrqV7mxoT8U"
      },
      "execution_count": null,
      "outputs": []
    },
    {
      "cell_type": "code",
      "source": [],
      "metadata": {
        "id": "B9O6188voT-9"
      },
      "execution_count": null,
      "outputs": []
    },
    {
      "cell_type": "markdown",
      "source": [
        "101.Create a Flask application that displays \"Hello, World!\" on the homepage."
      ],
      "metadata": {
        "id": "TtWzkLc1oUPg"
      }
    },
    {
      "cell_type": "code",
      "source": [
        "from flask import Flask\n",
        "app = Flask(_name_)\n",
        "@app.route(\"/\")\n",
        "def hello():\n",
        "    return \"Hello, World!\"\n",
        "if _name_ == \"_main_\":\n",
        "    app.run()\n"
      ],
      "metadata": {
        "id": "r8eOKYOeoXPc"
      },
      "execution_count": null,
      "outputs": []
    },
    {
      "cell_type": "code",
      "source": [],
      "metadata": {
        "id": "OiWqCiRMoYUV"
      },
      "execution_count": null,
      "outputs": []
    },
    {
      "cell_type": "markdown",
      "source": [
        "102. Write a Flask route that takes a name parameter and returns \"Hello, [name]!\" as plain text."
      ],
      "metadata": {
        "id": "cn1Ccd_koYaM"
      }
    },
    {
      "cell_type": "code",
      "source": [
        "from flask import Flask\n",
        "app = Flask(__name__)\n",
        "@app.route(\"/hello/<name>\")\n",
        "def hello(name):\n",
        "    return f\"Hello, {name}!\"\n",
        "if __name__ == \"__main__\":\n",
        "    app.run()\n"
      ],
      "metadata": {
        "id": "V-rrrJI4oabe"
      },
      "execution_count": null,
      "outputs": []
    },
    {
      "cell_type": "code",
      "source": [],
      "metadata": {
        "id": "LbI3s2w9oavs"
      },
      "execution_count": null,
      "outputs": []
    },
    {
      "cell_type": "markdown",
      "source": [
        "103.  Write a Flask route that takes a number parameter and returns the square of that number as plain text."
      ],
      "metadata": {
        "id": "57VksNkno3M-"
      }
    },
    {
      "cell_type": "code",
      "source": [
        "from flask import Flask\n",
        "app = Flask(__name__)\n",
        "@app.route(\"/square/<int:num>\")\n",
        "def square(num):\n",
        "    return str(num**2)\n",
        "if __name__ == \"__main__\":\n",
        "    app.run()\n"
      ],
      "metadata": {
        "id": "qfbRKktPocGf"
      },
      "execution_count": null,
      "outputs": []
    },
    {
      "cell_type": "code",
      "source": [],
      "metadata": {
        "id": "czOqd_NhodLt"
      },
      "execution_count": null,
      "outputs": []
    },
    {
      "cell_type": "markdown",
      "source": [
        "104.  Write a Flask route that displays a simple HTML form that asks for a name and returns \"Hello, [name]!\" when submitted."
      ],
      "metadata": {
        "id": "xxV6rzJWoeQ2"
      }
    },
    {
      "cell_type": "code",
      "source": [
        "from flask import Flask, request, render_template\n",
        "app = Flask(__name__)\n",
        "@app.route(\"/\", methods=[\"GET\", \"POST\"])\n",
        "def hello():\n",
        "    if request.method == \"POST\":\n",
        "        name = request.form[\"name\"]\n",
        "        return f\"Hello, {name}!\"\n",
        "    else:\n",
        "        return render_template(\"index.html\")\n",
        "if __name__ == \"__main__\":\n",
        "    app.run()\n",
        "\n",
        "''' The corresponding index.html file should contain the following:\n",
        "<!doctype html>\n",
        "<html>\n",
        "  <body>\n",
        "    <form method=\"POST\">\n",
        "      <label for=\"name\">Name:</label>\n",
        "      <input type=\"text\" id=\"name\" name=\"name\">\n",
        "      <input type=\"submit\" value=\"Submit\">\n",
        "    </form>\n",
        "  </body>\n",
        "</html>'''"
      ],
      "metadata": {
        "id": "1hMwGw6-oetG",
        "colab": {
          "base_uri": "https://localhost:8080/",
          "height": 143
        },
        "outputId": "74e8492d-efac-4154-d0f2-1ea4530eeac4"
      },
      "execution_count": null,
      "outputs": [
        {
          "output_type": "stream",
          "name": "stdout",
          "text": [
            " * Serving Flask app '__main__'\n",
            " * Debug mode: off\n"
          ]
        },
        {
          "output_type": "stream",
          "name": "stderr",
          "text": [
            "INFO:werkzeug:\u001b[31m\u001b[1mWARNING: This is a development server. Do not use it in a production deployment. Use a production WSGI server instead.\u001b[0m\n",
            " * Running on http://127.0.0.1:5000\n",
            "INFO:werkzeug:\u001b[33mPress CTRL+C to quit\u001b[0m\n"
          ]
        },
        {
          "output_type": "execute_result",
          "data": {
            "text/plain": [
              "' The corresponding index.html file should contain the following:\\n<!doctype html>\\n<html>\\n  <body>\\n    <form method=\"POST\">\\n      <label for=\"name\">Name:</label>\\n      <input type=\"text\" id=\"name\" name=\"name\">\\n      <input type=\"submit\" value=\"Submit\">\\n    </form>\\n  </body>\\n</html>'"
            ],
            "application/vnd.google.colaboratory.intrinsic+json": {
              "type": "string"
            }
          },
          "metadata": {},
          "execution_count": 2
        }
      ]
    },
    {
      "cell_type": "markdown",
      "source": [],
      "metadata": {
        "id": "YSO8JZ6GVifW"
      }
    },
    {
      "cell_type": "code",
      "source": [],
      "metadata": {
        "id": "XyfpUGIoogbu"
      },
      "execution_count": null,
      "outputs": []
    },
    {
      "cell_type": "markdown",
      "source": [
        "105.  Write a Flask route that displays a list of names in an HTML unordered list."
      ],
      "metadata": {
        "id": "wFSUT47MogiF"
      }
    },
    {
      "cell_type": "code",
      "source": [
        "from flask import Flask, render_template\n",
        "app = Flask(__name__)\n",
        "@app.route(\"/names\")\n",
        "def names():\n",
        "    names = [(\"Alice\", 25), (\"Bob\", 30), (\"Charlie\", 35)]\n",
        "    return render_template(\"names.html\", names=names)\n",
        "if __name__ == \"__main__\":\n",
        "    app.run()\n",
        "'''The corresponding names.html file should contain the following:\n",
        "<!doctype html>\n",
        "<html>\n",
        "  <body>\n",
        "    <table>\n",
        "      <thead>\n",
        "        <tr>\n",
        "          <th>Name</th>\n",
        "          <th>Age</th>\n",
        "        </tr>\n",
        "      </thead>\n",
        "      <tbody>\n",
        "        {% for name in names %}\n",
        "          <tr>\n",
        "            <td>{{ name[0] }}</td>\n",
        "            <td>{{ name[1] }}</td>\n",
        "          </tr>\n",
        "        {% endfor %}\n",
        "      </tbody>\n",
        "    </table>\n",
        "  </body>\n",
        "</html>'''\n"
      ],
      "metadata": {
        "id": "e4vNflnnohsU"
      },
      "execution_count": null,
      "outputs": []
    },
    {
      "cell_type": "code",
      "source": [],
      "metadata": {
        "id": "5ZmO8X51ojZc"
      },
      "execution_count": null,
      "outputs": []
    },
    {
      "cell_type": "markdown",
      "source": [
        "106.  Write a Flask route that displays a list of names in a table."
      ],
      "metadata": {
        "id": "SKJlIuUKojgG"
      }
    },
    {
      "cell_type": "code",
      "source": [
        "from flask import Flask, render_template\n",
        "app = Flask(__name__)\n",
        "@app.route(\"/names\")\n",
        "def names():\n",
        "    names = [\"Alice\", \"Bob\", \"Charlie\"]\n",
        "    return render_template(\"names.html\", names=names)\n",
        "if __name__ == \"__main__\":\n",
        "    app.run()\n",
        "''' The corresponding names.html file should contain the following:\n",
        "<!doctype html>\n",
        "<html>\n",
        "  <body>\n",
        "    <form method=\"POST\">\n",
        "      <label for=\"name\">Name:</label>\n",
        "      <select id=\"name\" name=\"name\">\n",
        "        {% for name in names %}\n",
        "          <option value=\"{{ name }}\">{{ name }}</option>\n",
        "        {% endfor %}\n",
        "      </select>\n",
        "      <input type=\"submit\" value=\"Submit\">\n",
        "    </form>\n",
        "  </body>\n",
        "</html>'''\n"
      ],
      "metadata": {
        "id": "Kcbdh-Wiok8V"
      },
      "execution_count": null,
      "outputs": []
    },
    {
      "cell_type": "code",
      "source": [],
      "metadata": {
        "id": "TblHyDcjonrP"
      },
      "execution_count": null,
      "outputs": []
    },
    {
      "cell_type": "markdown",
      "source": [
        "107.  Write a Flask route that displays a list of names in a dropdown menu."
      ],
      "metadata": {
        "id": "87tIC6Cson4s"
      }
    },
    {
      "cell_type": "code",
      "source": [
        "from flask import Flask, render_template\n",
        "app = Flask(__name__)\n",
        "@app.route(\"/names\")\n",
        "def names():\n",
        "    names = [\"Alice\", \"Bob\", \"Charlie\"]\n",
        "    return render_template(\"names.html\", names=names)\n",
        "if __name__ == \"__main__\":\n",
        "    app.run()\n",
        "''' The corresponding names.html file should contain the following:\n",
        "<!doctype html>\n",
        "<html>\n",
        "  <body>\n",
        "    <form method=\"POST\">\n",
        "      <label for=\"name\">Name:</label>\n",
        "      <select id=\"name\" name=\"name\">\n",
        "        {% for name in names %}\n",
        "          <option value=\"{{ name }}\">{{ name }}</option>\n",
        "        {% endfor %}\n",
        "      </select>\n",
        "      <input type=\"submit\" value=\"Submit\">\n",
        "    </form>\n",
        "  </body>\n",
        "</html>'''\n"
      ],
      "metadata": {
        "id": "dwmMujk1ooW0"
      },
      "execution_count": null,
      "outputs": []
    },
    {
      "cell_type": "code",
      "source": [],
      "metadata": {
        "id": "l3u5KV66ornM"
      },
      "execution_count": null,
      "outputs": []
    },
    {
      "cell_type": "markdown",
      "source": [
        "108.  Write a Flask route that receives data through a POST request and returns the data in JSON format."
      ],
      "metadata": {
        "id": "UKTYzY0yorvc"
      }
    },
    {
      "cell_type": "code",
      "source": [
        "from flask import Flask, request, jsonify\n",
        "app = Flask(__name__)\n",
        "@app.route(\"/data\", methods=[\"POST\"])\n",
        "def data():\n",
        "    data = request.get_json()\n",
        "    return jsonify(data)\n",
        "if __name__ == \"__main__\":\n",
        "    app.run()\n"
      ],
      "metadata": {
        "id": "qcALPft-otak"
      },
      "execution_count": null,
      "outputs": []
    },
    {
      "cell_type": "code",
      "source": [],
      "metadata": {
        "id": "cgfhak8Wot7m"
      },
      "execution_count": null,
      "outputs": []
    },
    {
      "cell_type": "markdown",
      "source": [
        "109.  Write a Flask route that receives data through a POST request and returns the data in JSON format."
      ],
      "metadata": {
        "id": "1bLpNjE6ou6F"
      }
    },
    {
      "cell_type": "code",
      "source": [
        "from flask import Flask, send_from_directory\n",
        "app = Flask(__name__)\n",
        "@app.route(\"/static/<path:filename>\")\n",
        "def static_file(filename):\n",
        "    return send_from_directory(\"static\", filename)\n",
        "if __name__ == \"__main__\":\n",
        "    app.run()\n"
      ],
      "metadata": {
        "id": "_UjchNwHov7d"
      },
      "execution_count": null,
      "outputs": []
    },
    {
      "cell_type": "code",
      "source": [],
      "metadata": {
        "id": "-nWcc2dKowQ-"
      },
      "execution_count": null,
      "outputs": []
    },
    {
      "cell_type": "markdown",
      "source": [
        "110.  Write a Flask route that redirects the user to a different URL."
      ],
      "metadata": {
        "id": "DeJsGqLqoxl0"
      }
    },
    {
      "cell_type": "code",
      "source": [
        "from flask import Flask, redirect\n",
        "app = Flask(__name__)\n",
        "@app.route(\"/\")\n",
        "def index():\n",
        "    return redirect(\"/hello\")\n",
        "@app.route(\"/hello\")\n",
        "def hello():\n",
        "    return \"Hello, World!\"\n",
        "if __name__ == \"__main__\":\n",
        "    app.run()\n"
      ],
      "metadata": {
        "id": "6Mt-3Borox-N"
      },
      "execution_count": null,
      "outputs": []
    },
    {
      "cell_type": "code",
      "source": [],
      "metadata": {
        "id": "QJTdBk31ozKZ"
      },
      "execution_count": null,
      "outputs": []
    }
  ],
  "metadata": {
    "colab": {
      "provenance": []
    },
    "kernelspec": {
      "display_name": "Python 3",
      "name": "python3"
    },
    "language_info": {
      "name": "python"
    }
  },
  "nbformat": 4,
  "nbformat_minor": 0
}