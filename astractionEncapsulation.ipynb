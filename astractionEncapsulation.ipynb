{
 "cells": [
  {
   "cell_type": "markdown",
   "id": "ee9864df-73a9-44d2-9a21-9c2b65bf9e80",
   "metadata": {},
   "source": [
    "Q1. What is Abstraction in OOps? Explain with an example."
   ]
  },
  {
   "cell_type": "markdown",
   "id": "32362eec-34ee-4f67-a248-3b5c5733c89a",
   "metadata": {},
   "source": [
    "Abstraction is a key concept in object-oriented programming (OOP). It involves hiding an object's implementation details and only showing the user the information that is absolutely necessary. This makes it simpler to read and maintain the code."
   ]
  },
  {
   "cell_type": "code",
   "execution_count": 19,
   "id": "4dbc5743-cf2e-440a-aad6-53b9e6bcd252",
   "metadata": {},
   "outputs": [
    {
     "name": "stdout",
     "output_type": "stream",
     "text": [
      "The car is driving.\n",
      "speed is 70KMPH\n",
      "The car has stopped.\n"
     ]
    }
   ],
   "source": [
    "from abc import ABC\n",
    "class Vehicle(ABC):\n",
    "    def speed(self):\n",
    "        pass\n",
    "    \n",
    "class Car(Vehicle):\n",
    "    def __init__(self, make, model, year):\n",
    "        self.make = make\n",
    "        self.model = model\n",
    "        self.year = year\n",
    "        \n",
    "    def speed(self):\n",
    "        print(\"speed is 70KMPH\")\n",
    "\n",
    "    def drive(self):\n",
    "        print(f\"The car is driving.\")\n",
    "\n",
    "    def stop(self):\n",
    "        print(\"The car has stopped.\")\n",
    "\n",
    "car = Car(\"Toyota\", \"Camry\", 2020)\n",
    "car.drive()\n",
    "car.speed()\n",
    "car.stop()"
   ]
  },
  {
   "cell_type": "markdown",
   "id": "22a9ccc0-fcf7-4ce3-824f-daa9a8c7487a",
   "metadata": {},
   "source": [
    "Q2. Differentiate between Abstraction and Encapsulation. Explain with an example."
   ]
  },
  {
   "cell_type": "markdown",
   "id": "79a2fb5c-18e7-46f1-95a8-4a4fa0f0446f",
   "metadata": {},
   "source": [
    "Encapsulation and abstraction are two fundamental concepts in object-oriented programming (OOP). As a result, they play an essential role in the design and structure of classes and objects.\n",
    "\n",
    "Encapsulation:\n",
    "\n",
    "Encapsulation is the concept of bundling data (attributes) and methods (functions) that operate on that data into a single unit, known as a class. Direct access to some components of an object is restricted while controlled access is provided through methods. Objects should be designed to hide the internal implementation details and expose only what is needed to interact with them from the outside.\n",
    "\n",
    "In Python, encapsulation is achieved by using access modifiers like private ('__') and protected ('_') to control the visibility of attributes and methods. However, Python enforces access control through convention rather than strict enforcement.\n",
    "\n",
    "Abstraction:\n",
    "\n",
    "Abstraction, on the other hand, is the process of simplifying complex reality by modeling classes based on essential properties and behaviors. It allows you to represent essential features of an object while hiding unnecessary details. It helps manage complexity by separating what an object does (methods) from how it achieves it (implementation details).\n",
    "\n",
    "In Python, abstraction is often achieved through the use of abstract base classes (ABCs). ABCs define a common interface that subclasses are expected to implement. This allows you to specify what methods must be present in a class without providing a complete implementation."
   ]
  },
  {
   "cell_type": "code",
   "execution_count": 25,
   "id": "0baa7753-012c-492a-af95-882f62a5773a",
   "metadata": {},
   "outputs": [
    {
     "name": "stdout",
     "output_type": "stream",
     "text": [
      "The car is driving.\n",
      "speed is 70KMPH\n",
      "The car has stopped.\n"
     ]
    }
   ],
   "source": [
    "from abc import ABC\n",
    "\n",
    "# abstract class\n",
    "class Vehicle1(ABC):\n",
    "    def speed1(self):\n",
    "        pass\n",
    "    \n",
    "class Car1(Vehicle):\n",
    "    def __init__(self, make, model, year):\n",
    "        self.__make = make #encapsulation\n",
    "        self.__model = model\n",
    "        self.__year = year\n",
    "        \n",
    "    def speed1(self):\n",
    "        print(\"speed is 70KMPH\")\n",
    "\n",
    "    def drive1(self):\n",
    "        print(f\"The car is driving.\")\n",
    "\n",
    "    def stop1(self):\n",
    "        print(\"The car has stopped.\")\n",
    "\n",
    "car = Car1(\"Toyota\", \"Camry\", 2020)\n",
    "car.drive1()\n",
    "car.speed1()\n",
    "car.stop1()"
   ]
  },
  {
   "cell_type": "markdown",
   "id": "de8f73a3-cf70-430e-906a-5470fbe252d1",
   "metadata": {},
   "source": [
    "Q3. What is abc module in python? Why is it used?"
   ]
  },
  {
   "cell_type": "markdown",
   "id": "a85b7145-d167-4484-a6c3-18c437a29f22",
   "metadata": {},
   "source": [
    "The abc module in Python provides the infrastructure for defining custom abstract base classes (ABCs). An ABC is a class that defines a set of abstract methods that must be implemented by its subclasses. ABCs are used to define common functionality that can be shared by multiple classes, and to ensure that all subclasses implement a certain set of methods.\n",
    "\n",
    "One common use of ABCs is to define interfaces. An interface is a set of methods that a class must implement in order to be considered a certain type of object. For example, you could define an interface for a drawable object that specifies the methods draw() and move(). Any class that implements these methods can be considered a drawable object."
   ]
  },
  {
   "cell_type": "markdown",
   "id": "484d5f27-b3e3-4a67-a041-1ed28da7d2b8",
   "metadata": {},
   "source": [
    "Q4. How can we achieve data abstraction?"
   ]
  },
  {
   "cell_type": "markdown",
   "id": "dc90d2ac-3a85-43a5-bb60-648d9f73e17d",
   "metadata": {},
   "source": [
    "Abstraction, on the other hand, is the process of simplifying complex reality by modeling classes based on essential properties and behaviors. It allows you to represent essential features of an object while hiding unnecessary details. It helps manage complexity by separating what an object does (methods) from how it achieves it (implementation details).\n",
    "\n",
    "In Python, abstraction is often achieved through the use of abstract base classes (ABCs). ABCs define a common interface that subclasses are expected to implement. This allows you to specify what methods must be present in a class without providing a complete implementation."
   ]
  },
  {
   "cell_type": "markdown",
   "id": "846aa3b4-d61b-4e53-8f54-d4d201333bc2",
   "metadata": {},
   "source": [
    "Q5. Can we create an instance of an abstract class? Explain your answer."
   ]
  },
  {
   "cell_type": "markdown",
   "id": "e9085e90-c25c-410e-b337-9a3a5fefac24",
   "metadata": {},
   "source": [
    "No, we cannot create an instance of an abstract class in Python. An abstract class is a blueprint for other classes, and it cannot be instantiated directly. If we try to instantiate an abstract class, it raises a TypeError.\n",
    "\n",
    "The reason for this is that abstract classes are meant to be incomplete. They may have some methods that are not defined, and they may have abstract methods that must be implemented by subclasses. If we could instantiate an abstract class, we would be able to create an object that is not fully implemented, which would be confusing and error-prone.\n",
    "\n",
    "Here is an example of an abstract class in Python:"
   ]
  },
  {
   "cell_type": "code",
   "execution_count": 26,
   "id": "bd1233ad-256e-42f6-a918-097de987a415",
   "metadata": {},
   "outputs": [
    {
     "ename": "TypeError",
     "evalue": "Can't instantiate abstract class Animal with abstract method speak",
     "output_type": "error",
     "traceback": [
      "\u001b[0;31m---------------------------------------------------------------------------\u001b[0m",
      "\u001b[0;31mTypeError\u001b[0m                                 Traceback (most recent call last)",
      "Cell \u001b[0;32mIn[26], line 17\u001b[0m\n\u001b[1;32m     14\u001b[0m         \u001b[38;5;28mprint\u001b[39m(\u001b[38;5;124m\"\u001b[39m\u001b[38;5;124mMeow!\u001b[39m\u001b[38;5;124m\"\u001b[39m)\n\u001b[1;32m     16\u001b[0m \u001b[38;5;66;03m# This will raise a TypeError\u001b[39;00m\n\u001b[0;32m---> 17\u001b[0m animal \u001b[38;5;241m=\u001b[39m \u001b[43mAnimal\u001b[49m\u001b[43m(\u001b[49m\u001b[43m)\u001b[49m\n",
      "\u001b[0;31mTypeError\u001b[0m: Can't instantiate abstract class Animal with abstract method speak"
     ]
    }
   ],
   "source": [
    "from abc import ABC, abstractmethod\n",
    "\n",
    "class Animal(ABC):\n",
    "    @abstractmethod\n",
    "    def speak(self):\n",
    "        pass\n",
    "\n",
    "class Dog(Animal):\n",
    "    def speak(self):\n",
    "        print(\"Woof!\")\n",
    "\n",
    "class Cat(Animal):\n",
    "    def speak(self):\n",
    "        print(\"Meow!\")\n",
    "\n",
    "# This will raise a TypeError\n",
    "animal = Animal()"
   ]
  },
  {
   "cell_type": "code",
   "execution_count": null,
   "id": "2288746c-7ccc-48f9-99cb-4093ee36dc26",
   "metadata": {},
   "outputs": [],
   "source": []
  }
 ],
 "metadata": {
  "kernelspec": {
   "display_name": "Python 3 (ipykernel)",
   "language": "python",
   "name": "python3"
  },
  "language_info": {
   "codemirror_mode": {
    "name": "ipython",
    "version": 3
   },
   "file_extension": ".py",
   "mimetype": "text/x-python",
   "name": "python",
   "nbconvert_exporter": "python",
   "pygments_lexer": "ipython3",
   "version": "3.10.8"
  }
 },
 "nbformat": 4,
 "nbformat_minor": 5
}
