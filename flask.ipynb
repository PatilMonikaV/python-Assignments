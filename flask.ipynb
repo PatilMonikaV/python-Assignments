{
 "cells": [
  {
   "cell_type": "markdown",
   "id": "3fe9d4cf-364e-497a-9c2d-3bdf1ee9f160",
   "metadata": {},
   "source": [
    "# Q1. What is Flask Framework? What are the advantages of Flask Framework?"
   ]
  },
  {
   "cell_type": "markdown",
   "id": "05b56c88-61ac-428b-8cec-03e05f735903",
   "metadata": {},
   "source": [
    "Flask is a lightweight Python web framework that provides tools and features for creating web applications. It's considered a microframework because it doesn't require specific tools or libraries. \n",
    "Here are some advantages of Flask:   \n",
    "Flexible    \n",
    "Flask gives developers flexibility and is accessible for new developers. It's suitable for small projects and offers a built-in development server and fast debugger.   \n",
    "Scalable    \n",
    "Flask's status as a microframework means it can be used to quickly grow a tech project.   \n",
    "Documentation     \n",
    "Flask has documentation.    \n",
    "Built-in functionality    \n",
    "Flask has a lot of built-in functionality, such as support for templates, session management, and user authentication.    \n",
    "Well-suited for building REST APIs    \n",
    "Flask's flexibility and simplicity make it well-suited for building REST APIs.    "
   ]
  },
  {
   "cell_type": "markdown",
   "id": "9a9907b3-85c7-4c80-88de-fb924c047980",
   "metadata": {},
   "source": [
    "# Q2. Create a simple Flask application to display ‘Hello World!!’. Attach the screenshot of the output in Jupyter Notebook."
   ]
  },
  {
   "cell_type": "markdown",
   "id": "821d8c88-c9cc-49c1-a68a-bcca83afb81e",
   "metadata": {},
   "source": [
    "![image.png](attachment:6ed826e8-6abe-4ba5-8673-b577e4a43ece.png)"
   ]
  },
  {
   "cell_type": "markdown",
   "id": "6bbe4554-30f6-438f-b3f3-4360386babcc",
   "metadata": {},
   "source": [
    "# Q3. What is App routing in Flask? Why do we use app routes?"
   ]
  },
  {
   "cell_type": "markdown",
   "id": "42dd4494-e882-482f-8f4b-f2804b95ecc1",
   "metadata": {},
   "source": [
    "App routing in Flask is the process of mapping URLs to specific functions. This allows us to define different pages in our application and control how users navigate between them.     \n",
    "There are a few reasons why we might want to use app routes:     \n",
    "To organize our code: By mapping URLs to specific functions, we can keep our code more organized and easier to maintain.          \n",
    "To improve user experience: By using meaningful URLs, we can make it easier for users to remember how to navigate our application.      \n",
    "To implement security measures: We can use app routes to control which users have access to which pages in our application.       \n",
    "There are a few different ways to implement app routes in Flask. The most common way is to use the @app.route() decorator. This decorator takes a URL as its argument and maps it to the function that will be called when that URL is requested.    "
   ]
  },
  {
   "cell_type": "markdown",
   "id": "87ee5bf6-7973-4a8b-9c02-d3b34f6a1a57",
   "metadata": {},
   "source": [
    "Q4. Create a “/welcome” route to display the welcome message “Welcome to ABC Corporation” and a “/”\n",
    "route to show the following details:\n",
    "Company Name: ABC Corporation\n",
    "Location: India\n",
    "Contact Detail: 999-999-9999"
   ]
  },
  {
   "cell_type": "markdown",
   "id": "b19cbc87-f4d6-4092-8a3c-f0e10c68942b",
   "metadata": {},
   "source": [
    "from flask import Flask    \n",
    "\n",
    "app = Flask(__name__)   \n",
    "\n",
    "@app.route(\"/\")       \n",
    "def hello_world():   \n",
    "    return \"Company Name: ABC Corporation,  Location: India,  Contact Detail: 999-999-9999\"\n",
    "\n",
    "@app.route(\"/welcome\")    \n",
    "def hello_world1():    \n",
    "    return \"Welcome to ABC corporation\"    \n",
    "\n",
    "if __name__==\"__main__\":   \n",
    "    app.run(host=\"0.0.0.0\")    \n"
   ]
  },
  {
   "cell_type": "markdown",
   "id": "3252e157-bb92-41b0-b626-ef3fe09907ba",
   "metadata": {},
   "source": [
    "# Q5. What function is used in Flask for URL Building? Write a Python code to demonstrate the working of the url_for() function."
   ]
  },
  {
   "cell_type": "markdown",
   "id": "3046f74f-3741-43f1-8fca-e70a31b6feb2",
   "metadata": {},
   "source": [
    "The url_for() function is used in Flask for URL Building. It is a built-in function that allows you to generate URLs dynamically for different routes or views in your Flask application.     \n",
    "The syntax of the url_for() function is as follows:    \n",
    "url_for(endpoint, **values)    \n",
    "\n",
    "where:\n",
    "endpoint: is the name of the function that you want to generate a URL for.      \n",
    "values: is a dictionary of keyword arguments that you want to pass to the function.     "
   ]
  },
  {
   "cell_type": "code",
   "execution_count": 5,
   "id": "70365b1d-ca15-4bfe-a6d5-40e7b6b04d6e",
   "metadata": {},
   "outputs": [
    {
     "name": "stdout",
     "output_type": "stream",
     "text": [
      "Collecting flask\n",
      "  Downloading flask-3.0.0-py3-none-any.whl (99 kB)\n",
      "\u001b[2K     \u001b[90m━━━━━━━━━━━━━━━━━━━━━━━━━━━━━━━━━━━━━━━━\u001b[0m \u001b[32m99.7/99.7 kB\u001b[0m \u001b[31m12.2 MB/s\u001b[0m eta \u001b[36m0:00:00\u001b[0m\n",
      "\u001b[?25hCollecting blinker>=1.6.2\n",
      "  Downloading blinker-1.7.0-py3-none-any.whl (13 kB)\n",
      "Requirement already satisfied: Jinja2>=3.1.2 in /opt/conda/lib/python3.10/site-packages (from flask) (3.1.2)\n",
      "Collecting itsdangerous>=2.1.2\n",
      "  Downloading itsdangerous-2.1.2-py3-none-any.whl (15 kB)\n",
      "Collecting Werkzeug>=3.0.0\n",
      "  Downloading werkzeug-3.0.1-py3-none-any.whl (226 kB)\n",
      "\u001b[2K     \u001b[90m━━━━━━━━━━━━━━━━━━━━━━━━━━━━━━━━━━━━━━\u001b[0m \u001b[32m226.7/226.7 kB\u001b[0m \u001b[31m28.7 MB/s\u001b[0m eta \u001b[36m0:00:00\u001b[0m\n",
      "\u001b[?25hRequirement already satisfied: click>=8.1.3 in /opt/conda/lib/python3.10/site-packages (from flask) (8.1.3)\n",
      "Requirement already satisfied: MarkupSafe>=2.0 in /opt/conda/lib/python3.10/site-packages (from Jinja2>=3.1.2->flask) (2.1.1)\n",
      "Installing collected packages: Werkzeug, itsdangerous, blinker, flask\n",
      "  Attempting uninstall: blinker\n",
      "    Found existing installation: blinker 1.5\n",
      "    Uninstalling blinker-1.5:\n",
      "      Successfully uninstalled blinker-1.5\n",
      "Successfully installed Werkzeug-3.0.1 blinker-1.7.0 flask-3.0.0 itsdangerous-2.1.2\n",
      "Note: you may need to restart the kernel to use updated packages.\n"
     ]
    }
   ],
   "source": [
    "pip install flask"
   ]
  },
  {
   "cell_type": "code",
   "execution_count": 6,
   "id": "fceeec76-46e1-4d60-ae04-d994cc9be791",
   "metadata": {},
   "outputs": [
    {
     "ename": "RuntimeError",
     "evalue": "Working outside of application context.\n\nThis typically means that you attempted to use functionality that needed\nthe current application. To solve this, set up an application context\nwith app.app_context(). See the documentation for more information.",
     "output_type": "error",
     "traceback": [
      "\u001b[0;31m---------------------------------------------------------------------------\u001b[0m",
      "\u001b[0;31mRuntimeError\u001b[0m                              Traceback (most recent call last)",
      "Cell \u001b[0;32mIn[6], line 14\u001b[0m\n\u001b[1;32m     11\u001b[0m     \u001b[38;5;28;01mreturn\u001b[39;00m \u001b[38;5;124mf\u001b[39m\u001b[38;5;124m\"\u001b[39m\u001b[38;5;124mHello, \u001b[39m\u001b[38;5;132;01m{\u001b[39;00mname\u001b[38;5;132;01m}\u001b[39;00m\u001b[38;5;124m!\u001b[39m\u001b[38;5;124m\"\u001b[39m\n\u001b[1;32m     13\u001b[0m \u001b[38;5;28;01mif\u001b[39;00m \u001b[38;5;18m__name__\u001b[39m \u001b[38;5;241m==\u001b[39m \u001b[38;5;124m\"\u001b[39m\u001b[38;5;124m__main__\u001b[39m\u001b[38;5;124m\"\u001b[39m:\n\u001b[0;32m---> 14\u001b[0m     \u001b[38;5;28mprint\u001b[39m(\u001b[43murl_for\u001b[49m\u001b[43m(\u001b[49m\u001b[38;5;124;43m\"\u001b[39;49m\u001b[38;5;124;43mhello_world\u001b[39;49m\u001b[38;5;124;43m\"\u001b[39;49m\u001b[43m)\u001b[49m)\n\u001b[1;32m     15\u001b[0m     \u001b[38;5;28mprint\u001b[39m(url_for(\u001b[38;5;124m\"\u001b[39m\u001b[38;5;124mhello_user\u001b[39m\u001b[38;5;124m\"\u001b[39m, name\u001b[38;5;241m=\u001b[39m\u001b[38;5;124m\"\u001b[39m\u001b[38;5;124mJohn\u001b[39m\u001b[38;5;124m\"\u001b[39m))\n",
      "File \u001b[0;32m/opt/conda/lib/python3.10/site-packages/flask/helpers.py:222\u001b[0m, in \u001b[0;36murl_for\u001b[0;34m(endpoint, _anchor, _method, _scheme, _external, **values)\u001b[0m\n\u001b[1;32m    178\u001b[0m \u001b[38;5;28;01mdef\u001b[39;00m \u001b[38;5;21murl_for\u001b[39m(\n\u001b[1;32m    179\u001b[0m     endpoint: \u001b[38;5;28mstr\u001b[39m,\n\u001b[1;32m    180\u001b[0m     \u001b[38;5;241m*\u001b[39m,\n\u001b[0;32m   (...)\u001b[0m\n\u001b[1;32m    185\u001b[0m     \u001b[38;5;241m*\u001b[39m\u001b[38;5;241m*\u001b[39mvalues: t\u001b[38;5;241m.\u001b[39mAny,\n\u001b[1;32m    186\u001b[0m ) \u001b[38;5;241m-\u001b[39m\u001b[38;5;241m>\u001b[39m \u001b[38;5;28mstr\u001b[39m:\n\u001b[1;32m    187\u001b[0m     \u001b[38;5;124;03m\"\"\"Generate a URL to the given endpoint with the given values.\u001b[39;00m\n\u001b[1;32m    188\u001b[0m \n\u001b[1;32m    189\u001b[0m \u001b[38;5;124;03m    This requires an active request or application context, and calls\u001b[39;00m\n\u001b[0;32m   (...)\u001b[0m\n\u001b[1;32m    220\u001b[0m \u001b[38;5;124;03m       Calls ``app.handle_url_build_error`` on build errors.\u001b[39;00m\n\u001b[1;32m    221\u001b[0m \u001b[38;5;124;03m    \"\"\"\u001b[39;00m\n\u001b[0;32m--> 222\u001b[0m     \u001b[38;5;28;01mreturn\u001b[39;00m \u001b[43mcurrent_app\u001b[49m\u001b[38;5;241;43m.\u001b[39;49m\u001b[43murl_for\u001b[49m(\n\u001b[1;32m    223\u001b[0m         endpoint,\n\u001b[1;32m    224\u001b[0m         _anchor\u001b[38;5;241m=\u001b[39m_anchor,\n\u001b[1;32m    225\u001b[0m         _method\u001b[38;5;241m=\u001b[39m_method,\n\u001b[1;32m    226\u001b[0m         _scheme\u001b[38;5;241m=\u001b[39m_scheme,\n\u001b[1;32m    227\u001b[0m         _external\u001b[38;5;241m=\u001b[39m_external,\n\u001b[1;32m    228\u001b[0m         \u001b[38;5;241m*\u001b[39m\u001b[38;5;241m*\u001b[39mvalues,\n\u001b[1;32m    229\u001b[0m     )\n",
      "File \u001b[0;32m/opt/conda/lib/python3.10/site-packages/werkzeug/local.py:311\u001b[0m, in \u001b[0;36m_ProxyLookup.__get__\u001b[0;34m(self, instance, owner)\u001b[0m\n\u001b[1;32m    308\u001b[0m     \u001b[38;5;28;01mreturn\u001b[39;00m \u001b[38;5;28mself\u001b[39m\n\u001b[1;32m    310\u001b[0m \u001b[38;5;28;01mtry\u001b[39;00m:\n\u001b[0;32m--> 311\u001b[0m     obj \u001b[38;5;241m=\u001b[39m \u001b[43minstance\u001b[49m\u001b[38;5;241;43m.\u001b[39;49m\u001b[43m_get_current_object\u001b[49m\u001b[43m(\u001b[49m\u001b[43m)\u001b[49m\n\u001b[1;32m    312\u001b[0m \u001b[38;5;28;01mexcept\u001b[39;00m \u001b[38;5;167;01mRuntimeError\u001b[39;00m:\n\u001b[1;32m    313\u001b[0m     \u001b[38;5;28;01mif\u001b[39;00m \u001b[38;5;28mself\u001b[39m\u001b[38;5;241m.\u001b[39mfallback \u001b[38;5;129;01mis\u001b[39;00m \u001b[38;5;28;01mNone\u001b[39;00m:\n",
      "File \u001b[0;32m/opt/conda/lib/python3.10/site-packages/werkzeug/local.py:508\u001b[0m, in \u001b[0;36mLocalProxy.__init__.<locals>._get_current_object\u001b[0;34m()\u001b[0m\n\u001b[1;32m    506\u001b[0m     obj \u001b[38;5;241m=\u001b[39m local\u001b[38;5;241m.\u001b[39mget()\n\u001b[1;32m    507\u001b[0m \u001b[38;5;28;01mexcept\u001b[39;00m \u001b[38;5;167;01mLookupError\u001b[39;00m:\n\u001b[0;32m--> 508\u001b[0m     \u001b[38;5;28;01mraise\u001b[39;00m \u001b[38;5;167;01mRuntimeError\u001b[39;00m(unbound_message) \u001b[38;5;28;01mfrom\u001b[39;00m \u001b[38;5;28mNone\u001b[39m\n\u001b[1;32m    510\u001b[0m \u001b[38;5;28;01mreturn\u001b[39;00m get_name(obj)\n",
      "\u001b[0;31mRuntimeError\u001b[0m: Working outside of application context.\n\nThis typically means that you attempted to use functionality that needed\nthe current application. To solve this, set up an application context\nwith app.app_context(). See the documentation for more information."
     ]
    }
   ],
   "source": [
    "from flask import Flask, url_for\n",
    "\n",
    "app = Flask(__name__)\n",
    "\n",
    "@app.route(\"/\")\n",
    "def hello_world():\n",
    "    return \"Hello, World!\"\n",
    "\n",
    "@app.route(\"/hello/<name>\")\n",
    "def hello_user(name):\n",
    "    return f\"Hello, {name}!\"\n",
    "\n",
    "if __name__ == \"__main__\":\n",
    "    print(url_for(\"hello_world\"))\n",
    "    print(url_for(\"hello_user\", name=\"John\"))"
   ]
  },
  {
   "cell_type": "code",
   "execution_count": null,
   "id": "4086e77a-aa84-43ea-9f53-e3f4b5f1d4fa",
   "metadata": {},
   "outputs": [],
   "source": []
  }
 ],
 "metadata": {
  "kernelspec": {
   "display_name": "Python 3 (ipykernel)",
   "language": "python",
   "name": "python3"
  },
  "language_info": {
   "codemirror_mode": {
    "name": "ipython",
    "version": 3
   },
   "file_extension": ".py",
   "mimetype": "text/x-python",
   "name": "python",
   "nbconvert_exporter": "python",
   "pygments_lexer": "ipython3",
   "version": "3.10.8"
  }
 },
 "nbformat": 4,
 "nbformat_minor": 5
}
