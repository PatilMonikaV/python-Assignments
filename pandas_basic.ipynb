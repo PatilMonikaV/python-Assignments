{
 "cells": [
  {
   "cell_type": "code",
   "execution_count": 1,
   "id": "b70ab428-cb1e-4f99-98fb-d3541fa699a8",
   "metadata": {},
   "outputs": [],
   "source": [
    "import pandas as pd"
   ]
  },
  {
   "cell_type": "markdown",
   "id": "f4dd1274-6305-417f-8844-e9db90a2995b",
   "metadata": {},
   "source": [
    "# Q1. Create a Pandas Series that contains the following data: 4, 8, 15, 16, 23, and 42. Then, print the series."
   ]
  },
  {
   "cell_type": "code",
   "execution_count": 5,
   "id": "bc1eff86-8e96-4087-bc8f-598f5bc29954",
   "metadata": {},
   "outputs": [],
   "source": [
    "x = pd.Series([4, 8 ,15, 16, 23, 42])"
   ]
  },
  {
   "cell_type": "code",
   "execution_count": 6,
   "id": "b8259380-3e91-49c9-9eb3-7dac60f872f9",
   "metadata": {},
   "outputs": [
    {
     "data": {
      "text/plain": [
       "0     4\n",
       "1     8\n",
       "2    15\n",
       "3    16\n",
       "4    23\n",
       "5    42\n",
       "dtype: int64"
      ]
     },
     "execution_count": 6,
     "metadata": {},
     "output_type": "execute_result"
    }
   ],
   "source": [
    "x"
   ]
  },
  {
   "cell_type": "code",
   "execution_count": 7,
   "id": "4a39104c-d672-4093-ad60-c90f6c8d71e7",
   "metadata": {},
   "outputs": [
    {
     "data": {
      "text/plain": [
       "pandas.core.series.Series"
      ]
     },
     "execution_count": 7,
     "metadata": {},
     "output_type": "execute_result"
    }
   ],
   "source": [
    "type(x)"
   ]
  },
  {
   "cell_type": "markdown",
   "id": "449cacfa-8b31-43ba-899e-5ad75f65483f",
   "metadata": {},
   "source": [
    "# Q2. Create a variable of list type containing 10 elements in it, and apply pandas.Series function on the variable print it."
   ]
  },
  {
   "cell_type": "code",
   "execution_count": 8,
   "id": "745d786c-652d-4ef5-a8a1-f8f3422fd78b",
   "metadata": {},
   "outputs": [],
   "source": [
    "list1 = [1, 2, 3, 4, 5, 6, 7, 8, 9, 10]\n",
    "series = pd.Series(list1)"
   ]
  },
  {
   "cell_type": "code",
   "execution_count": 9,
   "id": "1aa41a2c-7bbb-4362-8d4b-a112ee0249ba",
   "metadata": {},
   "outputs": [
    {
     "data": {
      "text/plain": [
       "0     1\n",
       "1     2\n",
       "2     3\n",
       "3     4\n",
       "4     5\n",
       "5     6\n",
       "6     7\n",
       "7     8\n",
       "8     9\n",
       "9    10\n",
       "dtype: int64"
      ]
     },
     "execution_count": 9,
     "metadata": {},
     "output_type": "execute_result"
    }
   ],
   "source": [
    "series"
   ]
  },
  {
   "cell_type": "markdown",
   "id": "96e5861a-cbdf-4c11-8461-eb8e744aad2b",
   "metadata": {},
   "source": [
    "# Q3. Create a Pandas DataFrame that contains the following data:"
   ]
  },
  {
   "cell_type": "markdown",
   "id": "78ea39fa-330a-4aae-9f57-2c0ed9242f58",
   "metadata": {},
   "source": [
    "Name :\n",
    "Alice\n",
    "Bob\n",
    "Claire\n",
    "\n",
    "Age: \n",
    "25\n",
    "30\n",
    "27\n",
    "\n",
    "Gender: \n",
    "Female\n",
    "Male\n",
    "Female"
   ]
  },
  {
   "cell_type": "code",
   "execution_count": 10,
   "id": "f2c1cfe9-6b09-4b78-ad32-1a8cc0485f12",
   "metadata": {},
   "outputs": [],
   "source": [
    "data = {'Name': ['Alice', 'Bob', 'Claire'],\n",
    "        'Age': [25, 30, 27],\n",
    "        'Gender': ['Female', 'Male', 'Female']}\n",
    "\n",
    "df = pd.DataFrame(data)"
   ]
  },
  {
   "cell_type": "code",
   "execution_count": 11,
   "id": "8b43ede2-af1e-429b-9ed7-c614ed93bc6a",
   "metadata": {},
   "outputs": [
    {
     "data": {
      "text/html": [
       "<div>\n",
       "<style scoped>\n",
       "    .dataframe tbody tr th:only-of-type {\n",
       "        vertical-align: middle;\n",
       "    }\n",
       "\n",
       "    .dataframe tbody tr th {\n",
       "        vertical-align: top;\n",
       "    }\n",
       "\n",
       "    .dataframe thead th {\n",
       "        text-align: right;\n",
       "    }\n",
       "</style>\n",
       "<table border=\"1\" class=\"dataframe\">\n",
       "  <thead>\n",
       "    <tr style=\"text-align: right;\">\n",
       "      <th></th>\n",
       "      <th>Name</th>\n",
       "      <th>Age</th>\n",
       "      <th>Gender</th>\n",
       "    </tr>\n",
       "  </thead>\n",
       "  <tbody>\n",
       "    <tr>\n",
       "      <th>0</th>\n",
       "      <td>Alice</td>\n",
       "      <td>25</td>\n",
       "      <td>Female</td>\n",
       "    </tr>\n",
       "    <tr>\n",
       "      <th>1</th>\n",
       "      <td>Bob</td>\n",
       "      <td>30</td>\n",
       "      <td>Male</td>\n",
       "    </tr>\n",
       "    <tr>\n",
       "      <th>2</th>\n",
       "      <td>Claire</td>\n",
       "      <td>27</td>\n",
       "      <td>Female</td>\n",
       "    </tr>\n",
       "  </tbody>\n",
       "</table>\n",
       "</div>"
      ],
      "text/plain": [
       "     Name  Age  Gender\n",
       "0   Alice   25  Female\n",
       "1     Bob   30    Male\n",
       "2  Claire   27  Female"
      ]
     },
     "execution_count": 11,
     "metadata": {},
     "output_type": "execute_result"
    }
   ],
   "source": [
    "df"
   ]
  },
  {
   "cell_type": "markdown",
   "id": "fa0b8c99-801a-4f1e-82a2-fd9cf6f9d72d",
   "metadata": {},
   "source": [
    "# Q4. What is ‘DataFrame’ in pandas and how is it different from pandas.series? Explain with an example."
   ]
  },
  {
   "cell_type": "markdown",
   "id": "59bd66ca-9605-4c62-9a86-8adc24c57f51",
   "metadata": {},
   "source": [
    "A DataFrame is a two-dimensional labeled data structure with columns of potentially different types. It is similar to a spreadsheet or a SQL table, and can be used to store and manipulate data in a variety of ways.     \n",
    "A Series is a one-dimensional labeled array, ideal for single-dimensional data. It is similar to a column of data in a DataFrame, and can be used to store and manipulate data in a variety of ways.     \n",
    "The main difference between DataFrames and Series is that DataFrames can store multiple columns of data, while Series can only store one column of data. Additionally, DataFrames can have columns of different types, while Series can only have columns of the same type.     \n",
    "Here is an example of a DataFrame:    "
   ]
  },
  {
   "cell_type": "code",
   "execution_count": 12,
   "id": "ce61cae1-5c59-4db3-a7aa-f20ffc6c674c",
   "metadata": {},
   "outputs": [],
   "source": [
    "df = pd.DataFrame({'A': [1, 2, 3], 'B': [4, 5, 6]})"
   ]
  },
  {
   "cell_type": "code",
   "execution_count": 13,
   "id": "77a56b16-53a0-4969-8400-64572e8385da",
   "metadata": {},
   "outputs": [
    {
     "data": {
      "text/plain": [
       "1"
      ]
     },
     "execution_count": 13,
     "metadata": {},
     "output_type": "execute_result"
    }
   ],
   "source": [
    "df['A'][0]"
   ]
  },
  {
   "cell_type": "markdown",
   "id": "8107b486-baac-44bf-aaa1-451ef06e7433",
   "metadata": {},
   "source": [
    "Here is an example of a Series:"
   ]
  },
  {
   "cell_type": "code",
   "execution_count": 15,
   "id": "46d5cd1d-c48a-4542-b8a1-a03eacb8cf9d",
   "metadata": {},
   "outputs": [
    {
     "data": {
      "text/plain": [
       "2"
      ]
     },
     "execution_count": 15,
     "metadata": {},
     "output_type": "execute_result"
    }
   ],
   "source": [
    "s = pd.Series([1, 2, 3])\n",
    "s[1]"
   ]
  },
  {
   "cell_type": "markdown",
   "id": "a823a1d1-2b0e-4f6e-b756-2f3a1150fa98",
   "metadata": {},
   "source": [
    "# Q5. What are some common functions you can use to manipulate data in a Pandas DataFrame? Can you give an example of when you might use one of these functions?"
   ]
  },
  {
   "cell_type": "markdown",
   "id": "f7b83bf9-ff39-4ae0-a520-cd706a905985",
   "metadata": {},
   "source": [
    "Pandas provides a wide range of functions to manipulate data in a DataFrame. Here are some common functions:     \n",
    "These are just a few examples, and Pandas offers many more functions for data manipulation. The choice of function depends on the specific task you want to perform on your data, such as filtering, aggregation, sorting, or merging."
   ]
  },
  {
   "cell_type": "code",
   "execution_count": 17,
   "id": "f357ce51-8ae9-48dd-baa4-64e129fbc775",
   "metadata": {},
   "outputs": [
    {
     "data": {
      "text/html": [
       "<div>\n",
       "<style scoped>\n",
       "    .dataframe tbody tr th:only-of-type {\n",
       "        vertical-align: middle;\n",
       "    }\n",
       "\n",
       "    .dataframe tbody tr th {\n",
       "        vertical-align: top;\n",
       "    }\n",
       "\n",
       "    .dataframe thead th {\n",
       "        text-align: right;\n",
       "    }\n",
       "</style>\n",
       "<table border=\"1\" class=\"dataframe\">\n",
       "  <thead>\n",
       "    <tr style=\"text-align: right;\">\n",
       "      <th></th>\n",
       "      <th>A</th>\n",
       "      <th>B</th>\n",
       "    </tr>\n",
       "  </thead>\n",
       "  <tbody>\n",
       "    <tr>\n",
       "      <th>0</th>\n",
       "      <td>1</td>\n",
       "      <td>4</td>\n",
       "    </tr>\n",
       "    <tr>\n",
       "      <th>1</th>\n",
       "      <td>2</td>\n",
       "      <td>5</td>\n",
       "    </tr>\n",
       "    <tr>\n",
       "      <th>2</th>\n",
       "      <td>3</td>\n",
       "      <td>6</td>\n",
       "    </tr>\n",
       "  </tbody>\n",
       "</table>\n",
       "</div>"
      ],
      "text/plain": [
       "   A  B\n",
       "0  1  4\n",
       "1  2  5\n",
       "2  3  6"
      ]
     },
     "execution_count": 17,
     "metadata": {},
     "output_type": "execute_result"
    }
   ],
   "source": [
    "# head()` and `tail()`**\n",
    "df.head()  # Returns the first 5 rows of the DataFrame"
   ]
  },
  {
   "cell_type": "code",
   "execution_count": 19,
   "id": "8534c1c7-ff9f-4de5-bd92-9bda81bf68f6",
   "metadata": {},
   "outputs": [
    {
     "data": {
      "text/html": [
       "<div>\n",
       "<style scoped>\n",
       "    .dataframe tbody tr th:only-of-type {\n",
       "        vertical-align: middle;\n",
       "    }\n",
       "\n",
       "    .dataframe tbody tr th {\n",
       "        vertical-align: top;\n",
       "    }\n",
       "\n",
       "    .dataframe thead th {\n",
       "        text-align: right;\n",
       "    }\n",
       "</style>\n",
       "<table border=\"1\" class=\"dataframe\">\n",
       "  <thead>\n",
       "    <tr style=\"text-align: right;\">\n",
       "      <th></th>\n",
       "      <th>A</th>\n",
       "      <th>B</th>\n",
       "    </tr>\n",
       "  </thead>\n",
       "  <tbody>\n",
       "    <tr>\n",
       "      <th>0</th>\n",
       "      <td>1</td>\n",
       "      <td>4</td>\n",
       "    </tr>\n",
       "    <tr>\n",
       "      <th>1</th>\n",
       "      <td>2</td>\n",
       "      <td>5</td>\n",
       "    </tr>\n",
       "    <tr>\n",
       "      <th>2</th>\n",
       "      <td>3</td>\n",
       "      <td>6</td>\n",
       "    </tr>\n",
       "  </tbody>\n",
       "</table>\n",
       "</div>"
      ],
      "text/plain": [
       "   A  B\n",
       "0  1  4\n",
       "1  2  5\n",
       "2  3  6"
      ]
     },
     "execution_count": 19,
     "metadata": {},
     "output_type": "execute_result"
    }
   ],
   "source": [
    "df.tail(10)  # Returns the last 10 rows of the DataFrame"
   ]
  },
  {
   "cell_type": "code",
   "execution_count": 20,
   "id": "8a09cd7c-a2a0-4539-9f9c-82df8a5bc5e4",
   "metadata": {},
   "outputs": [
    {
     "data": {
      "text/html": [
       "<div>\n",
       "<style scoped>\n",
       "    .dataframe tbody tr th:only-of-type {\n",
       "        vertical-align: middle;\n",
       "    }\n",
       "\n",
       "    .dataframe tbody tr th {\n",
       "        vertical-align: top;\n",
       "    }\n",
       "\n",
       "    .dataframe thead th {\n",
       "        text-align: right;\n",
       "    }\n",
       "</style>\n",
       "<table border=\"1\" class=\"dataframe\">\n",
       "  <thead>\n",
       "    <tr style=\"text-align: right;\">\n",
       "      <th></th>\n",
       "      <th>A</th>\n",
       "      <th>B</th>\n",
       "    </tr>\n",
       "  </thead>\n",
       "  <tbody>\n",
       "    <tr>\n",
       "      <th>count</th>\n",
       "      <td>3.0</td>\n",
       "      <td>3.0</td>\n",
       "    </tr>\n",
       "    <tr>\n",
       "      <th>mean</th>\n",
       "      <td>2.0</td>\n",
       "      <td>5.0</td>\n",
       "    </tr>\n",
       "    <tr>\n",
       "      <th>std</th>\n",
       "      <td>1.0</td>\n",
       "      <td>1.0</td>\n",
       "    </tr>\n",
       "    <tr>\n",
       "      <th>min</th>\n",
       "      <td>1.0</td>\n",
       "      <td>4.0</td>\n",
       "    </tr>\n",
       "    <tr>\n",
       "      <th>25%</th>\n",
       "      <td>1.5</td>\n",
       "      <td>4.5</td>\n",
       "    </tr>\n",
       "    <tr>\n",
       "      <th>50%</th>\n",
       "      <td>2.0</td>\n",
       "      <td>5.0</td>\n",
       "    </tr>\n",
       "    <tr>\n",
       "      <th>75%</th>\n",
       "      <td>2.5</td>\n",
       "      <td>5.5</td>\n",
       "    </tr>\n",
       "    <tr>\n",
       "      <th>max</th>\n",
       "      <td>3.0</td>\n",
       "      <td>6.0</td>\n",
       "    </tr>\n",
       "  </tbody>\n",
       "</table>\n",
       "</div>"
      ],
      "text/plain": [
       "         A    B\n",
       "count  3.0  3.0\n",
       "mean   2.0  5.0\n",
       "std    1.0  1.0\n",
       "min    1.0  4.0\n",
       "25%    1.5  4.5\n",
       "50%    2.0  5.0\n",
       "75%    2.5  5.5\n",
       "max    3.0  6.0"
      ]
     },
     "execution_count": 20,
     "metadata": {},
     "output_type": "execute_result"
    }
   ],
   "source": [
    "df.describe()  # Generates descriptive statistics of the DataFrame  "
   ]
  },
  {
   "cell_type": "code",
   "execution_count": 21,
   "id": "98457526-4089-4bf9-812d-1d8f96d18d9c",
   "metadata": {},
   "outputs": [
    {
     "name": "stdout",
     "output_type": "stream",
     "text": [
      "<class 'pandas.core.frame.DataFrame'>\n",
      "RangeIndex: 3 entries, 0 to 2\n",
      "Data columns (total 2 columns):\n",
      " #   Column  Non-Null Count  Dtype\n",
      "---  ------  --------------  -----\n",
      " 0   A       3 non-null      int64\n",
      " 1   B       3 non-null      int64\n",
      "dtypes: int64(2)\n",
      "memory usage: 176.0 bytes\n"
     ]
    }
   ],
   "source": [
    "df.info()  # Provides a concise summary of the DataFrame, including data types and non-null values"
   ]
  },
  {
   "cell_type": "code",
   "execution_count": 22,
   "id": "1b7c8e57-3365-4fba-9087-a0322c48aa4c",
   "metadata": {},
   "outputs": [
    {
     "data": {
      "text/plain": [
       "(3, 2)"
      ]
     },
     "execution_count": 22,
     "metadata": {},
     "output_type": "execute_result"
    }
   ],
   "source": [
    "df.shape  # Returns a tuple representing the dimensions of the DataFrame (rows, columns"
   ]
  },
  {
   "cell_type": "code",
   "execution_count": 24,
   "id": "72b5c26f-363c-4e81-a8ab-eb217bfed1ff",
   "metadata": {},
   "outputs": [
    {
     "data": {
      "text/plain": [
       "A    1\n",
       "B    4\n",
       "Name: 0, dtype: int64"
      ]
     },
     "execution_count": 24,
     "metadata": {},
     "output_type": "execute_result"
    }
   ],
   "source": [
    "df.loc[0]  # Access a group of rows and columns by labels or a boolean array"
   ]
  },
  {
   "cell_type": "markdown",
   "id": "a52bd1e9-1c07-483b-9a54-1773ccbbd8a8",
   "metadata": {},
   "source": [
    "# Q6. Which of the following is mutable in nature Series, DataFrame, Panel?"
   ]
  },
  {
   "cell_type": "markdown",
   "id": "fefc4a6a-e248-4977-af99-5c55c001f169",
   "metadata": {},
   "source": [
    "All pandas data structures are value-mutable, meaning that the values they contain can be altered. However, not all pandas data structures are size-mutable. The length of a Series cannot be changed, but, for example, columns can be inserted into a DataFrame.     \n",
    "you can change the values in a Series, DataFrame, or Panel, but you can only add or remove rows and columns from a DataFrame or Panel."
   ]
  },
  {
   "cell_type": "markdown",
   "id": "5c4f053a-8422-49e9-8043-fefe1850fb58",
   "metadata": {},
   "source": [
    "# Q7. Create a DataFrame using multiple Series. Explain with an example."
   ]
  },
  {
   "cell_type": "code",
   "execution_count": 28,
   "id": "28d6f70c-4bb3-4077-9d31-83d5c7945ab9",
   "metadata": {},
   "outputs": [
    {
     "name": "stdout",
     "output_type": "stream",
     "text": [
      "   s1 s2\n",
      "0   1  a\n",
      "1   2  b\n",
      "2   3  c\n",
      "3   4  d\n",
      "4   5  e\n"
     ]
    }
   ],
   "source": [
    "s1 = pd.Series([1, 2, 3, 4, 5])\n",
    "s2 = pd.Series(['a', 'b', 'c', 'd', 'e'])\n",
    "df1 = pd.DataFrame({'s1': s1, 's2': s2})\n",
    "print(df1)"
   ]
  },
  {
   "cell_type": "markdown",
   "id": "339c794e-93a3-460a-8c8f-debc48b36617",
   "metadata": {},
   "source": [
    "As you can see, the DataFrame has two columns, s1 and s2, which correspond to the two Series that we created. The index of the DataFrame is the same as the index of the Series.     \n",
    "You can also create a DataFrame using multiple Series by passing them to the DataFrame() constructor as a list. For example, the following code creates a DataFrame with the same data as the previous example:     "
   ]
  },
  {
   "cell_type": "code",
   "execution_count": 31,
   "id": "b3032fb7-5876-4b63-b181-45b6d3548f0f",
   "metadata": {},
   "outputs": [
    {
     "name": "stdout",
     "output_type": "stream",
     "text": [
      "   0  1  2  3  4\n",
      "0  1  2  3  4  5\n",
      "1  a  b  c  d  e\n"
     ]
    }
   ],
   "source": [
    "ss1 = pd.Series([1, 2, 3, 4, 5])\n",
    "ss2 = pd.Series(['a', 'b', 'c', 'd', 'e'])\n",
    "df2 = pd.DataFrame([ss1, ss2])\n",
    "print(df2)"
   ]
  },
  {
   "cell_type": "markdown",
   "id": "fd0a0a09-f5a2-4866-8032-4b8f4eec394e",
   "metadata": {},
   "source": [
    "Creating a DataFrame using multiple Series can be useful when you have data that is already organized into Series. It can also be useful when you want to create a DataFrame with columns that have different data types."
   ]
  },
  {
   "cell_type": "code",
   "execution_count": null,
   "id": "7f4eefd2-6b5d-49af-8036-d553375e5a8a",
   "metadata": {},
   "outputs": [],
   "source": []
  }
 ],
 "metadata": {
  "kernelspec": {
   "display_name": "Python 3 (ipykernel)",
   "language": "python",
   "name": "python3"
  },
  "language_info": {
   "codemirror_mode": {
    "name": "ipython",
    "version": 3
   },
   "file_extension": ".py",
   "mimetype": "text/x-python",
   "name": "python",
   "nbconvert_exporter": "python",
   "pygments_lexer": "ipython3",
   "version": "3.10.8"
  }
 },
 "nbformat": 4,
 "nbformat_minor": 5
}
